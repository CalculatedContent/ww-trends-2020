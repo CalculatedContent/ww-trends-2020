{
 "cells": [
  {
   "cell_type": "markdown",
   "metadata": {},
   "source": [
    "# Huggingface OpenAI GPT and GPT2 models\n",
    "\n",
    "Hugginface comes with several versions of the OpenAI GPT model for generating facke test\n",
    "\n",
    "Here, we compare the original GPT with the later GPT2. \n",
    "\n",
    "Both models have the exact same architecture, but arev trained with different size data sets.\n",
    "The GPT2 model is trained with a much larger data set and performs significantly better:\n",
    "\n",
    "\n",
    "_\"GPT-2 is a direct scale-up of GPT, with more than 10X the parameters and trained on more than 10X the amount of data.\"_  \n",
    "\n",
    " https://openai.com/blog/better-language-models/\n",
    "\n",
    "\n",
    "### Observations\n",
    "\n",
    "- The distrobution of $\\alpha$ exponents is smaller\n",
    "- Information flow is better in GPT2\n",
    "- Frobenius and Spectral Norms are Larger for GPT2 vs GPT\n",
    "- Embedding / first 2 layers, and last couple layes, have unusually large spectral norms\n",
    "\n",
    "#### Could be a normalization issue ?\n",
    "\n",
    "- BUT I think we see rank collapse in GPT, throwing the metrics\n"
   ]
  },
  {
   "cell_type": "code",
   "execution_count": 1,
   "metadata": {
    "scrolled": false
   },
   "outputs": [],
   "source": [
    "import numpy as np\n",
    "import pandas as pd\n",
    "import numpy as np\n",
    "import scipy.sparse as sp\n",
    "import random, datetime\n",
    "\n",
    "from tqdm import tqdm \n",
    "\n",
    "import os, gc, logging\n",
    "logger = logging.getLogger()\n",
    "\n",
    "import matplotlib\n",
    "import matplotlib.pyplot as plt\n",
    "%matplotlib inline"
   ]
  },
  {
   "cell_type": "code",
   "execution_count": 2,
   "metadata": {},
   "outputs": [
    {
     "name": "stdout",
     "output_type": "stream",
     "text": [
      "Requirement already satisfied: transformers in /Users/charleshmartin/anaconda3/envs/ww/lib/python3.7/site-packages (2.3.0)\n",
      "Requirement already satisfied: boto3 in /Users/charleshmartin/anaconda3/envs/ww/lib/python3.7/site-packages (from transformers) (1.11.0)\n",
      "Requirement already satisfied: regex!=2019.12.17 in /Users/charleshmartin/anaconda3/envs/ww/lib/python3.7/site-packages (from transformers) (2020.1.8)\n",
      "Requirement already satisfied: numpy in /Users/charleshmartin/anaconda3/envs/ww/lib/python3.7/site-packages (from transformers) (1.17.4)\n",
      "Requirement already satisfied: requests in /Users/charleshmartin/anaconda3/envs/ww/lib/python3.7/site-packages (from transformers) (2.22.0)\n",
      "Requirement already satisfied: sentencepiece in /Users/charleshmartin/anaconda3/envs/ww/lib/python3.7/site-packages (from transformers) (0.1.85)\n",
      "Requirement already satisfied: sacremoses in /Users/charleshmartin/anaconda3/envs/ww/lib/python3.7/site-packages (from transformers) (0.0.38)\n",
      "Requirement already satisfied: tqdm in /Users/charleshmartin/anaconda3/envs/ww/lib/python3.7/site-packages (from transformers) (4.41.1)\n",
      "Requirement already satisfied: jmespath<1.0.0,>=0.7.1 in /Users/charleshmartin/anaconda3/envs/ww/lib/python3.7/site-packages (from boto3->transformers) (0.9.4)\n",
      "Requirement already satisfied: botocore<1.15.0,>=1.14.0 in /Users/charleshmartin/anaconda3/envs/ww/lib/python3.7/site-packages (from boto3->transformers) (1.14.0)\n",
      "Requirement already satisfied: s3transfer<0.4.0,>=0.3.0 in /Users/charleshmartin/anaconda3/envs/ww/lib/python3.7/site-packages (from boto3->transformers) (0.3.0)\n",
      "Requirement already satisfied: urllib3!=1.25.0,!=1.25.1,<1.26,>=1.21.1 in /Users/charleshmartin/anaconda3/envs/ww/lib/python3.7/site-packages (from requests->transformers) (1.25.7)\n",
      "Requirement already satisfied: certifi>=2017.4.17 in /Users/charleshmartin/anaconda3/envs/ww/lib/python3.7/site-packages (from requests->transformers) (2019.11.28)\n",
      "Requirement already satisfied: chardet<3.1.0,>=3.0.2 in /Users/charleshmartin/anaconda3/envs/ww/lib/python3.7/site-packages (from requests->transformers) (3.0.4)\n",
      "Requirement already satisfied: idna<2.9,>=2.5 in /Users/charleshmartin/anaconda3/envs/ww/lib/python3.7/site-packages (from requests->transformers) (2.8)\n",
      "Requirement already satisfied: joblib in /Users/charleshmartin/anaconda3/envs/ww/lib/python3.7/site-packages (from sacremoses->transformers) (0.14.1)\n",
      "Requirement already satisfied: six in /Users/charleshmartin/anaconda3/envs/ww/lib/python3.7/site-packages (from sacremoses->transformers) (1.13.0)\n",
      "Requirement already satisfied: click in /Users/charleshmartin/anaconda3/envs/ww/lib/python3.7/site-packages (from sacremoses->transformers) (7.0)\n",
      "Requirement already satisfied: docutils<0.16,>=0.10 in /Users/charleshmartin/anaconda3/envs/ww/lib/python3.7/site-packages (from botocore<1.15.0,>=1.14.0->boto3->transformers) (0.15.2)\n",
      "Requirement already satisfied: python-dateutil<3.0.0,>=2.1 in /Users/charleshmartin/anaconda3/envs/ww/lib/python3.7/site-packages (from botocore<1.15.0,>=1.14.0->boto3->transformers) (2.8.1)\n"
     ]
    }
   ],
   "source": [
    "!pip install transformers"
   ]
  },
  {
   "cell_type": "code",
   "execution_count": 3,
   "metadata": {
    "scrolled": false
   },
   "outputs": [
    {
     "name": "stderr",
     "output_type": "stream",
     "text": [
      "Using TensorFlow backend.\n"
     ]
    },
    {
     "name": "stdout",
     "output_type": "stream",
     "text": [
      "weightwatcher version 0.2.5\n"
     ]
    }
   ],
   "source": [
    "import logging\n",
    "logging.basicConfig(level=logging.INFO)\n",
    "logger = logging.getLogger(__name__)\n",
    "logger.setLevel(logging.INFO)\n",
    "\n",
    "import weightwatcher as ww\n",
    "print(\"weightwatcher version {}\".format(ww.__version__))\n"
   ]
  },
  {
   "cell_type": "code",
   "execution_count": 4,
   "metadata": {},
   "outputs": [
    {
     "name": "stderr",
     "output_type": "stream",
     "text": [
      "INFO:transformers.file_utils:PyTorch version 1.3.1 available.\n"
     ]
    },
    {
     "name": "stdout",
     "output_type": "stream",
     "text": [
      "transformers version 2.3.0\n"
     ]
    }
   ],
   "source": [
    "import torch\n",
    "import transformers\n",
    "from transformers import OpenAIGPTModel,GPT2Model\n",
    "print(\"transformers version {}\".format(transformers.__version__))"
   ]
  },
  {
   "cell_type": "code",
   "execution_count": 5,
   "metadata": {
    "scrolled": false
   },
   "outputs": [
    {
     "name": "stderr",
     "output_type": "stream",
     "text": [
      "INFO:transformers.configuration_utils:loading configuration file https://s3.amazonaws.com/models.huggingface.co/bert/openai-gpt-config.json from cache at /Users/charleshmartin/.cache/torch/transformers/a27bb7c70e9002d7558d2682d5a95f3c0a8b31034616309459e0b51ef07ade09.f59b19eb0e361a0230a1106b66b8c6e7a994cb200cd63d9190cda8d56d75ff85\n",
      "INFO:transformers.configuration_utils:Model config {\n",
      "  \"afn\": \"gelu\",\n",
      "  \"attn_pdrop\": 0.1,\n",
      "  \"embd_pdrop\": 0.1,\n",
      "  \"finetuning_task\": null,\n",
      "  \"id2label\": {\n",
      "    \"0\": \"LABEL_0\",\n",
      "    \"1\": \"LABEL_1\"\n",
      "  },\n",
      "  \"initializer_range\": 0.02,\n",
      "  \"is_decoder\": false,\n",
      "  \"label2id\": {\n",
      "    \"LABEL_0\": 0,\n",
      "    \"LABEL_1\": 1\n",
      "  },\n",
      "  \"layer_norm_epsilon\": 1e-05,\n",
      "  \"n_ctx\": 512,\n",
      "  \"n_embd\": 768,\n",
      "  \"n_head\": 12,\n",
      "  \"n_layer\": 12,\n",
      "  \"n_positions\": 512,\n",
      "  \"n_special\": 0,\n",
      "  \"num_labels\": 2,\n",
      "  \"output_attentions\": false,\n",
      "  \"output_hidden_states\": false,\n",
      "  \"output_past\": true,\n",
      "  \"predict_special_tokens\": true,\n",
      "  \"pruned_heads\": {},\n",
      "  \"resid_pdrop\": 0.1,\n",
      "  \"summary_activation\": null,\n",
      "  \"summary_first_dropout\": 0.1,\n",
      "  \"summary_proj_to_labels\": true,\n",
      "  \"summary_type\": \"cls_index\",\n",
      "  \"summary_use_proj\": true,\n",
      "  \"torchscript\": false,\n",
      "  \"use_bfloat16\": false,\n",
      "  \"vocab_size\": 40478\n",
      "}\n",
      "\n",
      "INFO:transformers.modeling_utils:loading weights file https://s3.amazonaws.com/models.huggingface.co/bert/openai-gpt-pytorch_model.bin from cache at /Users/charleshmartin/.cache/torch/transformers/e45ee1afb14c5d77c946e66cb0fa70073a77882097a1a2cefd51fd24b172355e.e7ee3fcd07c695a4c9f31ca735502c090230d988de03202f7af9ebe1c3a4054c\n"
     ]
    }
   ],
   "source": [
    "gpt_model = OpenAIGPTModel.from_pretrained('openai-gpt')\n",
    "gpt_model.eval();"
   ]
  },
  {
   "cell_type": "code",
   "execution_count": 6,
   "metadata": {
    "scrolled": false
   },
   "outputs": [
    {
     "name": "stderr",
     "output_type": "stream",
     "text": [
      "INFO:transformers.configuration_utils:loading configuration file https://s3.amazonaws.com/models.huggingface.co/bert/gpt2-config.json from cache at /Users/charleshmartin/.cache/torch/transformers/4be02c5697d91738003fb1685c9872f284166aa32e061576bbe6aaeb95649fcf.085d5f6a8e7812ea05ff0e6ed0645ab2e75d80387ad55c1ad9806ee70d272f80\n",
      "INFO:transformers.configuration_utils:Model config {\n",
      "  \"attn_pdrop\": 0.1,\n",
      "  \"embd_pdrop\": 0.1,\n",
      "  \"finetuning_task\": null,\n",
      "  \"id2label\": {\n",
      "    \"0\": \"LABEL_0\",\n",
      "    \"1\": \"LABEL_1\"\n",
      "  },\n",
      "  \"initializer_range\": 0.02,\n",
      "  \"is_decoder\": false,\n",
      "  \"label2id\": {\n",
      "    \"LABEL_0\": 0,\n",
      "    \"LABEL_1\": 1\n",
      "  },\n",
      "  \"layer_norm_epsilon\": 1e-05,\n",
      "  \"n_ctx\": 1024,\n",
      "  \"n_embd\": 768,\n",
      "  \"n_head\": 12,\n",
      "  \"n_layer\": 12,\n",
      "  \"n_positions\": 1024,\n",
      "  \"num_labels\": 2,\n",
      "  \"output_attentions\": false,\n",
      "  \"output_hidden_states\": false,\n",
      "  \"output_past\": true,\n",
      "  \"pruned_heads\": {},\n",
      "  \"resid_pdrop\": 0.1,\n",
      "  \"summary_activation\": null,\n",
      "  \"summary_first_dropout\": 0.1,\n",
      "  \"summary_proj_to_labels\": true,\n",
      "  \"summary_type\": \"cls_index\",\n",
      "  \"summary_use_proj\": true,\n",
      "  \"torchscript\": false,\n",
      "  \"use_bfloat16\": false,\n",
      "  \"vocab_size\": 50257\n",
      "}\n",
      "\n",
      "INFO:transformers.modeling_utils:loading weights file https://s3.amazonaws.com/models.huggingface.co/bert/gpt2-pytorch_model.bin from cache at /Users/charleshmartin/.cache/torch/transformers/4295d67f022061768f4adc386234dbdb781c814c39662dd1662221c309962c55.778cf36f5c4e5d94c8cd9cefcf2a580c8643570eb327f0d4a1f007fab2acbdf1\n"
     ]
    }
   ],
   "source": [
    "gpt2_model = GPT2Model.from_pretrained('gpt2')\n",
    "gpt2_model.eval();"
   ]
  },
  {
   "cell_type": "code",
   "execution_count": 7,
   "metadata": {
    "scrolled": false
   },
   "outputs": [
    {
     "name": "stderr",
     "output_type": "stream",
     "text": [
      "INFO:__main__:\n",
      "\n",
      "python      version 3.7.6 (default, Jan  8 2020, 13:42:34) \n",
      "[Clang 4.0.1 (tags/RELEASE_401/final)]\n",
      "numpy       version 1.17.4\n",
      "tensforflow version 1.15.0\n",
      "keras       version 2.2.4\n",
      "INFO:__main__:Analyzing model\n",
      "INFO:__main__:analyze_weights normalize=True, glorot_fix=False count=1\n",
      "/Users/charleshmartin/anaconda3/envs/ww/lib/python3.7/site-packages/powerlaw.py:700: RuntimeWarning: divide by zero encountered in true_divide\n",
      "  (Theoretical_CDF * (1 - Theoretical_CDF))\n",
      "/Users/charleshmartin/anaconda3/envs/ww/lib/python3.7/site-packages/powerlaw.py:700: RuntimeWarning: invalid value encountered in true_divide\n",
      "  (Theoretical_CDF * (1 - Theoretical_CDF))\n",
      "INFO:__main__:analyze_weights normalize=True, glorot_fix=False count=1\n",
      "/Users/charleshmartin/anaconda3/envs/ww/lib/python3.7/site-packages/powerlaw.py:700: RuntimeWarning: divide by zero encountered in true_divide\n",
      "  (Theoretical_CDF * (1 - Theoretical_CDF))\n",
      "/Users/charleshmartin/anaconda3/envs/ww/lib/python3.7/site-packages/powerlaw.py:700: RuntimeWarning: invalid value encountered in true_divide\n",
      "  (Theoretical_CDF * (1 - Theoretical_CDF))\n",
      "INFO:__main__:analyze_weights normalize=True, glorot_fix=False count=1\n",
      "/Users/charleshmartin/anaconda3/envs/ww/lib/python3.7/site-packages/powerlaw.py:700: RuntimeWarning: divide by zero encountered in true_divide\n",
      "  (Theoretical_CDF * (1 - Theoretical_CDF))\n",
      "/Users/charleshmartin/anaconda3/envs/ww/lib/python3.7/site-packages/powerlaw.py:700: RuntimeWarning: invalid value encountered in true_divide\n",
      "  (Theoretical_CDF * (1 - Theoretical_CDF))\n",
      "INFO:__main__:analyze_weights normalize=True, glorot_fix=False count=1\n",
      "/Users/charleshmartin/anaconda3/envs/ww/lib/python3.7/site-packages/powerlaw.py:700: RuntimeWarning: divide by zero encountered in true_divide\n",
      "  (Theoretical_CDF * (1 - Theoretical_CDF))\n",
      "/Users/charleshmartin/anaconda3/envs/ww/lib/python3.7/site-packages/powerlaw.py:700: RuntimeWarning: invalid value encountered in true_divide\n",
      "  (Theoretical_CDF * (1 - Theoretical_CDF))\n",
      "INFO:__main__:analyze_weights normalize=True, glorot_fix=False count=1\n",
      "/Users/charleshmartin/anaconda3/envs/ww/lib/python3.7/site-packages/powerlaw.py:700: RuntimeWarning: divide by zero encountered in true_divide\n",
      "  (Theoretical_CDF * (1 - Theoretical_CDF))\n",
      "/Users/charleshmartin/anaconda3/envs/ww/lib/python3.7/site-packages/powerlaw.py:700: RuntimeWarning: invalid value encountered in true_divide\n",
      "  (Theoretical_CDF * (1 - Theoretical_CDF))\n",
      "INFO:__main__:analyze_weights normalize=True, glorot_fix=False count=1\n",
      "/Users/charleshmartin/anaconda3/envs/ww/lib/python3.7/site-packages/powerlaw.py:700: RuntimeWarning: divide by zero encountered in true_divide\n",
      "  (Theoretical_CDF * (1 - Theoretical_CDF))\n",
      "/Users/charleshmartin/anaconda3/envs/ww/lib/python3.7/site-packages/powerlaw.py:700: RuntimeWarning: invalid value encountered in true_divide\n",
      "  (Theoretical_CDF * (1 - Theoretical_CDF))\n",
      "INFO:__main__:analyze_weights normalize=True, glorot_fix=False count=1\n",
      "/Users/charleshmartin/anaconda3/envs/ww/lib/python3.7/site-packages/powerlaw.py:700: RuntimeWarning: divide by zero encountered in true_divide\n",
      "  (Theoretical_CDF * (1 - Theoretical_CDF))\n",
      "/Users/charleshmartin/anaconda3/envs/ww/lib/python3.7/site-packages/powerlaw.py:700: RuntimeWarning: invalid value encountered in true_divide\n",
      "  (Theoretical_CDF * (1 - Theoretical_CDF))\n",
      "INFO:__main__:analyze_weights normalize=True, glorot_fix=False count=1\n",
      "/Users/charleshmartin/anaconda3/envs/ww/lib/python3.7/site-packages/powerlaw.py:700: RuntimeWarning: divide by zero encountered in true_divide\n",
      "  (Theoretical_CDF * (1 - Theoretical_CDF))\n",
      "/Users/charleshmartin/anaconda3/envs/ww/lib/python3.7/site-packages/powerlaw.py:700: RuntimeWarning: invalid value encountered in true_divide\n",
      "  (Theoretical_CDF * (1 - Theoretical_CDF))\n",
      "INFO:__main__:analyze_weights normalize=True, glorot_fix=False count=1\n",
      "/Users/charleshmartin/anaconda3/envs/ww/lib/python3.7/site-packages/powerlaw.py:700: RuntimeWarning: divide by zero encountered in true_divide\n",
      "  (Theoretical_CDF * (1 - Theoretical_CDF))\n",
      "/Users/charleshmartin/anaconda3/envs/ww/lib/python3.7/site-packages/powerlaw.py:700: RuntimeWarning: invalid value encountered in true_divide\n",
      "  (Theoretical_CDF * (1 - Theoretical_CDF))\n",
      "INFO:__main__:analyze_weights normalize=True, glorot_fix=False count=1\n",
      "/Users/charleshmartin/anaconda3/envs/ww/lib/python3.7/site-packages/powerlaw.py:700: RuntimeWarning: divide by zero encountered in true_divide\n",
      "  (Theoretical_CDF * (1 - Theoretical_CDF))\n",
      "/Users/charleshmartin/anaconda3/envs/ww/lib/python3.7/site-packages/powerlaw.py:700: RuntimeWarning: invalid value encountered in true_divide\n",
      "  (Theoretical_CDF * (1 - Theoretical_CDF))\n",
      "INFO:__main__:analyze_weights normalize=True, glorot_fix=False count=1\n",
      "/Users/charleshmartin/anaconda3/envs/ww/lib/python3.7/site-packages/powerlaw.py:700: RuntimeWarning: divide by zero encountered in true_divide\n",
      "  (Theoretical_CDF * (1 - Theoretical_CDF))\n",
      "/Users/charleshmartin/anaconda3/envs/ww/lib/python3.7/site-packages/powerlaw.py:700: RuntimeWarning: invalid value encountered in true_divide\n",
      "  (Theoretical_CDF * (1 - Theoretical_CDF))\n",
      "INFO:__main__:analyze_weights normalize=True, glorot_fix=False count=1\n",
      "/Users/charleshmartin/anaconda3/envs/ww/lib/python3.7/site-packages/powerlaw.py:700: RuntimeWarning: divide by zero encountered in true_divide\n",
      "  (Theoretical_CDF * (1 - Theoretical_CDF))\n",
      "/Users/charleshmartin/anaconda3/envs/ww/lib/python3.7/site-packages/powerlaw.py:700: RuntimeWarning: invalid value encountered in true_divide\n",
      "  (Theoretical_CDF * (1 - Theoretical_CDF))\n",
      "INFO:__main__:analyze_weights normalize=True, glorot_fix=False count=1\n",
      "/Users/charleshmartin/anaconda3/envs/ww/lib/python3.7/site-packages/powerlaw.py:700: RuntimeWarning: divide by zero encountered in true_divide\n",
      "  (Theoretical_CDF * (1 - Theoretical_CDF))\n",
      "/Users/charleshmartin/anaconda3/envs/ww/lib/python3.7/site-packages/powerlaw.py:700: RuntimeWarning: invalid value encountered in true_divide\n",
      "  (Theoretical_CDF * (1 - Theoretical_CDF))\n",
      "INFO:__main__:analyze_weights normalize=True, glorot_fix=False count=1\n",
      "/Users/charleshmartin/anaconda3/envs/ww/lib/python3.7/site-packages/powerlaw.py:700: RuntimeWarning: divide by zero encountered in true_divide\n",
      "  (Theoretical_CDF * (1 - Theoretical_CDF))\n",
      "/Users/charleshmartin/anaconda3/envs/ww/lib/python3.7/site-packages/powerlaw.py:700: RuntimeWarning: invalid value encountered in true_divide\n",
      "  (Theoretical_CDF * (1 - Theoretical_CDF))\n",
      "INFO:__main__:analyze_weights normalize=True, glorot_fix=False count=1\n",
      "/Users/charleshmartin/anaconda3/envs/ww/lib/python3.7/site-packages/powerlaw.py:700: RuntimeWarning: divide by zero encountered in true_divide\n",
      "  (Theoretical_CDF * (1 - Theoretical_CDF))\n",
      "/Users/charleshmartin/anaconda3/envs/ww/lib/python3.7/site-packages/powerlaw.py:700: RuntimeWarning: invalid value encountered in true_divide\n",
      "  (Theoretical_CDF * (1 - Theoretical_CDF))\n",
      "INFO:__main__:analyze_weights normalize=True, glorot_fix=False count=1\n",
      "/Users/charleshmartin/anaconda3/envs/ww/lib/python3.7/site-packages/powerlaw.py:700: RuntimeWarning: divide by zero encountered in true_divide\n",
      "  (Theoretical_CDF * (1 - Theoretical_CDF))\n",
      "/Users/charleshmartin/anaconda3/envs/ww/lib/python3.7/site-packages/powerlaw.py:700: RuntimeWarning: invalid value encountered in true_divide\n",
      "  (Theoretical_CDF * (1 - Theoretical_CDF))\n",
      "INFO:__main__:analyze_weights normalize=True, glorot_fix=False count=1\n",
      "/Users/charleshmartin/anaconda3/envs/ww/lib/python3.7/site-packages/powerlaw.py:700: RuntimeWarning: divide by zero encountered in true_divide\n",
      "  (Theoretical_CDF * (1 - Theoretical_CDF))\n",
      "/Users/charleshmartin/anaconda3/envs/ww/lib/python3.7/site-packages/powerlaw.py:700: RuntimeWarning: invalid value encountered in true_divide\n",
      "  (Theoretical_CDF * (1 - Theoretical_CDF))\n",
      "INFO:__main__:analyze_weights normalize=True, glorot_fix=False count=1\n",
      "/Users/charleshmartin/anaconda3/envs/ww/lib/python3.7/site-packages/powerlaw.py:700: RuntimeWarning: divide by zero encountered in true_divide\n",
      "  (Theoretical_CDF * (1 - Theoretical_CDF))\n",
      "/Users/charleshmartin/anaconda3/envs/ww/lib/python3.7/site-packages/powerlaw.py:700: RuntimeWarning: invalid value encountered in true_divide\n",
      "  (Theoretical_CDF * (1 - Theoretical_CDF))\n"
     ]
    },
    {
     "name": "stderr",
     "output_type": "stream",
     "text": [
      "INFO:__main__:analyze_weights normalize=True, glorot_fix=False count=1\n",
      "/Users/charleshmartin/anaconda3/envs/ww/lib/python3.7/site-packages/powerlaw.py:700: RuntimeWarning: divide by zero encountered in true_divide\n",
      "  (Theoretical_CDF * (1 - Theoretical_CDF))\n",
      "/Users/charleshmartin/anaconda3/envs/ww/lib/python3.7/site-packages/powerlaw.py:700: RuntimeWarning: invalid value encountered in true_divide\n",
      "  (Theoretical_CDF * (1 - Theoretical_CDF))\n",
      "INFO:__main__:analyze_weights normalize=True, glorot_fix=False count=1\n",
      "/Users/charleshmartin/anaconda3/envs/ww/lib/python3.7/site-packages/powerlaw.py:700: RuntimeWarning: divide by zero encountered in true_divide\n",
      "  (Theoretical_CDF * (1 - Theoretical_CDF))\n",
      "/Users/charleshmartin/anaconda3/envs/ww/lib/python3.7/site-packages/powerlaw.py:700: RuntimeWarning: invalid value encountered in true_divide\n",
      "  (Theoretical_CDF * (1 - Theoretical_CDF))\n",
      "INFO:__main__:analyze_weights normalize=True, glorot_fix=False count=1\n",
      "/Users/charleshmartin/anaconda3/envs/ww/lib/python3.7/site-packages/powerlaw.py:700: RuntimeWarning: divide by zero encountered in true_divide\n",
      "  (Theoretical_CDF * (1 - Theoretical_CDF))\n",
      "/Users/charleshmartin/anaconda3/envs/ww/lib/python3.7/site-packages/powerlaw.py:700: RuntimeWarning: invalid value encountered in true_divide\n",
      "  (Theoretical_CDF * (1 - Theoretical_CDF))\n",
      "INFO:__main__:analyze_weights normalize=True, glorot_fix=False count=1\n",
      "/Users/charleshmartin/anaconda3/envs/ww/lib/python3.7/site-packages/powerlaw.py:700: RuntimeWarning: divide by zero encountered in true_divide\n",
      "  (Theoretical_CDF * (1 - Theoretical_CDF))\n",
      "/Users/charleshmartin/anaconda3/envs/ww/lib/python3.7/site-packages/powerlaw.py:700: RuntimeWarning: invalid value encountered in true_divide\n",
      "  (Theoretical_CDF * (1 - Theoretical_CDF))\n",
      "INFO:__main__:analyze_weights normalize=True, glorot_fix=False count=1\n",
      "/Users/charleshmartin/anaconda3/envs/ww/lib/python3.7/site-packages/powerlaw.py:700: RuntimeWarning: divide by zero encountered in true_divide\n",
      "  (Theoretical_CDF * (1 - Theoretical_CDF))\n",
      "/Users/charleshmartin/anaconda3/envs/ww/lib/python3.7/site-packages/powerlaw.py:700: RuntimeWarning: invalid value encountered in true_divide\n",
      "  (Theoretical_CDF * (1 - Theoretical_CDF))\n",
      "INFO:__main__:analyze_weights normalize=True, glorot_fix=False count=1\n",
      "/Users/charleshmartin/anaconda3/envs/ww/lib/python3.7/site-packages/powerlaw.py:700: RuntimeWarning: divide by zero encountered in true_divide\n",
      "  (Theoretical_CDF * (1 - Theoretical_CDF))\n",
      "/Users/charleshmartin/anaconda3/envs/ww/lib/python3.7/site-packages/powerlaw.py:700: RuntimeWarning: invalid value encountered in true_divide\n",
      "  (Theoretical_CDF * (1 - Theoretical_CDF))\n",
      "/Users/charleshmartin/anaconda3/envs/ww/lib/python3.7/site-packages/powerlaw.py:1174: RuntimeWarning: overflow encountered in power\n",
      "  return x**-self.alpha\n",
      "/Users/charleshmartin/anaconda3/envs/ww/lib/python3.7/site-packages/powerlaw.py:825: RuntimeWarning: invalid value encountered in multiply\n",
      "  likelihoods = f*C\n",
      "INFO:__main__:analyze_weights normalize=True, glorot_fix=False count=1\n",
      "/Users/charleshmartin/anaconda3/envs/ww/lib/python3.7/site-packages/powerlaw.py:700: RuntimeWarning: divide by zero encountered in true_divide\n",
      "  (Theoretical_CDF * (1 - Theoretical_CDF))\n",
      "/Users/charleshmartin/anaconda3/envs/ww/lib/python3.7/site-packages/powerlaw.py:700: RuntimeWarning: invalid value encountered in true_divide\n",
      "  (Theoretical_CDF * (1 - Theoretical_CDF))\n",
      "INFO:__main__:analyze_weights normalize=True, glorot_fix=False count=1\n",
      "/Users/charleshmartin/anaconda3/envs/ww/lib/python3.7/site-packages/powerlaw.py:700: RuntimeWarning: divide by zero encountered in true_divide\n",
      "  (Theoretical_CDF * (1 - Theoretical_CDF))\n",
      "/Users/charleshmartin/anaconda3/envs/ww/lib/python3.7/site-packages/powerlaw.py:700: RuntimeWarning: invalid value encountered in true_divide\n",
      "  (Theoretical_CDF * (1 - Theoretical_CDF))\n",
      "INFO:__main__:analyze_weights normalize=True, glorot_fix=False count=1\n",
      "/Users/charleshmartin/anaconda3/envs/ww/lib/python3.7/site-packages/powerlaw.py:700: RuntimeWarning: divide by zero encountered in true_divide\n",
      "  (Theoretical_CDF * (1 - Theoretical_CDF))\n",
      "/Users/charleshmartin/anaconda3/envs/ww/lib/python3.7/site-packages/powerlaw.py:700: RuntimeWarning: invalid value encountered in true_divide\n",
      "  (Theoretical_CDF * (1 - Theoretical_CDF))\n",
      "INFO:__main__:analyze_weights normalize=True, glorot_fix=False count=1\n",
      "/Users/charleshmartin/anaconda3/envs/ww/lib/python3.7/site-packages/powerlaw.py:700: RuntimeWarning: divide by zero encountered in true_divide\n",
      "  (Theoretical_CDF * (1 - Theoretical_CDF))\n",
      "/Users/charleshmartin/anaconda3/envs/ww/lib/python3.7/site-packages/powerlaw.py:700: RuntimeWarning: invalid value encountered in true_divide\n",
      "  (Theoretical_CDF * (1 - Theoretical_CDF))\n",
      "INFO:__main__:analyze_weights normalize=True, glorot_fix=False count=1\n",
      "/Users/charleshmartin/anaconda3/envs/ww/lib/python3.7/site-packages/powerlaw.py:700: RuntimeWarning: divide by zero encountered in true_divide\n",
      "  (Theoretical_CDF * (1 - Theoretical_CDF))\n",
      "/Users/charleshmartin/anaconda3/envs/ww/lib/python3.7/site-packages/powerlaw.py:700: RuntimeWarning: invalid value encountered in true_divide\n",
      "  (Theoretical_CDF * (1 - Theoretical_CDF))\n",
      "INFO:__main__:analyze_weights normalize=True, glorot_fix=False count=1\n",
      "/Users/charleshmartin/anaconda3/envs/ww/lib/python3.7/site-packages/powerlaw.py:700: RuntimeWarning: divide by zero encountered in true_divide\n",
      "  (Theoretical_CDF * (1 - Theoretical_CDF))\n",
      "/Users/charleshmartin/anaconda3/envs/ww/lib/python3.7/site-packages/powerlaw.py:700: RuntimeWarning: invalid value encountered in true_divide\n",
      "  (Theoretical_CDF * (1 - Theoretical_CDF))\n",
      "INFO:__main__:analyze_weights normalize=True, glorot_fix=False count=1\n",
      "/Users/charleshmartin/anaconda3/envs/ww/lib/python3.7/site-packages/powerlaw.py:700: RuntimeWarning: divide by zero encountered in true_divide\n",
      "  (Theoretical_CDF * (1 - Theoretical_CDF))\n",
      "/Users/charleshmartin/anaconda3/envs/ww/lib/python3.7/site-packages/powerlaw.py:700: RuntimeWarning: invalid value encountered in true_divide\n",
      "  (Theoretical_CDF * (1 - Theoretical_CDF))\n",
      "INFO:__main__:analyze_weights normalize=True, glorot_fix=False count=1\n",
      "/Users/charleshmartin/anaconda3/envs/ww/lib/python3.7/site-packages/powerlaw.py:700: RuntimeWarning: divide by zero encountered in true_divide\n",
      "  (Theoretical_CDF * (1 - Theoretical_CDF))\n",
      "/Users/charleshmartin/anaconda3/envs/ww/lib/python3.7/site-packages/powerlaw.py:700: RuntimeWarning: invalid value encountered in true_divide\n",
      "  (Theoretical_CDF * (1 - Theoretical_CDF))\n",
      "INFO:__main__:analyze_weights normalize=True, glorot_fix=False count=1\n",
      "/Users/charleshmartin/anaconda3/envs/ww/lib/python3.7/site-packages/powerlaw.py:700: RuntimeWarning: divide by zero encountered in true_divide\n",
      "  (Theoretical_CDF * (1 - Theoretical_CDF))\n",
      "/Users/charleshmartin/anaconda3/envs/ww/lib/python3.7/site-packages/powerlaw.py:700: RuntimeWarning: invalid value encountered in true_divide\n",
      "  (Theoretical_CDF * (1 - Theoretical_CDF))\n",
      "INFO:__main__:analyze_weights normalize=True, glorot_fix=False count=1\n",
      "/Users/charleshmartin/anaconda3/envs/ww/lib/python3.7/site-packages/powerlaw.py:700: RuntimeWarning: divide by zero encountered in true_divide\n",
      "  (Theoretical_CDF * (1 - Theoretical_CDF))\n",
      "/Users/charleshmartin/anaconda3/envs/ww/lib/python3.7/site-packages/powerlaw.py:700: RuntimeWarning: invalid value encountered in true_divide\n",
      "  (Theoretical_CDF * (1 - Theoretical_CDF))\n",
      "INFO:__main__:analyze_weights normalize=True, glorot_fix=False count=1\n",
      "/Users/charleshmartin/anaconda3/envs/ww/lib/python3.7/site-packages/powerlaw.py:700: RuntimeWarning: divide by zero encountered in true_divide\n",
      "  (Theoretical_CDF * (1 - Theoretical_CDF))\n",
      "/Users/charleshmartin/anaconda3/envs/ww/lib/python3.7/site-packages/powerlaw.py:700: RuntimeWarning: invalid value encountered in true_divide\n",
      "  (Theoretical_CDF * (1 - Theoretical_CDF))\n",
      "INFO:__main__:analyze_weights normalize=True, glorot_fix=False count=1\n",
      "/Users/charleshmartin/anaconda3/envs/ww/lib/python3.7/site-packages/powerlaw.py:700: RuntimeWarning: divide by zero encountered in true_divide\n",
      "  (Theoretical_CDF * (1 - Theoretical_CDF))\n",
      "/Users/charleshmartin/anaconda3/envs/ww/lib/python3.7/site-packages/powerlaw.py:700: RuntimeWarning: invalid value encountered in true_divide\n",
      "  (Theoretical_CDF * (1 - Theoretical_CDF))\n"
     ]
    },
    {
     "name": "stderr",
     "output_type": "stream",
     "text": [
      "INFO:__main__:analyze_weights normalize=True, glorot_fix=False count=1\n",
      "/Users/charleshmartin/anaconda3/envs/ww/lib/python3.7/site-packages/powerlaw.py:700: RuntimeWarning: divide by zero encountered in true_divide\n",
      "  (Theoretical_CDF * (1 - Theoretical_CDF))\n",
      "/Users/charleshmartin/anaconda3/envs/ww/lib/python3.7/site-packages/powerlaw.py:700: RuntimeWarning: invalid value encountered in true_divide\n",
      "  (Theoretical_CDF * (1 - Theoretical_CDF))\n",
      "INFO:__main__:analyze_weights normalize=True, glorot_fix=False count=1\n",
      "/Users/charleshmartin/anaconda3/envs/ww/lib/python3.7/site-packages/powerlaw.py:700: RuntimeWarning: divide by zero encountered in true_divide\n",
      "  (Theoretical_CDF * (1 - Theoretical_CDF))\n",
      "/Users/charleshmartin/anaconda3/envs/ww/lib/python3.7/site-packages/powerlaw.py:700: RuntimeWarning: invalid value encountered in true_divide\n",
      "  (Theoretical_CDF * (1 - Theoretical_CDF))\n",
      "INFO:__main__:analyze_weights normalize=True, glorot_fix=False count=1\n",
      "/Users/charleshmartin/anaconda3/envs/ww/lib/python3.7/site-packages/powerlaw.py:700: RuntimeWarning: divide by zero encountered in true_divide\n",
      "  (Theoretical_CDF * (1 - Theoretical_CDF))\n",
      "/Users/charleshmartin/anaconda3/envs/ww/lib/python3.7/site-packages/powerlaw.py:700: RuntimeWarning: invalid value encountered in true_divide\n",
      "  (Theoretical_CDF * (1 - Theoretical_CDF))\n",
      "INFO:__main__:analyze_weights normalize=True, glorot_fix=False count=1\n",
      "/Users/charleshmartin/anaconda3/envs/ww/lib/python3.7/site-packages/powerlaw.py:700: RuntimeWarning: divide by zero encountered in true_divide\n",
      "  (Theoretical_CDF * (1 - Theoretical_CDF))\n",
      "/Users/charleshmartin/anaconda3/envs/ww/lib/python3.7/site-packages/powerlaw.py:700: RuntimeWarning: invalid value encountered in true_divide\n",
      "  (Theoretical_CDF * (1 - Theoretical_CDF))\n",
      "INFO:__main__:analyze_weights normalize=True, glorot_fix=False count=1\n",
      "/Users/charleshmartin/anaconda3/envs/ww/lib/python3.7/site-packages/powerlaw.py:700: RuntimeWarning: divide by zero encountered in true_divide\n",
      "  (Theoretical_CDF * (1 - Theoretical_CDF))\n",
      "/Users/charleshmartin/anaconda3/envs/ww/lib/python3.7/site-packages/powerlaw.py:700: RuntimeWarning: invalid value encountered in true_divide\n",
      "  (Theoretical_CDF * (1 - Theoretical_CDF))\n",
      "INFO:__main__:analyze_weights normalize=True, glorot_fix=False count=1\n",
      "/Users/charleshmartin/anaconda3/envs/ww/lib/python3.7/site-packages/powerlaw.py:700: RuntimeWarning: divide by zero encountered in true_divide\n",
      "  (Theoretical_CDF * (1 - Theoretical_CDF))\n",
      "/Users/charleshmartin/anaconda3/envs/ww/lib/python3.7/site-packages/powerlaw.py:700: RuntimeWarning: invalid value encountered in true_divide\n",
      "  (Theoretical_CDF * (1 - Theoretical_CDF))\n",
      "INFO:__main__:analyze_weights normalize=True, glorot_fix=False count=1\n",
      "/Users/charleshmartin/anaconda3/envs/ww/lib/python3.7/site-packages/powerlaw.py:700: RuntimeWarning: divide by zero encountered in true_divide\n",
      "  (Theoretical_CDF * (1 - Theoretical_CDF))\n",
      "/Users/charleshmartin/anaconda3/envs/ww/lib/python3.7/site-packages/powerlaw.py:700: RuntimeWarning: invalid value encountered in true_divide\n",
      "  (Theoretical_CDF * (1 - Theoretical_CDF))\n",
      "INFO:__main__:analyze_weights normalize=True, glorot_fix=False count=1\n",
      "/Users/charleshmartin/anaconda3/envs/ww/lib/python3.7/site-packages/powerlaw.py:700: RuntimeWarning: divide by zero encountered in true_divide\n",
      "  (Theoretical_CDF * (1 - Theoretical_CDF))\n",
      "/Users/charleshmartin/anaconda3/envs/ww/lib/python3.7/site-packages/powerlaw.py:700: RuntimeWarning: invalid value encountered in true_divide\n",
      "  (Theoretical_CDF * (1 - Theoretical_CDF))\n",
      "INFO:__main__:analyze_weights normalize=True, glorot_fix=False count=1\n",
      "/Users/charleshmartin/anaconda3/envs/ww/lib/python3.7/site-packages/powerlaw.py:700: RuntimeWarning: divide by zero encountered in true_divide\n",
      "  (Theoretical_CDF * (1 - Theoretical_CDF))\n",
      "/Users/charleshmartin/anaconda3/envs/ww/lib/python3.7/site-packages/powerlaw.py:700: RuntimeWarning: invalid value encountered in true_divide\n",
      "  (Theoretical_CDF * (1 - Theoretical_CDF))\n",
      "INFO:__main__:analyze_weights normalize=True, glorot_fix=False count=1\n",
      "/Users/charleshmartin/anaconda3/envs/ww/lib/python3.7/site-packages/powerlaw.py:700: RuntimeWarning: divide by zero encountered in true_divide\n",
      "  (Theoretical_CDF * (1 - Theoretical_CDF))\n",
      "/Users/charleshmartin/anaconda3/envs/ww/lib/python3.7/site-packages/powerlaw.py:700: RuntimeWarning: invalid value encountered in true_divide\n",
      "  (Theoretical_CDF * (1 - Theoretical_CDF))\n",
      "INFO:__main__:analyze_weights normalize=True, glorot_fix=False count=1\n",
      "/Users/charleshmartin/anaconda3/envs/ww/lib/python3.7/site-packages/powerlaw.py:700: RuntimeWarning: divide by zero encountered in true_divide\n",
      "  (Theoretical_CDF * (1 - Theoretical_CDF))\n",
      "/Users/charleshmartin/anaconda3/envs/ww/lib/python3.7/site-packages/powerlaw.py:700: RuntimeWarning: invalid value encountered in true_divide\n",
      "  (Theoretical_CDF * (1 - Theoretical_CDF))\n",
      "INFO:__main__:analyze_weights normalize=True, glorot_fix=False count=1\n",
      "/Users/charleshmartin/anaconda3/envs/ww/lib/python3.7/site-packages/powerlaw.py:700: RuntimeWarning: divide by zero encountered in true_divide\n",
      "  (Theoretical_CDF * (1 - Theoretical_CDF))\n",
      "/Users/charleshmartin/anaconda3/envs/ww/lib/python3.7/site-packages/powerlaw.py:700: RuntimeWarning: invalid value encountered in true_divide\n",
      "  (Theoretical_CDF * (1 - Theoretical_CDF))\n",
      "INFO:__main__:analyze_weights normalize=True, glorot_fix=False count=1\n",
      "/Users/charleshmartin/anaconda3/envs/ww/lib/python3.7/site-packages/powerlaw.py:700: RuntimeWarning: divide by zero encountered in true_divide\n",
      "  (Theoretical_CDF * (1 - Theoretical_CDF))\n",
      "/Users/charleshmartin/anaconda3/envs/ww/lib/python3.7/site-packages/powerlaw.py:700: RuntimeWarning: invalid value encountered in true_divide\n",
      "  (Theoretical_CDF * (1 - Theoretical_CDF))\n",
      "INFO:__main__:analyze_weights normalize=True, glorot_fix=False count=1\n",
      "/Users/charleshmartin/anaconda3/envs/ww/lib/python3.7/site-packages/powerlaw.py:700: RuntimeWarning: divide by zero encountered in true_divide\n",
      "  (Theoretical_CDF * (1 - Theoretical_CDF))\n",
      "/Users/charleshmartin/anaconda3/envs/ww/lib/python3.7/site-packages/powerlaw.py:700: RuntimeWarning: invalid value encountered in true_divide\n",
      "  (Theoretical_CDF * (1 - Theoretical_CDF))\n",
      "INFO:__main__:### Printing results ###\n",
      "INFO:__main__:Check: min: 0.03380704422791799, max: 0.12320485338300652, avg: 0.052763754847183625\n",
      "INFO:__main__:Check compound: min: 0.03380704422791799, max: 0.12320485338300652, avg: 0.052763754847183625\n",
      "INFO:__main__:CheckTF: min: False, max: False, avg: 0.0\n",
      "INFO:__main__:CheckTF compound: min: 0.0, max: 0.0, avg: 0.0\n",
      "INFO:__main__:Norm: min: 18.35918617248535, max: 435.2654113769531, avg: 55.67984390258789\n",
      "INFO:__main__:Norm compound: min: 18.35918617248535, max: 435.2654113769531, avg: 55.67984390258789\n",
      "INFO:__main__:LogNorm: min: 1.2638534307479858, max: 2.63875412940979, avg: 1.6584347486495972\n",
      "INFO:__main__:LogNorm compound: min: 1.2638534307479858, max: 2.63875412940979, avg: 1.6584347486495972\n",
      "INFO:__main__:Norm X: min: 0.02464732527732849, max: 1.2763087749481201, avg: 0.11087705940008163\n",
      "INFO:__main__:Norm X compound: min: 0.02464732527732849, max: 1.2763087749481201, avg: 0.11087705940008163\n",
      "INFO:__main__:LogNorm X: min: -1.6082302331924438, max: 0.10595575720071793, avg: -1.1606698036193848\n",
      "INFO:__main__:LogNorm X compound: min: -1.6082302331924438, max: 0.10595575720071793, avg: -1.1606698036193848\n",
      "INFO:__main__:Alpha: min: 1.4903037256253193, max: 13.20685895824256, avg: 4.6274404515736585\n",
      "INFO:__main__:Alpha compound: min: 1.4903037256253193, max: 13.20685895824256, avg: 4.6274404515736585\n",
      "INFO:__main__:Alpha Weighted: min: -30.68856025192432, max: 0.3038784186264211, avg: -7.890307531748772\n",
      "INFO:__main__:Alpha Weighted compound: min: -30.68856025192432, max: 0.3038784186264211, avg: -7.890307531748772\n",
      "INFO:__main__:Spectral Norm: min: 0.003665992757305503, max: 1.2628389596939087, avg: 0.0719970241189003\n",
      "INFO:__main__:Spectral Norm compound: min: 0.003665992757305503, max: 1.2628389596939087, avg: 0.0719970241189003\n",
      "INFO:__main__:Softrank: min: 3.706308585605503, max: 145.94218057565857, avg: 51.86790797557598\n",
      "INFO:__main__:Softrank compound: min: 3.706308585605503, max: 145.94218057565857, avg: 51.86790797557598\n"
     ]
    },
    {
     "name": "stderr",
     "output_type": "stream",
     "text": [
      "INFO:__main__:Softrank Log: min: 0.5689415756537938, max: 2.1641808309183004, avg: 1.5379734546455066\n",
      "INFO:__main__:Softrank Log compound: min: 0.5689415756537938, max: 2.1641808309183004, avg: 1.5379734546455066\n",
      "INFO:__main__:Softrank Log Ratio: min: 1.1208311319351196, max: 5.626460075378418, avg: 2.340986490249634\n",
      "INFO:__main__:Softrank Log Ratio compound: min: 1.1208311319351196, max: 5.626460075378418, avg: 2.340986490249634\n",
      "INFO:__main__:alpha pNorm: min: -30.18689927397268, max: 0.3041312855340156, avg: -7.621351888229554\n",
      "INFO:__main__:alpha pNorm compound: min: -30.18689927397268, max: 0.3041312855340156, avg: -7.621351888229554\n",
      "INFO:__main__:### Printing results ###\n",
      "INFO:__main__:Check: min: 0.03380704422791799, max: 0.12320485338300652, avg: 0.052763754847183625\n",
      "INFO:__main__:Check compound: min: 0.03380704422791799, max: 0.12320485338300652, avg: 0.052763754847183625\n",
      "INFO:__main__:CheckTF: min: False, max: False, avg: 0.0\n",
      "INFO:__main__:CheckTF compound: min: 0.0, max: 0.0, avg: 0.0\n",
      "INFO:__main__:Norm: min: 18.35918617248535, max: 435.2654113769531, avg: 55.67984390258789\n",
      "INFO:__main__:Norm compound: min: 18.35918617248535, max: 435.2654113769531, avg: 55.67984390258789\n",
      "INFO:__main__:LogNorm: min: 1.2638534307479858, max: 2.63875412940979, avg: 1.6584347486495972\n",
      "INFO:__main__:LogNorm compound: min: 1.2638534307479858, max: 2.63875412940979, avg: 1.6584347486495972\n",
      "INFO:__main__:Norm X: min: 0.02464732527732849, max: 1.2763087749481201, avg: 0.11087705940008163\n",
      "INFO:__main__:Norm X compound: min: 0.02464732527732849, max: 1.2763087749481201, avg: 0.11087705940008163\n",
      "INFO:__main__:LogNorm X: min: -1.6082302331924438, max: 0.10595575720071793, avg: -1.1606698036193848\n",
      "INFO:__main__:LogNorm X compound: min: -1.6082302331924438, max: 0.10595575720071793, avg: -1.1606698036193848\n",
      "INFO:__main__:Alpha: min: 1.4903037256253193, max: 13.20685895824256, avg: 4.6274404515736585\n",
      "INFO:__main__:Alpha compound: min: 1.4903037256253193, max: 13.20685895824256, avg: 4.6274404515736585\n",
      "INFO:__main__:Alpha Weighted: min: -30.68856025192432, max: 0.3038784186264211, avg: -7.890307531748772\n",
      "INFO:__main__:Alpha Weighted compound: min: -30.68856025192432, max: 0.3038784186264211, avg: -7.890307531748772\n",
      "INFO:__main__:Spectral Norm: min: 0.003665992757305503, max: 1.2628389596939087, avg: 0.0719970241189003\n",
      "INFO:__main__:Spectral Norm compound: min: 0.003665992757305503, max: 1.2628389596939087, avg: 0.0719970241189003\n",
      "INFO:__main__:Softrank: min: 3.706308585605503, max: 145.94218057565857, avg: 51.86790797557598\n",
      "INFO:__main__:Softrank compound: min: 3.706308585605503, max: 145.94218057565857, avg: 51.86790797557598\n",
      "INFO:__main__:Softrank Log: min: 0.5689415756537938, max: 2.1641808309183004, avg: 1.5379734546455066\n",
      "INFO:__main__:Softrank Log compound: min: 0.5689415756537938, max: 2.1641808309183004, avg: 1.5379734546455066\n",
      "INFO:__main__:Softrank Log Ratio: min: 1.1208311319351196, max: 5.626460075378418, avg: 2.340986490249634\n",
      "INFO:__main__:Softrank Log Ratio compound: min: 1.1208311319351196, max: 5.626460075378418, avg: 2.340986490249634\n",
      "INFO:__main__:alpha pNorm: min: -30.18689927397268, max: 0.3041312855340156, avg: -7.621351888229554\n",
      "INFO:__main__:alpha pNorm compound: min: -30.18689927397268, max: 0.3041312855340156, avg: -7.621351888229554\n"
     ]
    }
   ],
   "source": [
    "watcher = ww.WeightWatcher(model=gpt_model, logger=logger)\n",
    "results = watcher.analyze(alphas=True, softranks=True, \n",
    "                          spectralnorms=True,  normalize=True)\n",
    "\n",
    "summary =  watcher.get_summary()\n",
    "\n",
    "details  = watcher.get_details(results=results)\n",
    "details.drop(columns=['slice', 'slice_count'], inplace=True)\n",
    "details.dropna(inplace=True)\n",
    "details['NxM'] = pd.to_numeric(details.N * details.M) "
   ]
  },
  {
   "cell_type": "code",
   "execution_count": 8,
   "metadata": {
    "scrolled": false
   },
   "outputs": [
    {
     "name": "stderr",
     "output_type": "stream",
     "text": [
      "INFO:__main__:\n",
      "\n",
      "python      version 3.7.6 (default, Jan  8 2020, 13:42:34) \n",
      "[Clang 4.0.1 (tags/RELEASE_401/final)]\n",
      "numpy       version 1.17.4\n",
      "tensforflow version 1.15.0\n",
      "keras       version 2.2.4\n",
      "INFO:__main__:Analyzing model\n",
      "INFO:__main__:analyze_weights normalize=True, glorot_fix=False count=1\n",
      "/Users/charleshmartin/anaconda3/envs/ww/lib/python3.7/site-packages/powerlaw.py:700: RuntimeWarning: divide by zero encountered in true_divide\n",
      "  (Theoretical_CDF * (1 - Theoretical_CDF))\n",
      "/Users/charleshmartin/anaconda3/envs/ww/lib/python3.7/site-packages/powerlaw.py:700: RuntimeWarning: invalid value encountered in true_divide\n",
      "  (Theoretical_CDF * (1 - Theoretical_CDF))\n",
      "INFO:__main__:analyze_weights normalize=True, glorot_fix=False count=1\n",
      "/Users/charleshmartin/anaconda3/envs/ww/lib/python3.7/site-packages/powerlaw.py:700: RuntimeWarning: divide by zero encountered in true_divide\n",
      "  (Theoretical_CDF * (1 - Theoretical_CDF))\n",
      "/Users/charleshmartin/anaconda3/envs/ww/lib/python3.7/site-packages/powerlaw.py:700: RuntimeWarning: invalid value encountered in true_divide\n",
      "  (Theoretical_CDF * (1 - Theoretical_CDF))\n",
      "INFO:__main__:analyze_weights normalize=True, glorot_fix=False count=1\n",
      "/Users/charleshmartin/anaconda3/envs/ww/lib/python3.7/site-packages/powerlaw.py:700: RuntimeWarning: divide by zero encountered in true_divide\n",
      "  (Theoretical_CDF * (1 - Theoretical_CDF))\n",
      "/Users/charleshmartin/anaconda3/envs/ww/lib/python3.7/site-packages/powerlaw.py:700: RuntimeWarning: invalid value encountered in true_divide\n",
      "  (Theoretical_CDF * (1 - Theoretical_CDF))\n",
      "INFO:__main__:analyze_weights normalize=True, glorot_fix=False count=1\n",
      "/Users/charleshmartin/anaconda3/envs/ww/lib/python3.7/site-packages/powerlaw.py:700: RuntimeWarning: divide by zero encountered in true_divide\n",
      "  (Theoretical_CDF * (1 - Theoretical_CDF))\n",
      "/Users/charleshmartin/anaconda3/envs/ww/lib/python3.7/site-packages/powerlaw.py:700: RuntimeWarning: invalid value encountered in true_divide\n",
      "  (Theoretical_CDF * (1 - Theoretical_CDF))\n",
      "INFO:__main__:analyze_weights normalize=True, glorot_fix=False count=1\n",
      "/Users/charleshmartin/anaconda3/envs/ww/lib/python3.7/site-packages/powerlaw.py:700: RuntimeWarning: divide by zero encountered in true_divide\n",
      "  (Theoretical_CDF * (1 - Theoretical_CDF))\n",
      "/Users/charleshmartin/anaconda3/envs/ww/lib/python3.7/site-packages/powerlaw.py:700: RuntimeWarning: invalid value encountered in true_divide\n",
      "  (Theoretical_CDF * (1 - Theoretical_CDF))\n",
      "INFO:__main__:analyze_weights normalize=True, glorot_fix=False count=1\n",
      "/Users/charleshmartin/anaconda3/envs/ww/lib/python3.7/site-packages/powerlaw.py:700: RuntimeWarning: divide by zero encountered in true_divide\n",
      "  (Theoretical_CDF * (1 - Theoretical_CDF))\n",
      "/Users/charleshmartin/anaconda3/envs/ww/lib/python3.7/site-packages/powerlaw.py:700: RuntimeWarning: invalid value encountered in true_divide\n",
      "  (Theoretical_CDF * (1 - Theoretical_CDF))\n",
      "INFO:__main__:analyze_weights normalize=True, glorot_fix=False count=1\n",
      "/Users/charleshmartin/anaconda3/envs/ww/lib/python3.7/site-packages/powerlaw.py:700: RuntimeWarning: divide by zero encountered in true_divide\n",
      "  (Theoretical_CDF * (1 - Theoretical_CDF))\n",
      "/Users/charleshmartin/anaconda3/envs/ww/lib/python3.7/site-packages/powerlaw.py:700: RuntimeWarning: invalid value encountered in true_divide\n",
      "  (Theoretical_CDF * (1 - Theoretical_CDF))\n",
      "INFO:__main__:analyze_weights normalize=True, glorot_fix=False count=1\n",
      "/Users/charleshmartin/anaconda3/envs/ww/lib/python3.7/site-packages/powerlaw.py:700: RuntimeWarning: divide by zero encountered in true_divide\n",
      "  (Theoretical_CDF * (1 - Theoretical_CDF))\n",
      "/Users/charleshmartin/anaconda3/envs/ww/lib/python3.7/site-packages/powerlaw.py:700: RuntimeWarning: invalid value encountered in true_divide\n",
      "  (Theoretical_CDF * (1 - Theoretical_CDF))\n",
      "INFO:__main__:analyze_weights normalize=True, glorot_fix=False count=1\n",
      "/Users/charleshmartin/anaconda3/envs/ww/lib/python3.7/site-packages/powerlaw.py:700: RuntimeWarning: divide by zero encountered in true_divide\n",
      "  (Theoretical_CDF * (1 - Theoretical_CDF))\n",
      "/Users/charleshmartin/anaconda3/envs/ww/lib/python3.7/site-packages/powerlaw.py:700: RuntimeWarning: invalid value encountered in true_divide\n",
      "  (Theoretical_CDF * (1 - Theoretical_CDF))\n",
      "INFO:__main__:analyze_weights normalize=True, glorot_fix=False count=1\n",
      "/Users/charleshmartin/anaconda3/envs/ww/lib/python3.7/site-packages/powerlaw.py:700: RuntimeWarning: divide by zero encountered in true_divide\n",
      "  (Theoretical_CDF * (1 - Theoretical_CDF))\n",
      "/Users/charleshmartin/anaconda3/envs/ww/lib/python3.7/site-packages/powerlaw.py:700: RuntimeWarning: invalid value encountered in true_divide\n",
      "  (Theoretical_CDF * (1 - Theoretical_CDF))\n",
      "INFO:__main__:analyze_weights normalize=True, glorot_fix=False count=1\n",
      "/Users/charleshmartin/anaconda3/envs/ww/lib/python3.7/site-packages/powerlaw.py:700: RuntimeWarning: divide by zero encountered in true_divide\n",
      "  (Theoretical_CDF * (1 - Theoretical_CDF))\n",
      "/Users/charleshmartin/anaconda3/envs/ww/lib/python3.7/site-packages/powerlaw.py:700: RuntimeWarning: invalid value encountered in true_divide\n",
      "  (Theoretical_CDF * (1 - Theoretical_CDF))\n",
      "INFO:__main__:analyze_weights normalize=True, glorot_fix=False count=1\n",
      "/Users/charleshmartin/anaconda3/envs/ww/lib/python3.7/site-packages/powerlaw.py:700: RuntimeWarning: divide by zero encountered in true_divide\n",
      "  (Theoretical_CDF * (1 - Theoretical_CDF))\n",
      "/Users/charleshmartin/anaconda3/envs/ww/lib/python3.7/site-packages/powerlaw.py:700: RuntimeWarning: invalid value encountered in true_divide\n",
      "  (Theoretical_CDF * (1 - Theoretical_CDF))\n",
      "INFO:__main__:analyze_weights normalize=True, glorot_fix=False count=1\n",
      "/Users/charleshmartin/anaconda3/envs/ww/lib/python3.7/site-packages/powerlaw.py:700: RuntimeWarning: divide by zero encountered in true_divide\n",
      "  (Theoretical_CDF * (1 - Theoretical_CDF))\n",
      "/Users/charleshmartin/anaconda3/envs/ww/lib/python3.7/site-packages/powerlaw.py:700: RuntimeWarning: invalid value encountered in true_divide\n",
      "  (Theoretical_CDF * (1 - Theoretical_CDF))\n",
      "INFO:__main__:analyze_weights normalize=True, glorot_fix=False count=1\n",
      "/Users/charleshmartin/anaconda3/envs/ww/lib/python3.7/site-packages/powerlaw.py:700: RuntimeWarning: divide by zero encountered in true_divide\n",
      "  (Theoretical_CDF * (1 - Theoretical_CDF))\n",
      "/Users/charleshmartin/anaconda3/envs/ww/lib/python3.7/site-packages/powerlaw.py:700: RuntimeWarning: invalid value encountered in true_divide\n",
      "  (Theoretical_CDF * (1 - Theoretical_CDF))\n",
      "INFO:__main__:analyze_weights normalize=True, glorot_fix=False count=1\n",
      "/Users/charleshmartin/anaconda3/envs/ww/lib/python3.7/site-packages/powerlaw.py:700: RuntimeWarning: divide by zero encountered in true_divide\n",
      "  (Theoretical_CDF * (1 - Theoretical_CDF))\n",
      "/Users/charleshmartin/anaconda3/envs/ww/lib/python3.7/site-packages/powerlaw.py:700: RuntimeWarning: invalid value encountered in true_divide\n",
      "  (Theoretical_CDF * (1 - Theoretical_CDF))\n",
      "INFO:__main__:analyze_weights normalize=True, glorot_fix=False count=1\n",
      "/Users/charleshmartin/anaconda3/envs/ww/lib/python3.7/site-packages/powerlaw.py:700: RuntimeWarning: divide by zero encountered in true_divide\n",
      "  (Theoretical_CDF * (1 - Theoretical_CDF))\n",
      "/Users/charleshmartin/anaconda3/envs/ww/lib/python3.7/site-packages/powerlaw.py:700: RuntimeWarning: invalid value encountered in true_divide\n",
      "  (Theoretical_CDF * (1 - Theoretical_CDF))\n",
      "INFO:__main__:analyze_weights normalize=True, glorot_fix=False count=1\n",
      "/Users/charleshmartin/anaconda3/envs/ww/lib/python3.7/site-packages/powerlaw.py:700: RuntimeWarning: divide by zero encountered in true_divide\n",
      "  (Theoretical_CDF * (1 - Theoretical_CDF))\n",
      "/Users/charleshmartin/anaconda3/envs/ww/lib/python3.7/site-packages/powerlaw.py:700: RuntimeWarning: invalid value encountered in true_divide\n",
      "  (Theoretical_CDF * (1 - Theoretical_CDF))\n",
      "INFO:__main__:analyze_weights normalize=True, glorot_fix=False count=1\n",
      "/Users/charleshmartin/anaconda3/envs/ww/lib/python3.7/site-packages/powerlaw.py:700: RuntimeWarning: divide by zero encountered in true_divide\n",
      "  (Theoretical_CDF * (1 - Theoretical_CDF))\n",
      "/Users/charleshmartin/anaconda3/envs/ww/lib/python3.7/site-packages/powerlaw.py:700: RuntimeWarning: invalid value encountered in true_divide\n",
      "  (Theoretical_CDF * (1 - Theoretical_CDF))\n"
     ]
    },
    {
     "name": "stderr",
     "output_type": "stream",
     "text": [
      "INFO:__main__:analyze_weights normalize=True, glorot_fix=False count=1\n",
      "/Users/charleshmartin/anaconda3/envs/ww/lib/python3.7/site-packages/powerlaw.py:700: RuntimeWarning: divide by zero encountered in true_divide\n",
      "  (Theoretical_CDF * (1 - Theoretical_CDF))\n",
      "/Users/charleshmartin/anaconda3/envs/ww/lib/python3.7/site-packages/powerlaw.py:700: RuntimeWarning: invalid value encountered in true_divide\n",
      "  (Theoretical_CDF * (1 - Theoretical_CDF))\n",
      "INFO:__main__:analyze_weights normalize=True, glorot_fix=False count=1\n",
      "/Users/charleshmartin/anaconda3/envs/ww/lib/python3.7/site-packages/powerlaw.py:700: RuntimeWarning: divide by zero encountered in true_divide\n",
      "  (Theoretical_CDF * (1 - Theoretical_CDF))\n",
      "/Users/charleshmartin/anaconda3/envs/ww/lib/python3.7/site-packages/powerlaw.py:700: RuntimeWarning: invalid value encountered in true_divide\n",
      "  (Theoretical_CDF * (1 - Theoretical_CDF))\n",
      "INFO:__main__:analyze_weights normalize=True, glorot_fix=False count=1\n",
      "/Users/charleshmartin/anaconda3/envs/ww/lib/python3.7/site-packages/powerlaw.py:700: RuntimeWarning: divide by zero encountered in true_divide\n",
      "  (Theoretical_CDF * (1 - Theoretical_CDF))\n",
      "/Users/charleshmartin/anaconda3/envs/ww/lib/python3.7/site-packages/powerlaw.py:700: RuntimeWarning: invalid value encountered in true_divide\n",
      "  (Theoretical_CDF * (1 - Theoretical_CDF))\n",
      "INFO:__main__:analyze_weights normalize=True, glorot_fix=False count=1\n",
      "/Users/charleshmartin/anaconda3/envs/ww/lib/python3.7/site-packages/powerlaw.py:700: RuntimeWarning: divide by zero encountered in true_divide\n",
      "  (Theoretical_CDF * (1 - Theoretical_CDF))\n",
      "/Users/charleshmartin/anaconda3/envs/ww/lib/python3.7/site-packages/powerlaw.py:700: RuntimeWarning: invalid value encountered in true_divide\n",
      "  (Theoretical_CDF * (1 - Theoretical_CDF))\n",
      "INFO:__main__:analyze_weights normalize=True, glorot_fix=False count=1\n",
      "/Users/charleshmartin/anaconda3/envs/ww/lib/python3.7/site-packages/powerlaw.py:700: RuntimeWarning: divide by zero encountered in true_divide\n",
      "  (Theoretical_CDF * (1 - Theoretical_CDF))\n",
      "/Users/charleshmartin/anaconda3/envs/ww/lib/python3.7/site-packages/powerlaw.py:700: RuntimeWarning: invalid value encountered in true_divide\n",
      "  (Theoretical_CDF * (1 - Theoretical_CDF))\n",
      "INFO:__main__:analyze_weights normalize=True, glorot_fix=False count=1\n",
      "/Users/charleshmartin/anaconda3/envs/ww/lib/python3.7/site-packages/powerlaw.py:700: RuntimeWarning: divide by zero encountered in true_divide\n",
      "  (Theoretical_CDF * (1 - Theoretical_CDF))\n",
      "/Users/charleshmartin/anaconda3/envs/ww/lib/python3.7/site-packages/powerlaw.py:700: RuntimeWarning: invalid value encountered in true_divide\n",
      "  (Theoretical_CDF * (1 - Theoretical_CDF))\n",
      "INFO:__main__:analyze_weights normalize=True, glorot_fix=False count=1\n",
      "/Users/charleshmartin/anaconda3/envs/ww/lib/python3.7/site-packages/powerlaw.py:700: RuntimeWarning: divide by zero encountered in true_divide\n",
      "  (Theoretical_CDF * (1 - Theoretical_CDF))\n",
      "/Users/charleshmartin/anaconda3/envs/ww/lib/python3.7/site-packages/powerlaw.py:700: RuntimeWarning: invalid value encountered in true_divide\n",
      "  (Theoretical_CDF * (1 - Theoretical_CDF))\n",
      "INFO:__main__:analyze_weights normalize=True, glorot_fix=False count=1\n",
      "/Users/charleshmartin/anaconda3/envs/ww/lib/python3.7/site-packages/powerlaw.py:700: RuntimeWarning: divide by zero encountered in true_divide\n",
      "  (Theoretical_CDF * (1 - Theoretical_CDF))\n",
      "/Users/charleshmartin/anaconda3/envs/ww/lib/python3.7/site-packages/powerlaw.py:700: RuntimeWarning: invalid value encountered in true_divide\n",
      "  (Theoretical_CDF * (1 - Theoretical_CDF))\n",
      "INFO:__main__:analyze_weights normalize=True, glorot_fix=False count=1\n",
      "/Users/charleshmartin/anaconda3/envs/ww/lib/python3.7/site-packages/powerlaw.py:700: RuntimeWarning: divide by zero encountered in true_divide\n",
      "  (Theoretical_CDF * (1 - Theoretical_CDF))\n",
      "/Users/charleshmartin/anaconda3/envs/ww/lib/python3.7/site-packages/powerlaw.py:700: RuntimeWarning: invalid value encountered in true_divide\n",
      "  (Theoretical_CDF * (1 - Theoretical_CDF))\n",
      "INFO:__main__:analyze_weights normalize=True, glorot_fix=False count=1\n",
      "/Users/charleshmartin/anaconda3/envs/ww/lib/python3.7/site-packages/powerlaw.py:700: RuntimeWarning: divide by zero encountered in true_divide\n",
      "  (Theoretical_CDF * (1 - Theoretical_CDF))\n",
      "/Users/charleshmartin/anaconda3/envs/ww/lib/python3.7/site-packages/powerlaw.py:700: RuntimeWarning: invalid value encountered in true_divide\n",
      "  (Theoretical_CDF * (1 - Theoretical_CDF))\n",
      "INFO:__main__:analyze_weights normalize=True, glorot_fix=False count=1\n",
      "/Users/charleshmartin/anaconda3/envs/ww/lib/python3.7/site-packages/powerlaw.py:700: RuntimeWarning: divide by zero encountered in true_divide\n",
      "  (Theoretical_CDF * (1 - Theoretical_CDF))\n",
      "/Users/charleshmartin/anaconda3/envs/ww/lib/python3.7/site-packages/powerlaw.py:700: RuntimeWarning: invalid value encountered in true_divide\n",
      "  (Theoretical_CDF * (1 - Theoretical_CDF))\n",
      "INFO:__main__:analyze_weights normalize=True, glorot_fix=False count=1\n",
      "/Users/charleshmartin/anaconda3/envs/ww/lib/python3.7/site-packages/powerlaw.py:700: RuntimeWarning: divide by zero encountered in true_divide\n",
      "  (Theoretical_CDF * (1 - Theoretical_CDF))\n",
      "/Users/charleshmartin/anaconda3/envs/ww/lib/python3.7/site-packages/powerlaw.py:700: RuntimeWarning: invalid value encountered in true_divide\n",
      "  (Theoretical_CDF * (1 - Theoretical_CDF))\n",
      "INFO:__main__:analyze_weights normalize=True, glorot_fix=False count=1\n",
      "/Users/charleshmartin/anaconda3/envs/ww/lib/python3.7/site-packages/powerlaw.py:700: RuntimeWarning: divide by zero encountered in true_divide\n",
      "  (Theoretical_CDF * (1 - Theoretical_CDF))\n",
      "/Users/charleshmartin/anaconda3/envs/ww/lib/python3.7/site-packages/powerlaw.py:700: RuntimeWarning: invalid value encountered in true_divide\n",
      "  (Theoretical_CDF * (1 - Theoretical_CDF))\n",
      "INFO:__main__:analyze_weights normalize=True, glorot_fix=False count=1\n",
      "/Users/charleshmartin/anaconda3/envs/ww/lib/python3.7/site-packages/powerlaw.py:700: RuntimeWarning: divide by zero encountered in true_divide\n",
      "  (Theoretical_CDF * (1 - Theoretical_CDF))\n",
      "/Users/charleshmartin/anaconda3/envs/ww/lib/python3.7/site-packages/powerlaw.py:700: RuntimeWarning: invalid value encountered in true_divide\n",
      "  (Theoretical_CDF * (1 - Theoretical_CDF))\n",
      "INFO:__main__:analyze_weights normalize=True, glorot_fix=False count=1\n",
      "/Users/charleshmartin/anaconda3/envs/ww/lib/python3.7/site-packages/powerlaw.py:700: RuntimeWarning: divide by zero encountered in true_divide\n",
      "  (Theoretical_CDF * (1 - Theoretical_CDF))\n",
      "/Users/charleshmartin/anaconda3/envs/ww/lib/python3.7/site-packages/powerlaw.py:700: RuntimeWarning: invalid value encountered in true_divide\n",
      "  (Theoretical_CDF * (1 - Theoretical_CDF))\n",
      "INFO:__main__:analyze_weights normalize=True, glorot_fix=False count=1\n",
      "/Users/charleshmartin/anaconda3/envs/ww/lib/python3.7/site-packages/powerlaw.py:700: RuntimeWarning: divide by zero encountered in true_divide\n",
      "  (Theoretical_CDF * (1 - Theoretical_CDF))\n",
      "/Users/charleshmartin/anaconda3/envs/ww/lib/python3.7/site-packages/powerlaw.py:700: RuntimeWarning: invalid value encountered in true_divide\n",
      "  (Theoretical_CDF * (1 - Theoretical_CDF))\n",
      "INFO:__main__:analyze_weights normalize=True, glorot_fix=False count=1\n",
      "/Users/charleshmartin/anaconda3/envs/ww/lib/python3.7/site-packages/powerlaw.py:700: RuntimeWarning: divide by zero encountered in true_divide\n",
      "  (Theoretical_CDF * (1 - Theoretical_CDF))\n",
      "/Users/charleshmartin/anaconda3/envs/ww/lib/python3.7/site-packages/powerlaw.py:700: RuntimeWarning: invalid value encountered in true_divide\n",
      "  (Theoretical_CDF * (1 - Theoretical_CDF))\n",
      "INFO:__main__:analyze_weights normalize=True, glorot_fix=False count=1\n",
      "/Users/charleshmartin/anaconda3/envs/ww/lib/python3.7/site-packages/powerlaw.py:700: RuntimeWarning: divide by zero encountered in true_divide\n",
      "  (Theoretical_CDF * (1 - Theoretical_CDF))\n",
      "/Users/charleshmartin/anaconda3/envs/ww/lib/python3.7/site-packages/powerlaw.py:700: RuntimeWarning: invalid value encountered in true_divide\n",
      "  (Theoretical_CDF * (1 - Theoretical_CDF))\n",
      "INFO:__main__:analyze_weights normalize=True, glorot_fix=False count=1\n",
      "/Users/charleshmartin/anaconda3/envs/ww/lib/python3.7/site-packages/powerlaw.py:700: RuntimeWarning: divide by zero encountered in true_divide\n",
      "  (Theoretical_CDF * (1 - Theoretical_CDF))\n",
      "/Users/charleshmartin/anaconda3/envs/ww/lib/python3.7/site-packages/powerlaw.py:700: RuntimeWarning: invalid value encountered in true_divide\n",
      "  (Theoretical_CDF * (1 - Theoretical_CDF))\n"
     ]
    },
    {
     "name": "stderr",
     "output_type": "stream",
     "text": [
      "INFO:__main__:analyze_weights normalize=True, glorot_fix=False count=1\n",
      "/Users/charleshmartin/anaconda3/envs/ww/lib/python3.7/site-packages/powerlaw.py:700: RuntimeWarning: divide by zero encountered in true_divide\n",
      "  (Theoretical_CDF * (1 - Theoretical_CDF))\n",
      "/Users/charleshmartin/anaconda3/envs/ww/lib/python3.7/site-packages/powerlaw.py:700: RuntimeWarning: invalid value encountered in true_divide\n",
      "  (Theoretical_CDF * (1 - Theoretical_CDF))\n",
      "INFO:__main__:analyze_weights normalize=True, glorot_fix=False count=1\n",
      "/Users/charleshmartin/anaconda3/envs/ww/lib/python3.7/site-packages/powerlaw.py:700: RuntimeWarning: divide by zero encountered in true_divide\n",
      "  (Theoretical_CDF * (1 - Theoretical_CDF))\n",
      "/Users/charleshmartin/anaconda3/envs/ww/lib/python3.7/site-packages/powerlaw.py:700: RuntimeWarning: invalid value encountered in true_divide\n",
      "  (Theoretical_CDF * (1 - Theoretical_CDF))\n",
      "INFO:__main__:analyze_weights normalize=True, glorot_fix=False count=1\n",
      "/Users/charleshmartin/anaconda3/envs/ww/lib/python3.7/site-packages/powerlaw.py:700: RuntimeWarning: divide by zero encountered in true_divide\n",
      "  (Theoretical_CDF * (1 - Theoretical_CDF))\n",
      "/Users/charleshmartin/anaconda3/envs/ww/lib/python3.7/site-packages/powerlaw.py:700: RuntimeWarning: invalid value encountered in true_divide\n",
      "  (Theoretical_CDF * (1 - Theoretical_CDF))\n",
      "INFO:__main__:analyze_weights normalize=True, glorot_fix=False count=1\n",
      "/Users/charleshmartin/anaconda3/envs/ww/lib/python3.7/site-packages/powerlaw.py:700: RuntimeWarning: divide by zero encountered in true_divide\n",
      "  (Theoretical_CDF * (1 - Theoretical_CDF))\n",
      "/Users/charleshmartin/anaconda3/envs/ww/lib/python3.7/site-packages/powerlaw.py:700: RuntimeWarning: invalid value encountered in true_divide\n",
      "  (Theoretical_CDF * (1 - Theoretical_CDF))\n",
      "INFO:__main__:analyze_weights normalize=True, glorot_fix=False count=1\n",
      "/Users/charleshmartin/anaconda3/envs/ww/lib/python3.7/site-packages/powerlaw.py:700: RuntimeWarning: divide by zero encountered in true_divide\n",
      "  (Theoretical_CDF * (1 - Theoretical_CDF))\n",
      "/Users/charleshmartin/anaconda3/envs/ww/lib/python3.7/site-packages/powerlaw.py:700: RuntimeWarning: invalid value encountered in true_divide\n",
      "  (Theoretical_CDF * (1 - Theoretical_CDF))\n",
      "INFO:__main__:analyze_weights normalize=True, glorot_fix=False count=1\n",
      "/Users/charleshmartin/anaconda3/envs/ww/lib/python3.7/site-packages/powerlaw.py:700: RuntimeWarning: divide by zero encountered in true_divide\n",
      "  (Theoretical_CDF * (1 - Theoretical_CDF))\n",
      "/Users/charleshmartin/anaconda3/envs/ww/lib/python3.7/site-packages/powerlaw.py:700: RuntimeWarning: invalid value encountered in true_divide\n",
      "  (Theoretical_CDF * (1 - Theoretical_CDF))\n",
      "INFO:__main__:analyze_weights normalize=True, glorot_fix=False count=1\n",
      "/Users/charleshmartin/anaconda3/envs/ww/lib/python3.7/site-packages/powerlaw.py:700: RuntimeWarning: divide by zero encountered in true_divide\n",
      "  (Theoretical_CDF * (1 - Theoretical_CDF))\n",
      "/Users/charleshmartin/anaconda3/envs/ww/lib/python3.7/site-packages/powerlaw.py:700: RuntimeWarning: invalid value encountered in true_divide\n",
      "  (Theoretical_CDF * (1 - Theoretical_CDF))\n",
      "INFO:__main__:analyze_weights normalize=True, glorot_fix=False count=1\n",
      "/Users/charleshmartin/anaconda3/envs/ww/lib/python3.7/site-packages/powerlaw.py:700: RuntimeWarning: divide by zero encountered in true_divide\n",
      "  (Theoretical_CDF * (1 - Theoretical_CDF))\n",
      "/Users/charleshmartin/anaconda3/envs/ww/lib/python3.7/site-packages/powerlaw.py:700: RuntimeWarning: invalid value encountered in true_divide\n",
      "  (Theoretical_CDF * (1 - Theoretical_CDF))\n",
      "INFO:__main__:analyze_weights normalize=True, glorot_fix=False count=1\n",
      "/Users/charleshmartin/anaconda3/envs/ww/lib/python3.7/site-packages/powerlaw.py:700: RuntimeWarning: divide by zero encountered in true_divide\n",
      "  (Theoretical_CDF * (1 - Theoretical_CDF))\n",
      "/Users/charleshmartin/anaconda3/envs/ww/lib/python3.7/site-packages/powerlaw.py:700: RuntimeWarning: invalid value encountered in true_divide\n",
      "  (Theoretical_CDF * (1 - Theoretical_CDF))\n",
      "INFO:__main__:analyze_weights normalize=True, glorot_fix=False count=1\n",
      "/Users/charleshmartin/anaconda3/envs/ww/lib/python3.7/site-packages/powerlaw.py:700: RuntimeWarning: divide by zero encountered in true_divide\n",
      "  (Theoretical_CDF * (1 - Theoretical_CDF))\n",
      "/Users/charleshmartin/anaconda3/envs/ww/lib/python3.7/site-packages/powerlaw.py:700: RuntimeWarning: invalid value encountered in true_divide\n",
      "  (Theoretical_CDF * (1 - Theoretical_CDF))\n",
      "INFO:__main__:analyze_weights normalize=True, glorot_fix=False count=1\n",
      "/Users/charleshmartin/anaconda3/envs/ww/lib/python3.7/site-packages/powerlaw.py:700: RuntimeWarning: divide by zero encountered in true_divide\n",
      "  (Theoretical_CDF * (1 - Theoretical_CDF))\n",
      "/Users/charleshmartin/anaconda3/envs/ww/lib/python3.7/site-packages/powerlaw.py:700: RuntimeWarning: invalid value encountered in true_divide\n",
      "  (Theoretical_CDF * (1 - Theoretical_CDF))\n",
      "INFO:__main__:analyze_weights normalize=True, glorot_fix=False count=1\n",
      "/Users/charleshmartin/anaconda3/envs/ww/lib/python3.7/site-packages/powerlaw.py:700: RuntimeWarning: divide by zero encountered in true_divide\n",
      "  (Theoretical_CDF * (1 - Theoretical_CDF))\n",
      "/Users/charleshmartin/anaconda3/envs/ww/lib/python3.7/site-packages/powerlaw.py:700: RuntimeWarning: invalid value encountered in true_divide\n",
      "  (Theoretical_CDF * (1 - Theoretical_CDF))\n",
      "INFO:__main__:analyze_weights normalize=True, glorot_fix=False count=1\n",
      "/Users/charleshmartin/anaconda3/envs/ww/lib/python3.7/site-packages/powerlaw.py:700: RuntimeWarning: divide by zero encountered in true_divide\n",
      "  (Theoretical_CDF * (1 - Theoretical_CDF))\n",
      "/Users/charleshmartin/anaconda3/envs/ww/lib/python3.7/site-packages/powerlaw.py:700: RuntimeWarning: invalid value encountered in true_divide\n",
      "  (Theoretical_CDF * (1 - Theoretical_CDF))\n",
      "INFO:__main__:### Printing results ###\n",
      "INFO:__main__:Check: min: 0.08103540539741516, max: 0.19961957484483284, avg: 0.1271023109924772\n",
      "INFO:__main__:Check compound: min: 0.08103540539741516, max: 0.19961957484483284, avg: 0.1271023109924772\n",
      "INFO:__main__:CheckTF: min: False, max: False, avg: 0.0\n",
      "INFO:__main__:CheckTF compound: min: 0.0, max: 0.0, avg: 0.0\n",
      "INFO:__main__:Norm: min: 44.006927490234375, max: 631.2603149414062, avg: 126.1707992553711\n",
      "INFO:__main__:Norm compound: min: 44.006927490234375, max: 631.2603149414062, avg: 126.1707992553711\n",
      "INFO:__main__:LogNorm: min: 1.6435210704803467, max: 2.800208568572998, avg: 2.0508360862731934\n",
      "INFO:__main__:LogNorm compound: min: 1.6435210704803467, max: 2.800208568572998, avg: 2.0508360862731934\n",
      "INFO:__main__:Norm X: min: 0.19423620402812958, max: 2.9686503410339355, avg: 0.523870050907135\n",
      "INFO:__main__:Norm X compound: min: 0.19423620402812958, max: 2.9686503410339355, avg: 0.523870050907135\n",
      "INFO:__main__:LogNorm X: min: -0.7116698026657104, max: 0.47255903482437134, avg: -0.38946986198425293\n",
      "INFO:__main__:LogNorm X compound: min: -0.7116698026657104, max: 0.47255903482437134, avg: -0.38946986198425293\n",
      "INFO:__main__:Alpha: min: 1.5522677771139286, max: 6.245504673466963, avg: 3.8335598741807435\n",
      "INFO:__main__:Alpha compound: min: 1.5522677771139286, max: 6.245504673466963, avg: 3.8335598741807435\n",
      "INFO:__main__:Alpha Weighted: min: -8.199450260706493, max: 1.1700046740964427, avg: -2.9366950526128517\n",
      "INFO:__main__:Alpha Weighted compound: min: -8.199450260706493, max: 1.1700046740964427, avg: -2.9366950526128517\n",
      "INFO:__main__:Spectral Norm: min: 0.04833834618330002, max: 2.1564133167266846, avg: 0.3028196096420288\n",
      "INFO:__main__:Spectral Norm compound: min: 0.04833834618330002, max: 2.1564133167266846, avg: 0.3028196096420288\n",
      "INFO:__main__:Softrank: min: 3.0852333805251635, max: 131.03886921194837, avg: 44.01511582707473\n",
      "INFO:__main__:Softrank compound: min: 3.0852333805251635, max: 131.03886921194837, avg: 44.01511582707473\n",
      "INFO:__main__:Softrank Log: min: 0.48928802154289586, max: 2.1174001367276225, avg: 1.5102401338667983\n",
      "INFO:__main__:Softrank Log compound: min: 0.48928802154289586, max: 2.1174001367276225, avg: 1.5102401338667983\n",
      "INFO:__main__:Softrank Log Ratio: min: 1.1123130321502686, max: 2.034367084503174, avg: 1.6146440505981445\n",
      "INFO:__main__:Softrank Log Ratio compound: min: 1.1123130321502686, max: 2.034367084503174, avg: 1.6146440505981445\n"
     ]
    },
    {
     "name": "stderr",
     "output_type": "stream",
     "text": [
      "INFO:__main__:alpha pNorm: min: -7.722133416818069, max: 1.1700116636758633, avg: -2.688011551177192\n",
      "INFO:__main__:alpha pNorm compound: min: -7.722133416818069, max: 1.1700116636758633, avg: -2.688011551177192\n",
      "INFO:__main__:### Printing results ###\n",
      "INFO:__main__:Check: min: 0.08103540539741516, max: 0.19961957484483284, avg: 0.1271023109924772\n",
      "INFO:__main__:Check compound: min: 0.08103540539741516, max: 0.19961957484483284, avg: 0.1271023109924772\n",
      "INFO:__main__:CheckTF: min: False, max: False, avg: 0.0\n",
      "INFO:__main__:CheckTF compound: min: 0.0, max: 0.0, avg: 0.0\n",
      "INFO:__main__:Norm: min: 44.006927490234375, max: 631.2603149414062, avg: 126.1707992553711\n",
      "INFO:__main__:Norm compound: min: 44.006927490234375, max: 631.2603149414062, avg: 126.1707992553711\n",
      "INFO:__main__:LogNorm: min: 1.6435210704803467, max: 2.800208568572998, avg: 2.0508360862731934\n",
      "INFO:__main__:LogNorm compound: min: 1.6435210704803467, max: 2.800208568572998, avg: 2.0508360862731934\n",
      "INFO:__main__:Norm X: min: 0.19423620402812958, max: 2.9686503410339355, avg: 0.523870050907135\n",
      "INFO:__main__:Norm X compound: min: 0.19423620402812958, max: 2.9686503410339355, avg: 0.523870050907135\n",
      "INFO:__main__:LogNorm X: min: -0.7116698026657104, max: 0.47255903482437134, avg: -0.38946986198425293\n",
      "INFO:__main__:LogNorm X compound: min: -0.7116698026657104, max: 0.47255903482437134, avg: -0.38946986198425293\n",
      "INFO:__main__:Alpha: min: 1.5522677771139286, max: 6.245504673466963, avg: 3.8335598741807435\n",
      "INFO:__main__:Alpha compound: min: 1.5522677771139286, max: 6.245504673466963, avg: 3.8335598741807435\n",
      "INFO:__main__:Alpha Weighted: min: -8.199450260706493, max: 1.1700046740964427, avg: -2.9366950526128517\n",
      "INFO:__main__:Alpha Weighted compound: min: -8.199450260706493, max: 1.1700046740964427, avg: -2.9366950526128517\n",
      "INFO:__main__:Spectral Norm: min: 0.04833834618330002, max: 2.1564133167266846, avg: 0.3028196096420288\n",
      "INFO:__main__:Spectral Norm compound: min: 0.04833834618330002, max: 2.1564133167266846, avg: 0.3028196096420288\n",
      "INFO:__main__:Softrank: min: 3.0852333805251635, max: 131.03886921194837, avg: 44.01511582707473\n",
      "INFO:__main__:Softrank compound: min: 3.0852333805251635, max: 131.03886921194837, avg: 44.01511582707473\n",
      "INFO:__main__:Softrank Log: min: 0.48928802154289586, max: 2.1174001367276225, avg: 1.5102401338667983\n",
      "INFO:__main__:Softrank Log compound: min: 0.48928802154289586, max: 2.1174001367276225, avg: 1.5102401338667983\n",
      "INFO:__main__:Softrank Log Ratio: min: 1.1123130321502686, max: 2.034367084503174, avg: 1.6146440505981445\n",
      "INFO:__main__:Softrank Log Ratio compound: min: 1.1123130321502686, max: 2.034367084503174, avg: 1.6146440505981445\n",
      "INFO:__main__:alpha pNorm: min: -7.722133416818069, max: 1.1700116636758633, avg: -2.688011551177192\n",
      "INFO:__main__:alpha pNorm compound: min: -7.722133416818069, max: 1.1700116636758633, avg: -2.688011551177192\n"
     ]
    }
   ],
   "source": [
    "watcher = ww.WeightWatcher(model=gpt2_model, logger=logger)\n",
    "results2 = watcher.analyze(alphas=True, softranks=True, \n",
    "                          spectralnorms=True,  normalize=True)\n",
    "\n",
    "summary2 =  watcher.get_summary()\n",
    "\n",
    "details2  = watcher.get_details(results=results2)\n",
    "details2.drop(columns=['slice', 'slice_count'], inplace=True)\n",
    "details2.dropna(inplace=True)\n",
    "details2['NxM'] = pd.to_numeric(details2.N * details2.M) "
   ]
  },
  {
   "cell_type": "code",
   "execution_count": null,
   "metadata": {},
   "outputs": [],
   "source": []
  },
  {
   "cell_type": "code",
   "execution_count": 9,
   "metadata": {
    "scrolled": false
   },
   "outputs": [
    {
     "data": {
      "image/png": "[encoded data removed]",
      "text/plain": [
       "<Figure size 432x288 with 1 Axes>"
      ]
     },
     "metadata": {
      "needs_background": "light"
     },
     "output_type": "display_data"
    }
   ],
   "source": [
    "details['alpha'].plot.hist(bins=100, color='blue', alpha=0.5, density=True, label='openAI GPT')\n",
    "details2['alpha'].plot.hist(bins=100,  color='red', density=True, label='openAI GPT2')\n",
    "plt.legend()\n",
    "plt.title(r\"Normalized Histogram of $\\alpha$ for all layers of\"+\"\\nthe OpenAI GPT and GPT2 Pretrained Models\")\n",
    "plt.xlabel(r\"$\\alpha$\")\n",
    "plt.ylabel(\"Density\")\n",
    "plt.show()\n"
   ]
  },
  {
   "cell_type": "code",
   "execution_count": 30,
   "metadata": {
    "scrolled": false
   },
   "outputs": [
    {
     "data": {
      "text/plain": [
       "(8.239360311516695, 10.630367469249467)"
      ]
     },
     "execution_count": 30,
     "metadata": {},
     "output_type": "execute_result"
    }
   ],
   "source": [
    "summary['logpnorm'], summary2['logpnorm']"
   ]
  },
  {
   "cell_type": "code",
   "execution_count": 31,
   "metadata": {
    "scrolled": false
   },
   "outputs": [
    {
     "data": {
      "text/plain": [
       "(7.970404908972466, 10.3816839949486)"
      ]
     },
     "execution_count": 31,
     "metadata": {},
     "output_type": "execute_result"
    }
   ],
   "source": [
    "summary['alpha_weighted'], summary2['alpha_weighted']"
   ]
  },
  {
   "cell_type": "code",
   "execution_count": 32,
   "metadata": {
    "scrolled": false
   },
   "outputs": [
    {
     "data": {
      "text/plain": [
       "(1202.44, 2871.833)"
      ]
     },
     "execution_count": 32,
     "metadata": {},
     "output_type": "execute_result"
    }
   ],
   "source": [
    "summary['spectralnorm'], summary2['spectralnorm']"
   ]
  },
  {
   "cell_type": "code",
   "execution_count": 33,
   "metadata": {
    "scrolled": false
   },
   "outputs": [],
   "source": [
    "logsnorm = [np.log10(x) for x in details['spectralnorm'].to_numpy()]\n",
    "logsnorm2 = [np.log10(x) for x in details2['spectralnorm'].to_numpy()]\n"
   ]
  },
  {
   "cell_type": "code",
   "execution_count": 34,
   "metadata": {},
   "outputs": [],
   "source": [
    "plt.rcParams.update({'font.size': 20})\n",
    "from pylab import rcParams\n",
    "rcParams['figure.figsize'] = 10,10"
   ]
  },
  {
   "cell_type": "code",
   "execution_count": 35,
   "metadata": {
    "scrolled": false
   },
   "outputs": [
    {
     "data": {
      "image/png": "[encoded data removed]",
      "text/plain": [
       "<Figure size 720x720 with 1 Axes>"
      ]
     },
     "metadata": {
      "needs_background": "light"
     },
     "output_type": "display_data"
    }
   ],
   "source": [
    "plt.hist(logsnorm, bins=100, color='blue', alpha=0.5, density=True, label='openAI GPT')\n",
    "plt.hist(logsnorm2, bins=100, color='red', alpha=0.5, density=True, label='openAI GPT2')\n",
    "\n",
    "plt.legend()\n",
    "plt.title(r\"Normalized Histogram of Spectral Norms for all layers of\"+\"\\nthe OpenAI GPT and GPT2 Pretrained Models\")\n",
    "plt.xlabel(\"Spectral Norm\")\n",
    "plt.ylabel(\"Density\")\n",
    "plt.show()"
   ]
  },
  {
   "cell_type": "code",
   "execution_count": 41,
   "metadata": {},
   "outputs": [
    {
     "data": {
      "image/png": "[encoded data removed]",
      "text/plain": [
       "<Figure size 720x720 with 1 Axes>"
      ]
     },
     "metadata": {
      "needs_background": "light"
     },
     "output_type": "display_data"
    }
   ],
   "source": [
    "x = np.array(details.index)\n",
    "y = details.alpha.to_numpy(dtype=np.float)\n",
    "plt.scatter(x,y, label='GPT')\n",
    "\n",
    "y2 = details2.alpha.to_numpy(dtype=np.float)\n",
    "plt.scatter(x,y2, label='GPT2')\n",
    "\n",
    "plt.xlabel(\"layer id \")\n",
    "plt.ylabel(r\"$\\alpha$\")\n",
    "plt.legend()\n",
    "plt.title(\"Alpha in GPT and GPT2 models\\n\"+r\"$\\alpha$ vs layer id\")\n",
    "plt.savefig(\"img/GPT-alpha-depth.png\")"
   ]
  },
  {
   "cell_type": "code",
   "execution_count": 37,
   "metadata": {},
   "outputs": [
    {
     "data": {
      "text/plain": [
       "layer_id\n",
       "1     2.99837\n",
       "1     2.99837\n",
       "2      1.4903\n",
       "2      1.4903\n",
       "7     1.77493\n",
       "7     1.77493\n",
       "8     2.28394\n",
       "8     2.28394\n",
       "13    4.01376\n",
       "13    4.01376\n",
       "Name: alpha, dtype: object"
      ]
     },
     "execution_count": 37,
     "metadata": {},
     "output_type": "execute_result"
    }
   ],
   "source": [
    "details.alpha[0:10]"
   ]
  },
  {
   "cell_type": "code",
   "execution_count": 44,
   "metadata": {},
   "outputs": [
    {
     "data": {
      "image/png": "[encoded data removed]",
      "text/plain": [
       "<Figure size 720x720 with 1 Axes>"
      ]
     },
     "metadata": {
      "needs_background": "light"
     },
     "output_type": "display_data"
    }
   ],
   "source": [
    "x = np.array(details.index)\n",
    "y = np.log10(details.spectralnorm.to_numpy(dtype=np.float))\n",
    "plt.scatter(x,y, label='GPT')\n",
    "\n",
    "y2 = np.log10(details2.spectralnorm.to_numpy(dtype=np.float))\n",
    "plt.scatter(x,y2, label='GPT2')\n",
    "\n",
    "plt.xlabel(\"layer id \")\n",
    "plt.ylabel(r\"$\\log\\Vert\\mathbf{W}\\Vert_{\\infty}$\")\n",
    "plt.legend()\n",
    "plt.title(\"Spectral Norms in GPT and GPT2 models\\n\"+r\"$\\log\\;\\Vert\\mathbf{W}\\Vert_{\\infty}$ vs layer id\")\n",
    "plt.savefig(\"img/GPT-snorm-depth.png\")"
   ]
  },
  {
   "cell_type": "code",
   "execution_count": 39,
   "metadata": {},
   "outputs": [
    {
     "data": {
      "text/html": [
       "<div>\n",
       "<style scoped>\n",
       "    .dataframe tbody tr th:only-of-type {\n",
       "        vertical-align: middle;\n",
       "    }\n",
       "\n",
       "    .dataframe tbody tr th {\n",
       "        vertical-align: top;\n",
       "    }\n",
       "\n",
       "    .dataframe thead th {\n",
       "        text-align: right;\n",
       "    }\n",
       "</style>\n",
       "<table border=\"1\" class=\"dataframe\">\n",
       "  <thead>\n",
       "    <tr style=\"text-align: right;\">\n",
       "      <th></th>\n",
       "      <th>layer_type</th>\n",
       "      <th>N</th>\n",
       "      <th>M</th>\n",
       "      <th>level</th>\n",
       "      <th>comment</th>\n",
       "      <th>check</th>\n",
       "      <th>checkTF</th>\n",
       "      <th>norm</th>\n",
       "      <th>lognorm</th>\n",
       "      <th>normX</th>\n",
       "      <th>lognormX</th>\n",
       "      <th>alpha</th>\n",
       "      <th>alpha_weighted</th>\n",
       "      <th>spectralnorm</th>\n",
       "      <th>softrank</th>\n",
       "      <th>softranklog</th>\n",
       "      <th>softranklogratio</th>\n",
       "      <th>logpnorm</th>\n",
       "      <th>NxM</th>\n",
       "    </tr>\n",
       "    <tr>\n",
       "      <th>layer_id</th>\n",
       "      <th></th>\n",
       "      <th></th>\n",
       "      <th></th>\n",
       "      <th></th>\n",
       "      <th></th>\n",
       "      <th></th>\n",
       "      <th></th>\n",
       "      <th></th>\n",
       "      <th></th>\n",
       "      <th></th>\n",
       "      <th></th>\n",
       "      <th></th>\n",
       "      <th></th>\n",
       "      <th></th>\n",
       "      <th></th>\n",
       "      <th></th>\n",
       "      <th></th>\n",
       "      <th></th>\n",
       "      <th></th>\n",
       "    </tr>\n",
       "  </thead>\n",
       "  <tbody>\n",
       "    <tr>\n",
       "      <th>1</th>\n",
       "      <td>CONV1D</td>\n",
       "      <td>50257</td>\n",
       "      <td>768</td>\n",
       "      <td>LEVEL.SLICE</td>\n",
       "      <td>Slice level</td>\n",
       "      <td>0.143696</td>\n",
       "      <td>False</td>\n",
       "      <td>142594</td>\n",
       "      <td>5.1541</td>\n",
       "      <td>110875</td>\n",
       "      <td>5.04483</td>\n",
       "      <td>3.50582</td>\n",
       "      <td>17.6746</td>\n",
       "      <td>110031</td>\n",
       "      <td>3.67695</td>\n",
       "      <td>0.565488</td>\n",
       "      <td>1.05804</td>\n",
       "      <td>17.6746</td>\n",
       "      <td>38597376</td>\n",
       "    </tr>\n",
       "    <tr>\n",
       "      <th>1</th>\n",
       "      <td>CONV1D</td>\n",
       "      <td>50257</td>\n",
       "      <td>768</td>\n",
       "      <td>LEVEL.LAYER</td>\n",
       "      <td>Layer level</td>\n",
       "      <td>0.143696</td>\n",
       "      <td>0</td>\n",
       "      <td>142594</td>\n",
       "      <td>5.1541</td>\n",
       "      <td>110875</td>\n",
       "      <td>5.04483</td>\n",
       "      <td>3.50582</td>\n",
       "      <td>17.6746</td>\n",
       "      <td>110031</td>\n",
       "      <td>3.67695</td>\n",
       "      <td>0.565488</td>\n",
       "      <td>1.05804</td>\n",
       "      <td>17.6746</td>\n",
       "      <td>38597376</td>\n",
       "    </tr>\n",
       "  </tbody>\n",
       "</table>\n",
       "</div>"
      ],
      "text/plain": [
       "         layer_type      N    M        level      comment     check checkTF  \\\n",
       "layer_id                                                                      \n",
       "1            CONV1D  50257  768  LEVEL.SLICE  Slice level  0.143696   False   \n",
       "1            CONV1D  50257  768  LEVEL.LAYER  Layer level  0.143696       0   \n",
       "\n",
       "            norm lognorm   normX lognormX    alpha alpha_weighted  \\\n",
       "layer_id                                                            \n",
       "1         142594  5.1541  110875  5.04483  3.50582        17.6746   \n",
       "1         142594  5.1541  110875  5.04483  3.50582        17.6746   \n",
       "\n",
       "         spectralnorm softrank softranklog softranklogratio logpnorm       NxM  \n",
       "layer_id                                                                        \n",
       "1              110031  3.67695    0.565488          1.05804  17.6746  38597376  \n",
       "1              110031  3.67695    0.565488          1.05804  17.6746  38597376  "
      ]
     },
     "execution_count": 39,
     "metadata": {},
     "output_type": "execute_result"
    }
   ],
   "source": [
    "details2.head(2)"
   ]
  },
  {
   "cell_type": "code",
   "execution_count": 45,
   "metadata": {},
   "outputs": [
    {
     "data": {
      "image/png": "[encoded data removed]",
      "text/plain": [
       "<Figure size 720x720 with 1 Axes>"
      ]
     },
     "metadata": {
      "needs_background": "light"
     },
     "output_type": "display_data"
    }
   ],
   "source": [
    "x = np.array(details.index)\n",
    "y = details.logpnorm.to_numpy(dtype=np.float)\n",
    "plt.scatter(x,y, label='GPT')\n",
    "\n",
    "y2 = details2.logpnorm.to_numpy(dtype=np.float)\n",
    "plt.scatter(x,y2, label='GPT2')\n",
    "\n",
    "plt.xlabel(\"layer id \")\n",
    "plt.ylabel(r\"$\\log\\Vert\\mathbf{W}\\Vert_{\\alpha}^{\\alpha}$\")\n",
    "plt.legend()\n",
    "plt.title(\"Log Alpha Norms in GPT and GPT2 models\\n\"+r\"$\\log\\;\\Vert\\mathbf{W}\\Vert_{\\alpha}^{\\alpha}$ vs layer id\")\n",
    "plt.savefig(\"img/GPT-pnorm-depth.png\")"
   ]
  },
  {
   "cell_type": "code",
   "execution_count": null,
   "metadata": {},
   "outputs": [],
   "source": []
  },
  {
   "cell_type": "code",
   "execution_count": null,
   "metadata": {},
   "outputs": [],
   "source": []
  },
  {
   "cell_type": "code",
   "execution_count": null,
   "metadata": {},
   "outputs": [],
   "source": []
  }
 ],
 "metadata": {
  "kernelspec": {
   "display_name": "Python 3",
   "language": "python",
   "name": "python3"
  },
  "language_info": {
   "codemirror_mode": {
    "name": "ipython",
    "version": 3
   },
   "file_extension": ".py",
   "mimetype": "text/x-python",
   "name": "python",
   "nbconvert_exporter": "python",
   "pygments_lexer": "ipython3",
   "version": "3.7.6"
  }
 },
 "nbformat": 4,
 "nbformat_minor": 2
}
