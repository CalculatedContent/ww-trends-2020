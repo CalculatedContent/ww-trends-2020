{
  "nbformat": 4,
  "nbformat_minor": 0,
  "metadata": {
    "colab": {
      "name": "ww_kdd2020_200_300.ipynb",
      "provenance": [],
      "collapsed_sections": [],
      "include_colab_link": true
    },
    "kernelspec": {
      "name": "python3",
      "display_name": "Python 3"
    }
  },
  "cells": [
    {
      "cell_type": "markdown",
      "metadata": {
        "id": "view-in-github",
        "colab_type": "text"
      },
      "source": [
        "<a href=\"https://colab.research.google.com/github/CalculatedContent/ww-colab/blob/master/ww_kdd2020_200_300.ipynb\" target=\"_parent\"><img src=\"https://colab.research.google.com/assets/colab-badge.svg\" alt=\"Open In Colab\"/></a>"
      ]
    },
    {
      "cell_type": "markdown",
      "metadata": {
        "id": "9XPqlpbuz3iP",
        "colab_type": "text"
      },
      "source": [
        "## **Setup**"
      ]
    },
    {
      "cell_type": "code",
      "metadata": {
        "id": "tPJRDcXy-pLo",
        "colab_type": "code",
        "colab": {}
      },
      "source": [
        "import pandas as pd\n",
        "import numpy as np\n",
        "import time\n",
        "import datetime as dt\n",
        "import itertools\n",
        "import os\n",
        "import statsmodels.api as sm\n",
        "import matplotlib.pyplot as plt\n",
        "from google.colab import files #Google colab ONLY"
      ],
      "execution_count": 0,
      "outputs": []
    },
    {
      "cell_type": "code",
      "metadata": {
        "id": "VqAjIhBwESwG",
        "colab_type": "code",
        "colab": {}
      },
      "source": [
        "istart = 200\n",
        "iend = istart+100"
      ],
      "execution_count": 0,
      "outputs": []
    },
    {
      "cell_type": "code",
      "metadata": {
        "id": "BNFrbs5i4Pgl",
        "colab_type": "code",
        "outputId": "91798742-aff9-455d-e78b-494aec14e369",
        "colab": {
          "base_uri": "https://localhost:8080/",
          "height": 122
        }
      },
      "source": [
        "## If export the output to Google Drive (colab ONLY) --> Optional\n",
        "from google.colab import drive\n",
        "drive.mount('/content/drive')\n"
      ],
      "execution_count": 0,
      "outputs": [
        {
          "output_type": "stream",
          "text": [
            "Go to this URL in a browser: https://accounts.google.com/o/oauth2/auth?client_id=947318989803-6bn6qk8qdgf4n4g3pfee6491hc0brc4i.apps.googleusercontent.com&redirect_uri=urn%3aietf%3awg%3aoauth%3a2.0%3aoob&response_type=code&scope=email%20https%3a%2f%2fwww.googleapis.com%2fauth%2fdocs.test%20https%3a%2f%2fwww.googleapis.com%2fauth%2fdrive%20https%3a%2f%2fwww.googleapis.com%2fauth%2fdrive.photos.readonly%20https%3a%2f%2fwww.googleapis.com%2fauth%2fpeopleapi.readonly\n",
            "\n",
            "Enter your authorization code:\n",
            "··········\n",
            "Mounted at /content/drive\n"
          ],
          "name": "stdout"
        }
      ]
    },
    {
      "cell_type": "code",
      "metadata": {
        "id": "8RdciMbAE56J",
        "colab_type": "code",
        "colab": {}
      },
      "source": [
        "import sys\n",
        "path = '/content/drive/My Drive/kdd2020_cv'\n",
        "sys.path.append(path)"
      ],
      "execution_count": 0,
      "outputs": []
    },
    {
      "cell_type": "code",
      "metadata": {
        "id": "KmLi65LDgUWn",
        "colab_type": "code",
        "outputId": "18eb1a61-91fd-413b-dc2b-b14aa7de3e0f",
        "colab": {
          "base_uri": "https://localhost:8080/",
          "height": 34
        }
      },
      "source": [
        "!ls \"$path\""
      ],
      "execution_count": 0,
      "outputs": [
        {
          "output_type": "stream",
          "text": [
            "wwdata-0.2.3\n"
          ],
          "name": "stdout"
        }
      ]
    },
    {
      "cell_type": "code",
      "metadata": {
        "id": "uHHgg91gb61f",
        "colab_type": "code",
        "outputId": "efb21470-73da-4bad-ad37-95f1dd2d73c0",
        "colab": {
          "base_uri": "https://localhost:8080/",
          "height": 819
        }
      },
      "source": [
        "!pip install weightwatcher #install from source\n",
        "#!pip install powerlaw #needed if install ww from local"
      ],
      "execution_count": 0,
      "outputs": [
        {
          "output_type": "stream",
          "text": [
            "Collecting weightwatcher\n",
            "  Downloading https://files.pythonhosted.org/packages/92/34/ad4047b6449e14db4a1bd707ec4626945c977309969318b6d18b619ed82c/WeightWatcher-0.2.7-py3-none-any.whl\n",
            "Requirement already satisfied: tensorflow in /usr/local/lib/python3.6/dist-packages (from weightwatcher) (1.15.0)\n",
            "Requirement already satisfied: matplotlib in /usr/local/lib/python3.6/dist-packages (from weightwatcher) (3.1.2)\n",
            "Requirement already satisfied: numpy in /usr/local/lib/python3.6/dist-packages (from weightwatcher) (1.17.5)\n",
            "Requirement already satisfied: sklearn in /usr/local/lib/python3.6/dist-packages (from weightwatcher) (0.0)\n",
            "Requirement already satisfied: pandas in /usr/local/lib/python3.6/dist-packages (from weightwatcher) (0.25.3)\n",
            "Collecting powerlaw\n",
            "  Downloading https://files.pythonhosted.org/packages/d5/4e/3ceab890fafff8e78a5fd7f5340c232c38b21d181fcd32d7a31079db3646/powerlaw-1.4.6.tar.gz\n",
            "Requirement already satisfied: keras in /usr/local/lib/python3.6/dist-packages (from weightwatcher) (2.2.5)\n",
            "Requirement already satisfied: astor>=0.6.0 in /usr/local/lib/python3.6/dist-packages (from tensorflow->weightwatcher) (0.8.1)\n",
            "Requirement already satisfied: wrapt>=1.11.1 in /usr/local/lib/python3.6/dist-packages (from tensorflow->weightwatcher) (1.11.2)\n",
            "Requirement already satisfied: keras-applications>=1.0.8 in /usr/local/lib/python3.6/dist-packages (from tensorflow->weightwatcher) (1.0.8)\n",
            "Requirement already satisfied: keras-preprocessing>=1.0.5 in /usr/local/lib/python3.6/dist-packages (from tensorflow->weightwatcher) (1.1.0)\n",
            "Requirement already satisfied: google-pasta>=0.1.6 in /usr/local/lib/python3.6/dist-packages (from tensorflow->weightwatcher) (0.1.8)\n",
            "Requirement already satisfied: wheel>=0.26 in /usr/local/lib/python3.6/dist-packages (from tensorflow->weightwatcher) (0.33.6)\n",
            "Requirement already satisfied: absl-py>=0.7.0 in /usr/local/lib/python3.6/dist-packages (from tensorflow->weightwatcher) (0.9.0)\n",
            "Requirement already satisfied: opt-einsum>=2.3.2 in /usr/local/lib/python3.6/dist-packages (from tensorflow->weightwatcher) (3.1.0)\n",
            "Requirement already satisfied: six>=1.10.0 in /usr/local/lib/python3.6/dist-packages (from tensorflow->weightwatcher) (1.12.0)\n",
            "Requirement already satisfied: protobuf>=3.6.1 in /usr/local/lib/python3.6/dist-packages (from tensorflow->weightwatcher) (3.10.0)\n",
            "Requirement already satisfied: termcolor>=1.1.0 in /usr/local/lib/python3.6/dist-packages (from tensorflow->weightwatcher) (1.1.0)\n",
            "Requirement already satisfied: grpcio>=1.8.6 in /usr/local/lib/python3.6/dist-packages (from tensorflow->weightwatcher) (1.15.0)\n",
            "Requirement already satisfied: gast==0.2.2 in /usr/local/lib/python3.6/dist-packages (from tensorflow->weightwatcher) (0.2.2)\n",
            "Requirement already satisfied: tensorboard<1.16.0,>=1.15.0 in /usr/local/lib/python3.6/dist-packages (from tensorflow->weightwatcher) (1.15.0)\n",
            "Requirement already satisfied: tensorflow-estimator==1.15.1 in /usr/local/lib/python3.6/dist-packages (from tensorflow->weightwatcher) (1.15.1)\n",
            "Requirement already satisfied: pyparsing!=2.0.4,!=2.1.2,!=2.1.6,>=2.0.1 in /usr/local/lib/python3.6/dist-packages (from matplotlib->weightwatcher) (2.4.6)\n",
            "Requirement already satisfied: kiwisolver>=1.0.1 in /usr/local/lib/python3.6/dist-packages (from matplotlib->weightwatcher) (1.1.0)\n",
            "Requirement already satisfied: python-dateutil>=2.1 in /usr/local/lib/python3.6/dist-packages (from matplotlib->weightwatcher) (2.6.1)\n",
            "Requirement already satisfied: cycler>=0.10 in /usr/local/lib/python3.6/dist-packages (from matplotlib->weightwatcher) (0.10.0)\n",
            "Requirement already satisfied: scikit-learn in /usr/local/lib/python3.6/dist-packages (from sklearn->weightwatcher) (0.22.1)\n",
            "Requirement already satisfied: pytz>=2017.2 in /usr/local/lib/python3.6/dist-packages (from pandas->weightwatcher) (2018.9)\n",
            "Requirement already satisfied: scipy in /usr/local/lib/python3.6/dist-packages (from powerlaw->weightwatcher) (1.4.1)\n",
            "Requirement already satisfied: mpmath in /usr/local/lib/python3.6/dist-packages (from powerlaw->weightwatcher) (1.1.0)\n",
            "Requirement already satisfied: pyyaml in /usr/local/lib/python3.6/dist-packages (from keras->weightwatcher) (3.13)\n",
            "Requirement already satisfied: h5py in /usr/local/lib/python3.6/dist-packages (from keras->weightwatcher) (2.8.0)\n",
            "Requirement already satisfied: setuptools in /usr/local/lib/python3.6/dist-packages (from protobuf>=3.6.1->tensorflow->weightwatcher) (42.0.2)\n",
            "Requirement already satisfied: markdown>=2.6.8 in /usr/local/lib/python3.6/dist-packages (from tensorboard<1.16.0,>=1.15.0->tensorflow->weightwatcher) (3.1.1)\n",
            "Requirement already satisfied: werkzeug>=0.11.15 in /usr/local/lib/python3.6/dist-packages (from tensorboard<1.16.0,>=1.15.0->tensorflow->weightwatcher) (0.16.0)\n",
            "Requirement already satisfied: joblib>=0.11 in /usr/local/lib/python3.6/dist-packages (from scikit-learn->sklearn->weightwatcher) (0.14.1)\n",
            "Building wheels for collected packages: powerlaw\n",
            "  Building wheel for powerlaw (setup.py) ... \u001b[?25l\u001b[?25hdone\n",
            "  Created wheel for powerlaw: filename=powerlaw-1.4.6-cp36-none-any.whl size=24786 sha256=d42fcbaf84f7696de1e98ffa21e7337aa7866103471b6d364b827147032f2331\n",
            "  Stored in directory: /root/.cache/pip/wheels/e0/27/02/08d0e2865072bfd8d7c655e290521e3feca3fc22f1ac460601\n",
            "Successfully built powerlaw\n",
            "Installing collected packages: powerlaw, weightwatcher\n",
            "Successfully installed powerlaw-1.4.6 weightwatcher-0.2.7\n"
          ],
          "name": "stdout"
        }
      ]
    },
    {
      "cell_type": "code",
      "metadata": {
        "id": "LHTAsJKtJ8qC",
        "colab_type": "code",
        "outputId": "8e5a7702-57b0-4754-8535-3aaa23108d81",
        "colab": {
          "base_uri": "https://localhost:8080/",
          "height": 80
        }
      },
      "source": [
        "import weightwatcher as ww\n",
        "\n",
        "# Suppress the powerlaw package warnings\n",
        "# \"powerlaw.py:700: RuntimeWarning: divide by zero encountered in true_divide\"\n",
        "# \"powerlaw.py:700: RuntimeWarning: invalid value encountered in true_divide\"\n",
        "import warnings\n",
        "warnings.simplefilter(action='ignore', category=RuntimeWarning)\n",
        "\n",
        "# crea\n",
        "import logging\n",
        "logger = logging.getLogger(\"imported_module\")\n",
        "logger.setLevel(logging.CRITICAL)"
      ],
      "execution_count": 0,
      "outputs": [
        {
          "output_type": "display_data",
          "data": {
            "text/html": [
              "<p style=\"color: red;\">\n",
              "The default version of TensorFlow in Colab will soon switch to TensorFlow 2.x.<br>\n",
              "We recommend you <a href=\"https://www.tensorflow.org/guide/migrate\" target=\"_blank\">upgrade</a> now \n",
              "or ensure your notebook will continue to use TensorFlow 1.x via the <code>%tensorflow_version 1.x</code> magic:\n",
              "<a href=\"https://colab.research.google.com/notebooks/tensorflow_version.ipynb\" target=\"_blank\">more info</a>.</p>\n"
            ],
            "text/plain": [
              "<IPython.core.display.HTML object>"
            ]
          },
          "metadata": {
            "tags": []
          }
        },
        {
          "output_type": "stream",
          "text": [
            "Using TensorFlow backend.\n"
          ],
          "name": "stderr"
        }
      ]
    },
    {
      "cell_type": "markdown",
      "metadata": {
        "id": "Ca8vO5g1Xzep",
        "colab_type": "text"
      },
      "source": [
        "## **PyTorch Models**"
      ]
    },
    {
      "cell_type": "markdown",
      "metadata": {
        "id": "ejeeJWoTBcvR",
        "colab_type": "text"
      },
      "source": [
        "### **1. Analyze all models in Pytorchcv**"
      ]
    },
    {
      "cell_type": "code",
      "metadata": {
        "id": "kXAg7rm2qn5Q",
        "colab_type": "code",
        "outputId": "0ac219df-1111-414d-a1b7-6d3ae104aaea",
        "colab": {
          "base_uri": "https://localhost:8080/",
          "height": 224
        }
      },
      "source": [
        "!pip install pytorchcv"
      ],
      "execution_count": 0,
      "outputs": [
        {
          "output_type": "stream",
          "text": [
            "Collecting pytorchcv\n",
            "\u001b[?25l  Downloading https://files.pythonhosted.org/packages/a2/ce/72d2a2cddeffe5476e85139b71b12a607c07fde9d6a3bdb38b94a9336e67/pytorchcv-0.0.54-py2.py3-none-any.whl (390kB)\n",
            "\u001b[K     |████████████████████████████████| 399kB 3.0MB/s \n",
            "\u001b[?25hRequirement already satisfied: requests in /usr/local/lib/python3.6/dist-packages (from pytorchcv) (2.21.0)\n",
            "Requirement already satisfied: numpy in /usr/local/lib/python3.6/dist-packages (from pytorchcv) (1.17.5)\n",
            "Requirement already satisfied: certifi>=2017.4.17 in /usr/local/lib/python3.6/dist-packages (from requests->pytorchcv) (2019.11.28)\n",
            "Requirement already satisfied: idna<2.9,>=2.5 in /usr/local/lib/python3.6/dist-packages (from requests->pytorchcv) (2.8)\n",
            "Requirement already satisfied: chardet<3.1.0,>=3.0.2 in /usr/local/lib/python3.6/dist-packages (from requests->pytorchcv) (3.0.4)\n",
            "Requirement already satisfied: urllib3<1.25,>=1.21.1 in /usr/local/lib/python3.6/dist-packages (from requests->pytorchcv) (1.24.3)\n",
            "Installing collected packages: pytorchcv\n",
            "Successfully installed pytorchcv-0.0.54\n"
          ],
          "name": "stdout"
        }
      ]
    },
    {
      "cell_type": "code",
      "metadata": {
        "id": "pU4-NO40NZGl",
        "colab_type": "code",
        "colab": {}
      },
      "source": [
        "## Check storage\n",
        "#import subprocess\n",
        "#p = subprocess.Popen('df -h', shell=True, stdout=subprocess.PIPE)\n",
        "#print(str(p.communicate()[0], 'utf-8'))"
      ],
      "execution_count": 0,
      "outputs": []
    },
    {
      "cell_type": "code",
      "metadata": {
        "id": "NfGZcdKHYu7H",
        "colab_type": "code",
        "outputId": "97fee9b0-dbe0-42a8-a262-4ecde08e15ce",
        "colab": {
          "base_uri": "https://localhost:8080/",
          "height": 34
        }
      },
      "source": [
        "from pytorchcv.model_provider import get_model as ptcv_get_model\n",
        "import torch\n",
        "\n",
        "import pytorchcv\n",
        "import pytorchcv.models.model_store\n",
        "\n",
        "modelnames = pytorchcv.models.model_store._model_sha1.keys()\n",
        "modelnames = list(modelnames)\n",
        "print('{} models to examine'.format(len(modelnames)))"
      ],
      "execution_count": 0,
      "outputs": [
        {
          "output_type": "stream",
          "text": [
            "483 models to examine\n"
          ],
          "name": "stdout"
        }
      ]
    },
    {
      "cell_type": "code",
      "metadata": {
        "id": "Ljg9e5w2SACq",
        "colab_type": "code",
        "colab": {}
      },
      "source": [
        "# this_models = pd.read_excel('notfound.xlsx')[0].tolist()\n",
        "# len(this_models[1:])"
      ],
      "execution_count": 0,
      "outputs": []
    },
    {
      "cell_type": "code",
      "metadata": {
        "id": "Ys_-z4GJq3kD",
        "colab_type": "code",
        "outputId": "f0201e36-a390-4708-aa9f-9d2e9113f521",
        "colab": {
          "base_uri": "https://localhost:8080/",
          "height": 1000
        }
      },
      "source": [
        "## Takes about 10-15 hours to run 100 models as of 9/3/2019\n",
        "\n",
        "data = {}\n",
        "ss = time.time()\n",
        "i = 0\n",
        "notfound = []\n",
        "ww_error = []\n",
        "for modelname in modelnames[istart:iend]: \n",
        "    print(modelname)\n",
        "    try:\n",
        "        s = time.time()\n",
        "        model = ptcv_get_model(modelname, pretrained=True)\n",
        "\n",
        "    except:\n",
        "        notfound.append(modelname)\n",
        "        e = time.time()\n",
        "        print(\"{} not found\".format(modelname))\n",
        "        print('--------------------------------------------------------')\n",
        "        i += 1\n",
        "        continue\n",
        "\n",
        "    try:\n",
        "        watcher = ww.WeightWatcher(model=model, logger=logger)\n",
        "        results = watcher.analyze(alphas = True, spectralnorms=True, softranks=True, mp_fit = True)\n",
        "        e = time.time()\n",
        "        \n",
        "        data[modelname]=watcher.get_summary()\n",
        "        \n",
        "        print('time spent is {}'.format((e-s)/60.))\n",
        "        print('--------------------------------------------------------')\n",
        "        \n",
        "    except:\n",
        "        ww_error.append(modelname)\n",
        "        e = time.time()\n",
        "        print(\"Error in weightwatcher operation for {}\".format(modelname))\n",
        "        print('--------------------------------------------------------')\n",
        "        \n",
        "    i += 1\n",
        "\n",
        "    #Export/backup the results every 1 hour runtime or every 50 models  \n",
        "    if ((e - ss) > 60*60) or ((i - istart)%25 == 0): \n",
        "      \n",
        "        ddf = pd.DataFrame.from_dict(data).transpose()\n",
        "        ddf.to_excel(path + '/data_{}-{}_{}.xlsx'.format(istart, i, dt.date.today()))\n",
        "        \n",
        "        ss = time.time()\n",
        "        \n",
        "        #try:\n",
        "        #    !rm -rf /root/.torch/models #clean the memory\n",
        "        #except:\n",
        "        #    pass\n",
        "          \n",
        "    if i >= iend: #Export when all models are finished\n",
        "      \n",
        "        ddf = pd.DataFrame.from_dict(data).transpose()\n",
        "        ddf.to_excel(path + '/data_{}-{}_{}.xlsx'.format(istart, i, dt.date.today()))\n",
        "        \n",
        "        # break\n",
        "\n",
        "ddf = pd.DataFrame.from_dict(data).transpose()\n",
        "ddf.to_excel(path + '/data_{}-{}_{}.xlsx'.format(istart, i, dt.date.today()))"
      ],
      "execution_count": 0,
      "outputs": [
        {
          "output_type": "stream",
          "text": [
            "mobilenetv2_w3d4\n",
            "Downloading /root/.torch/models/mobilenetv2_w3d4-1082-8656de5a.pth.zip from https://github.com/osmr/imgclsmob/releases/download/v0.0.230/mobilenetv2_w3d4-1082-8656de5a.pth.zip...\n",
            "time spent is 0.3092291990915934\n",
            "--------------------------------------------------------\n",
            "mobilenetv2_w1\n",
            "Downloading /root/.torch/models/mobilenetv2_w1-0887-13a021bc.pth.zip from https://github.com/osmr/imgclsmob/releases/download/v0.0.213/mobilenetv2_w1-0887-13a021bc.pth.zip...\n",
            "time spent is 0.3751315633455912\n",
            "--------------------------------------------------------\n",
            "mobilenetv3_large_w1\n",
            "Downloading /root/.torch/models/mobilenetv3_large_w1-0779-38e392f5.pth.zip from https://github.com/osmr/imgclsmob/releases/download/v0.0.411/mobilenetv3_large_w1-0779-38e392f5.pth.zip...\n",
            "time spent is 0.5644406119982401\n",
            "--------------------------------------------------------\n",
            "igcv3_wd4\n",
            "Downloading /root/.torch/models/igcv3_wd4-2871-c9f28301.pth.zip from https://github.com/osmr/imgclsmob/releases/download/v0.0.142/igcv3_wd4-2871-c9f28301.pth.zip...\n",
            "time spent is 0.2678507685661316\n",
            "--------------------------------------------------------\n",
            "igcv3_wd2\n",
            "Downloading /root/.torch/models/igcv3_wd2-1732-8c504f44.pth.zip from https://github.com/osmr/imgclsmob/releases/download/v0.0.132/igcv3_wd2-1732-8c504f44.pth.zip...\n",
            "time spent is 0.3006654461224874\n",
            "--------------------------------------------------------\n",
            "igcv3_w3d4\n",
            "Downloading /root/.torch/models/igcv3_w3d4-1140-63f43cf8.pth.zip from https://github.com/osmr/imgclsmob/releases/download/v0.0.207/igcv3_w3d4-1140-63f43cf8.pth.zip...\n",
            "time spent is 0.37885146141052245\n",
            "--------------------------------------------------------\n",
            "igcv3_w1\n",
            "Downloading /root/.torch/models/igcv3_w1-0920-12385791.pth.zip from https://github.com/osmr/imgclsmob/releases/download/v0.0.243/igcv3_w1-0920-12385791.pth.zip...\n",
            "time spent is 0.4594446380933126\n",
            "--------------------------------------------------------\n",
            "mnasnet_b1\n",
            "Downloading /root/.torch/models/mnasnet_b1-0785-188ea3e9.pth.zip from https://github.com/osmr/imgclsmob/releases/download/v0.0.419/mnasnet_b1-0785-188ea3e9.pth.zip...\n",
            "time spent is 0.4016276359558105\n",
            "--------------------------------------------------------\n",
            "mnasnet_a1\n",
            "Downloading /root/.torch/models/mnasnet_a1-0744-e415e240.pth.zip from https://github.com/osmr/imgclsmob/releases/download/v0.0.419/mnasnet_a1-0744-e415e240.pth.zip...\n",
            "time spent is 0.4392171223958333\n",
            "--------------------------------------------------------\n",
            "darts\n",
            "Downloading /root/.torch/models/darts-0874-74f0c7b6.pth.zip from https://github.com/osmr/imgclsmob/releases/download/v0.0.118/darts-0874-74f0c7b6.pth.zip...\n",
            "time spent is 1.285421605904897\n",
            "--------------------------------------------------------\n",
            "proxylessnas_cpu\n",
            "Downloading /root/.torch/models/proxylessnas_cpu-0761-fe9572b1.pth.zip from https://github.com/osmr/imgclsmob/releases/download/v0.0.304/proxylessnas_cpu-0761-fe9572b1.pth.zip...\n",
            "time spent is 0.4411856253941854\n",
            "--------------------------------------------------------\n",
            "proxylessnas_gpu\n",
            "Downloading /root/.torch/models/proxylessnas_gpu-0745-acca5941.pth.zip from https://github.com/osmr/imgclsmob/releases/download/v0.0.333/proxylessnas_gpu-0745-acca5941.pth.zip...\n",
            "time spent is 0.4979019602139791\n",
            "--------------------------------------------------------\n",
            "proxylessnas_mobile\n",
            "Downloading /root/.torch/models/proxylessnas_mobile-0780-639a90c2.pth.zip from https://github.com/osmr/imgclsmob/releases/download/v0.0.304/proxylessnas_mobile-0780-639a90c2.pth.zip...\n",
            "time spent is 0.4361199418703715\n",
            "--------------------------------------------------------\n",
            "proxylessnas_mobile14\n",
            "Downloading /root/.torch/models/proxylessnas_mobile14-0662-0c0ad983.pth.zip from https://github.com/osmr/imgclsmob/releases/download/v0.0.331/proxylessnas_mobile14-0662-0c0ad983.pth.zip...\n",
            "time spent is 0.5790614287058512\n",
            "--------------------------------------------------------\n",
            "fbnet_cb\n",
            "Downloading /root/.torch/models/fbnet_cb-0762-2edb61f8.pth.zip from https://github.com/osmr/imgclsmob/releases/download/v0.0.415/fbnet_cb-0762-2edb61f8.pth.zip...\n",
            "time spent is 0.4731788078943888\n",
            "--------------------------------------------------------\n",
            "xception\n",
            "Downloading /root/.torch/models/xception-0549-e4f0232c.pth.zip from https://github.com/osmr/imgclsmob/releases/download/v0.0.115/xception-0549-e4f0232c.pth.zip...\n",
            "time spent is 2.547080608208974\n",
            "--------------------------------------------------------\n",
            "inceptionv3\n",
            "Downloading /root/.torch/models/inceptionv3-0565-cf406180.pth.zip from https://github.com/osmr/imgclsmob/releases/download/v0.0.92/inceptionv3-0565-cf406180.pth.zip...\n",
            "time spent is 4.109381298224132\n",
            "--------------------------------------------------------\n",
            "inceptionv4\n",
            "Downloading /root/.torch/models/inceptionv4-0529-5cb7b4e4.pth.zip from https://github.com/osmr/imgclsmob/releases/download/v0.0.105/inceptionv4-0529-5cb7b4e4.pth.zip...\n",
            "time spent is 7.071609878540039\n",
            "--------------------------------------------------------\n",
            "inceptionresnetv2\n",
            "Downloading /root/.torch/models/inceptionresnetv2-0490-1d1b4d18.pth.zip from https://github.com/osmr/imgclsmob/releases/download/v0.0.107/inceptionresnetv2-0490-1d1b4d18.pth.zip...\n"
          ],
          "name": "stdout"
        }
      ]
    }
  ]
}