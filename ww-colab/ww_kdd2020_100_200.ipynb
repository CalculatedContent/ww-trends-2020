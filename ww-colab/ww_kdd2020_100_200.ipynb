{
  "nbformat": 4,
  "nbformat_minor": 0,
  "metadata": {
    "colab": {
      "name": "ww_kdd2020_100_200.ipynb",
      "provenance": [],
      "collapsed_sections": [],
      "include_colab_link": true
    },
    "kernelspec": {
      "name": "python3",
      "display_name": "Python 3"
    }
  },
  "cells": [
    {
      "cell_type": "markdown",
      "metadata": {
        "id": "view-in-github",
        "colab_type": "text"
      },
      "source": [
        "<a href=\"https://colab.research.google.com/github/CalculatedContent/ww-colab/blob/master/ww_kdd2020_100_200.ipynb\" target=\"_parent\"><img src=\"https://colab.research.google.com/assets/colab-badge.svg\" alt=\"Open In Colab\"/></a>"
      ]
    },
    {
      "cell_type": "markdown",
      "metadata": {
        "id": "9XPqlpbuz3iP",
        "colab_type": "text"
      },
      "source": [
        "## **Setup**"
      ]
    },
    {
      "cell_type": "code",
      "metadata": {
        "id": "tPJRDcXy-pLo",
        "colab_type": "code",
        "colab": {}
      },
      "source": [
        "import pandas as pd\n",
        "import numpy as np\n",
        "import time\n",
        "import datetime as dt\n",
        "import itertools\n",
        "import os\n",
        "import statsmodels.api as sm\n",
        "import matplotlib.pyplot as plt\n",
        "from google.colab import files #Google colab ONLY"
      ],
      "execution_count": 0,
      "outputs": []
    },
    {
      "cell_type": "code",
      "metadata": {
        "id": "VqAjIhBwESwG",
        "colab_type": "code",
        "colab": {}
      },
      "source": [
        "istart = 100\n",
        "iend = istart+100"
      ],
      "execution_count": 0,
      "outputs": []
    },
    {
      "cell_type": "code",
      "metadata": {
        "id": "BNFrbs5i4Pgl",
        "colab_type": "code",
        "outputId": "02113e31-4591-4780-8c97-455eb67b1643",
        "colab": {
          "base_uri": "https://localhost:8080/",
          "height": 34
        }
      },
      "source": [
        "## If export the output to Google Drive (colab ONLY) --> Optional\n",
        "from google.colab import drive\n",
        "drive.mount('/content/drive')\n"
      ],
      "execution_count": 14,
      "outputs": [
        {
          "output_type": "stream",
          "text": [
            "Drive already mounted at /content/drive; to attempt to forcibly remount, call drive.mount(\"/content/drive\", force_remount=True).\n"
          ],
          "name": "stdout"
        }
      ]
    },
    {
      "cell_type": "code",
      "metadata": {
        "id": "8RdciMbAE56J",
        "colab_type": "code",
        "colab": {}
      },
      "source": [
        "import sys\n",
        "path = '/content/drive/My Drive/kdd2020_cv'\n",
        "sys.path.append(path)"
      ],
      "execution_count": 0,
      "outputs": []
    },
    {
      "cell_type": "code",
      "metadata": {
        "id": "KmLi65LDgUWn",
        "colab_type": "code",
        "outputId": "efa35096-2ca3-466d-a648-60c997c155c9",
        "colab": {
          "base_uri": "https://localhost:8080/",
          "height": 34
        }
      },
      "source": [
        "!ls \"$path\""
      ],
      "execution_count": 16,
      "outputs": [
        {
          "output_type": "stream",
          "text": [
            "wwdata-0.2.3\n"
          ],
          "name": "stdout"
        }
      ]
    },
    {
      "cell_type": "code",
      "metadata": {
        "id": "uHHgg91gb61f",
        "colab_type": "code",
        "outputId": "d61bfbc7-fcba-4c97-e79c-2badb88a1f30",
        "colab": {
          "base_uri": "https://localhost:8080/",
          "height": 819
        }
      },
      "source": [
        "!pip install weightwatcher #install from source\n",
        "#!pip install powerlaw #needed if install ww from local"
      ],
      "execution_count": 17,
      "outputs": [
        {
          "output_type": "stream",
          "text": [
            "Collecting weightwatcher\n",
            "  Downloading https://files.pythonhosted.org/packages/92/34/ad4047b6449e14db4a1bd707ec4626945c977309969318b6d18b619ed82c/WeightWatcher-0.2.7-py3-none-any.whl\n",
            "Requirement already satisfied: pandas in /usr/local/lib/python3.6/dist-packages (from weightwatcher) (0.25.3)\n",
            "Requirement already satisfied: numpy in /usr/local/lib/python3.6/dist-packages (from weightwatcher) (1.17.5)\n",
            "Requirement already satisfied: sklearn in /usr/local/lib/python3.6/dist-packages (from weightwatcher) (0.0)\n",
            "Requirement already satisfied: matplotlib in /usr/local/lib/python3.6/dist-packages (from weightwatcher) (3.1.2)\n",
            "Collecting powerlaw\n",
            "  Downloading https://files.pythonhosted.org/packages/d5/4e/3ceab890fafff8e78a5fd7f5340c232c38b21d181fcd32d7a31079db3646/powerlaw-1.4.6.tar.gz\n",
            "Requirement already satisfied: tensorflow in /usr/local/lib/python3.6/dist-packages (from weightwatcher) (1.15.0)\n",
            "Requirement already satisfied: keras in /usr/local/lib/python3.6/dist-packages (from weightwatcher) (2.2.5)\n",
            "Requirement already satisfied: python-dateutil>=2.6.1 in /usr/local/lib/python3.6/dist-packages (from pandas->weightwatcher) (2.6.1)\n",
            "Requirement already satisfied: pytz>=2017.2 in /usr/local/lib/python3.6/dist-packages (from pandas->weightwatcher) (2018.9)\n",
            "Requirement already satisfied: scikit-learn in /usr/local/lib/python3.6/dist-packages (from sklearn->weightwatcher) (0.22.1)\n",
            "Requirement already satisfied: cycler>=0.10 in /usr/local/lib/python3.6/dist-packages (from matplotlib->weightwatcher) (0.10.0)\n",
            "Requirement already satisfied: kiwisolver>=1.0.1 in /usr/local/lib/python3.6/dist-packages (from matplotlib->weightwatcher) (1.1.0)\n",
            "Requirement already satisfied: pyparsing!=2.0.4,!=2.1.2,!=2.1.6,>=2.0.1 in /usr/local/lib/python3.6/dist-packages (from matplotlib->weightwatcher) (2.4.6)\n",
            "Requirement already satisfied: scipy in /usr/local/lib/python3.6/dist-packages (from powerlaw->weightwatcher) (1.4.1)\n",
            "Requirement already satisfied: mpmath in /usr/local/lib/python3.6/dist-packages (from powerlaw->weightwatcher) (1.1.0)\n",
            "Requirement already satisfied: wrapt>=1.11.1 in /usr/local/lib/python3.6/dist-packages (from tensorflow->weightwatcher) (1.11.2)\n",
            "Requirement already satisfied: gast==0.2.2 in /usr/local/lib/python3.6/dist-packages (from tensorflow->weightwatcher) (0.2.2)\n",
            "Requirement already satisfied: astor>=0.6.0 in /usr/local/lib/python3.6/dist-packages (from tensorflow->weightwatcher) (0.8.1)\n",
            "Requirement already satisfied: absl-py>=0.7.0 in /usr/local/lib/python3.6/dist-packages (from tensorflow->weightwatcher) (0.9.0)\n",
            "Requirement already satisfied: keras-preprocessing>=1.0.5 in /usr/local/lib/python3.6/dist-packages (from tensorflow->weightwatcher) (1.1.0)\n",
            "Requirement already satisfied: tensorboard<1.16.0,>=1.15.0 in /usr/local/lib/python3.6/dist-packages (from tensorflow->weightwatcher) (1.15.0)\n",
            "Requirement already satisfied: keras-applications>=1.0.8 in /usr/local/lib/python3.6/dist-packages (from tensorflow->weightwatcher) (1.0.8)\n",
            "Requirement already satisfied: opt-einsum>=2.3.2 in /usr/local/lib/python3.6/dist-packages (from tensorflow->weightwatcher) (3.1.0)\n",
            "Requirement already satisfied: grpcio>=1.8.6 in /usr/local/lib/python3.6/dist-packages (from tensorflow->weightwatcher) (1.15.0)\n",
            "Requirement already satisfied: protobuf>=3.6.1 in /usr/local/lib/python3.6/dist-packages (from tensorflow->weightwatcher) (3.10.0)\n",
            "Requirement already satisfied: wheel>=0.26 in /usr/local/lib/python3.6/dist-packages (from tensorflow->weightwatcher) (0.33.6)\n",
            "Requirement already satisfied: termcolor>=1.1.0 in /usr/local/lib/python3.6/dist-packages (from tensorflow->weightwatcher) (1.1.0)\n",
            "Requirement already satisfied: six>=1.10.0 in /usr/local/lib/python3.6/dist-packages (from tensorflow->weightwatcher) (1.12.0)\n",
            "Requirement already satisfied: google-pasta>=0.1.6 in /usr/local/lib/python3.6/dist-packages (from tensorflow->weightwatcher) (0.1.8)\n",
            "Requirement already satisfied: tensorflow-estimator==1.15.1 in /usr/local/lib/python3.6/dist-packages (from tensorflow->weightwatcher) (1.15.1)\n",
            "Requirement already satisfied: h5py in /usr/local/lib/python3.6/dist-packages (from keras->weightwatcher) (2.8.0)\n",
            "Requirement already satisfied: pyyaml in /usr/local/lib/python3.6/dist-packages (from keras->weightwatcher) (3.13)\n",
            "Requirement already satisfied: joblib>=0.11 in /usr/local/lib/python3.6/dist-packages (from scikit-learn->sklearn->weightwatcher) (0.14.1)\n",
            "Requirement already satisfied: setuptools in /usr/local/lib/python3.6/dist-packages (from kiwisolver>=1.0.1->matplotlib->weightwatcher) (42.0.2)\n",
            "Requirement already satisfied: markdown>=2.6.8 in /usr/local/lib/python3.6/dist-packages (from tensorboard<1.16.0,>=1.15.0->tensorflow->weightwatcher) (3.1.1)\n",
            "Requirement already satisfied: werkzeug>=0.11.15 in /usr/local/lib/python3.6/dist-packages (from tensorboard<1.16.0,>=1.15.0->tensorflow->weightwatcher) (0.16.0)\n",
            "Building wheels for collected packages: powerlaw\n",
            "  Building wheel for powerlaw (setup.py) ... \u001b[?25l\u001b[?25hdone\n",
            "  Created wheel for powerlaw: filename=powerlaw-1.4.6-cp36-none-any.whl size=24786 sha256=9bc560c728a4a0ab9bfd176a567641cf28bcc7f07185666a79b631f7ecfc536e\n",
            "  Stored in directory: /root/.cache/pip/wheels/e0/27/02/08d0e2865072bfd8d7c655e290521e3feca3fc22f1ac460601\n",
            "Successfully built powerlaw\n",
            "Installing collected packages: powerlaw, weightwatcher\n",
            "Successfully installed powerlaw-1.4.6 weightwatcher-0.2.7\n"
          ],
          "name": "stdout"
        }
      ]
    },
    {
      "cell_type": "code",
      "metadata": {
        "id": "LHTAsJKtJ8qC",
        "colab_type": "code",
        "outputId": "8d1f8afd-eb9b-41b8-b312-638a1449a6d4",
        "colab": {
          "base_uri": "https://localhost:8080/",
          "height": 80
        }
      },
      "source": [
        "import weightwatcher as ww\n",
        "\n",
        "# Suppress the powerlaw package warnings\n",
        "# \"powerlaw.py:700: RuntimeWarning: divide by zero encountered in true_divide\"\n",
        "# \"powerlaw.py:700: RuntimeWarning: invalid value encountered in true_divide\"\n",
        "import warnings\n",
        "warnings.simplefilter(action='ignore', category=RuntimeWarning)\n",
        "\n",
        "# crea\n",
        "import logging\n",
        "logger = logging.getLogger(\"imported_module\")\n",
        "logger.setLevel(logging.CRITICAL)"
      ],
      "execution_count": 18,
      "outputs": [
        {
          "output_type": "display_data",
          "data": {
            "text/html": [
              "<p style=\"color: red;\">\n",
              "The default version of TensorFlow in Colab will soon switch to TensorFlow 2.x.<br>\n",
              "We recommend you <a href=\"https://www.tensorflow.org/guide/migrate\" target=\"_blank\">upgrade</a> now \n",
              "or ensure your notebook will continue to use TensorFlow 1.x via the <code>%tensorflow_version 1.x</code> magic:\n",
              "<a href=\"https://colab.research.google.com/notebooks/tensorflow_version.ipynb\" target=\"_blank\">more info</a>.</p>\n"
            ],
            "text/plain": [
              "<IPython.core.display.HTML object>"
            ]
          },
          "metadata": {
            "tags": []
          }
        },
        {
          "output_type": "stream",
          "text": [
            "Using TensorFlow backend.\n"
          ],
          "name": "stderr"
        }
      ]
    },
    {
      "cell_type": "markdown",
      "metadata": {
        "id": "Ca8vO5g1Xzep",
        "colab_type": "text"
      },
      "source": [
        "## **PyTorch Models**"
      ]
    },
    {
      "cell_type": "markdown",
      "metadata": {
        "id": "ejeeJWoTBcvR",
        "colab_type": "text"
      },
      "source": [
        "### **1. Analyze all models in Pytorchcv**"
      ]
    },
    {
      "cell_type": "code",
      "metadata": {
        "id": "kXAg7rm2qn5Q",
        "colab_type": "code",
        "outputId": "f815db43-f83e-4508-809d-95992980ed21",
        "colab": {
          "base_uri": "https://localhost:8080/",
          "height": 224
        }
      },
      "source": [
        "!pip install pytorchcv"
      ],
      "execution_count": 19,
      "outputs": [
        {
          "output_type": "stream",
          "text": [
            "Collecting pytorchcv\n",
            "\u001b[?25l  Downloading https://files.pythonhosted.org/packages/a2/ce/72d2a2cddeffe5476e85139b71b12a607c07fde9d6a3bdb38b94a9336e67/pytorchcv-0.0.54-py2.py3-none-any.whl (390kB)\n",
            "\u001b[K     |████████████████████████████████| 399kB 8.7MB/s \n",
            "\u001b[?25hRequirement already satisfied: requests in /usr/local/lib/python3.6/dist-packages (from pytorchcv) (2.21.0)\n",
            "Requirement already satisfied: numpy in /usr/local/lib/python3.6/dist-packages (from pytorchcv) (1.17.5)\n",
            "Requirement already satisfied: idna<2.9,>=2.5 in /usr/local/lib/python3.6/dist-packages (from requests->pytorchcv) (2.8)\n",
            "Requirement already satisfied: certifi>=2017.4.17 in /usr/local/lib/python3.6/dist-packages (from requests->pytorchcv) (2019.11.28)\n",
            "Requirement already satisfied: chardet<3.1.0,>=3.0.2 in /usr/local/lib/python3.6/dist-packages (from requests->pytorchcv) (3.0.4)\n",
            "Requirement already satisfied: urllib3<1.25,>=1.21.1 in /usr/local/lib/python3.6/dist-packages (from requests->pytorchcv) (1.24.3)\n",
            "Installing collected packages: pytorchcv\n",
            "Successfully installed pytorchcv-0.0.54\n"
          ],
          "name": "stdout"
        }
      ]
    },
    {
      "cell_type": "code",
      "metadata": {
        "id": "pU4-NO40NZGl",
        "colab_type": "code",
        "colab": {}
      },
      "source": [
        "## Check storage\n",
        "#import subprocess\n",
        "#p = subprocess.Popen('df -h', shell=True, stdout=subprocess.PIPE)\n",
        "#print(str(p.communicate()[0], 'utf-8'))"
      ],
      "execution_count": 0,
      "outputs": []
    },
    {
      "cell_type": "code",
      "metadata": {
        "id": "NfGZcdKHYu7H",
        "colab_type": "code",
        "outputId": "87781aa3-6e3a-4199-a822-2b0f80b1fc08",
        "colab": {
          "base_uri": "https://localhost:8080/",
          "height": 34
        }
      },
      "source": [
        "from pytorchcv.model_provider import get_model as ptcv_get_model\n",
        "import torch\n",
        "\n",
        "import pytorchcv\n",
        "import pytorchcv.models.model_store\n",
        "\n",
        "modelnames = pytorchcv.models.model_store._model_sha1.keys()\n",
        "modelnames = list(modelnames)\n",
        "print('{} models to examine'.format(len(modelnames)))"
      ],
      "execution_count": 21,
      "outputs": [
        {
          "output_type": "stream",
          "text": [
            "483 models to examine\n"
          ],
          "name": "stdout"
        }
      ]
    },
    {
      "cell_type": "code",
      "metadata": {
        "id": "Ljg9e5w2SACq",
        "colab_type": "code",
        "colab": {}
      },
      "source": [
        "# this_models = pd.read_excel('notfound.xlsx')[0].tolist()\n",
        "# len(this_models[1:])"
      ],
      "execution_count": 0,
      "outputs": []
    },
    {
      "cell_type": "code",
      "metadata": {
        "id": "Ys_-z4GJq3kD",
        "colab_type": "code",
        "outputId": "ab67c412-ebd9-4dd9-be55-bea6aae95057",
        "colab": {
          "base_uri": "https://localhost:8080/",
          "height": 411
        }
      },
      "source": [
        "## Takes about 10-15 hours to run 100 models as of 9/3/2019\n",
        "\n",
        "data = {}\n",
        "ss = time.time()\n",
        "i = 0\n",
        "notfound = []\n",
        "ww_error = []\n",
        "for modelname in modelnames[istart:iend]: \n",
        "    print(modelname)\n",
        "    try:\n",
        "        s = time.time()\n",
        "        model = ptcv_get_model(modelname, pretrained=True)\n",
        "\n",
        "    except:\n",
        "        notfound.append(modelname)\n",
        "        e = time.time()\n",
        "        print(\"{} not found\".format(modelname))\n",
        "        print('--------------------------------------------------------')\n",
        "        i += 1\n",
        "        continue\n",
        "\n",
        "    try:\n",
        "        watcher = ww.WeightWatcher(model=model, logger=logger)\n",
        "        results = watcher.analyze(alphas = True, spectralnorms=True, softranks=True, mp_fit = True)\n",
        "        e = time.time()\n",
        "        \n",
        "        data[modelname]=watcher.get_summary()\n",
        "        \n",
        "        print('time spent is {}'.format((e-s)/60.))\n",
        "        print('--------------------------------------------------------')\n",
        "        \n",
        "    except:\n",
        "        ww_error.append(modelname)\n",
        "        e = time.time()\n",
        "        print(\"Error in weightwatcher operation for {}\".format(modelname))\n",
        "        print('--------------------------------------------------------')\n",
        "        \n",
        "    i += 1\n",
        "\n",
        "    #Export/backup the results every 1 hour runtime or every 50 models  \n",
        "    if ((e - ss) > 60*60) or ((i - istart)%25 == 0): \n",
        "      \n",
        "        ddf = pd.DataFrame.from_dict(data).transpose()\n",
        "        ddf.to_excel(path + '/data_{}-{}_{}.xlsx'.format(istart, i, dt.date.today()))\n",
        "        \n",
        "        ss = time.time()\n",
        "        \n",
        "        #try:\n",
        "        #    !rm -rf /root/.torch/models #clean the memory\n",
        "        #except:\n",
        "        #    pass\n",
        "          \n",
        "    if i >= iend: #Export when all models are finished\n",
        "      \n",
        "        ddf = pd.DataFrame.from_dict(data).transpose()\n",
        "        ddf.to_excel(path + '/data_{}-{}_{}.xlsx'.format(istart, i, dt.date.today()))\n",
        "        \n",
        "        # break\n",
        "\n",
        "ddf = pd.DataFrame.from_dict(data).transpose()\n",
        "ddf.to_excel(path + '/data_{}-{}_{}.xlsx'.format(istart, i, dt.date.today()))"
      ],
      "execution_count": 0,
      "outputs": [
        {
          "output_type": "stream",
          "text": [
            "densenet169\n",
            "Downloading /root/.torch/models/densenet169-0629-44974a17.pth.zip from https://github.com/osmr/imgclsmob/releases/download/v0.0.406/densenet169-0629-44974a17.pth.zip...\n",
            "time spent is 1.4300641218821208\n",
            "--------------------------------------------------------\n",
            "densenet201\n",
            "Downloading /root/.torch/models/densenet201-0612-6adc8625.pth.zip from https://github.com/osmr/imgclsmob/releases/download/v0.0.426/densenet201-0612-6adc8625.pth.zip...\n",
            "time spent is 1.7618928710619608\n",
            "--------------------------------------------------------\n",
            "condensenet74_c4_g4\n",
            "Downloading /root/.torch/models/condensenet74_c4_g4-0828-5ba55049.pth.zip from https://github.com/osmr/imgclsmob/releases/download/v0.0.4/condensenet74_c4_g4-0828-5ba55049.pth.zip...\n",
            "time spent is 1.5427786707878113\n",
            "--------------------------------------------------------\n",
            "condensenet74_c8_g8\n",
            "Downloading /root/.torch/models/condensenet74_c8_g8-1006-3574d874.pth.zip from https://github.com/osmr/imgclsmob/releases/download/v0.0.4/condensenet74_c8_g8-1006-3574d874.pth.zip...\n",
            "time spent is 0.8034937699635823\n",
            "--------------------------------------------------------\n",
            "peleenet\n",
            "Downloading /root/.torch/models/peleenet-1151-9c47b802.pth.zip from https://github.com/osmr/imgclsmob/releases/download/v0.0.141/peleenet-1151-9c47b802.pth.zip...\n",
            "time spent is 0.6795725623766581\n",
            "--------------------------------------------------------\n",
            "wrn50_2\n",
            "Downloading /root/.torch/models/wrn50_2-0641-83897ab9.pth.zip from https://github.com/osmr/imgclsmob/releases/download/v0.0.113/wrn50_2-0641-83897ab9.pth.zip...\n"
          ],
          "name": "stdout"
        }
      ]
    },
    {
      "cell_type": "code",
      "metadata": {
        "id": "Ih6N7Goo0r7n",
        "colab_type": "code",
        "colab": {}
      },
      "source": [
        ""
      ],
      "execution_count": 0,
      "outputs": []
    }
  ]
}