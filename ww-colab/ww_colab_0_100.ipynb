{
  "nbformat": 4,
  "nbformat_minor": 0,
  "metadata": {
    "colab": {
      "name": "ww_kdd2020_0_100.ipynb",
      "provenance": [],
      "collapsed_sections": [],
      "include_colab_link": true
    },
    "kernelspec": {
      "name": "python3",
      "display_name": "Python 3"
    }
  },
  "cells": [
    {
      "cell_type": "markdown",
      "metadata": {
        "id": "view-in-github",
        "colab_type": "text"
      },
      "source": [
        "<a href=\"https://colab.research.google.com/github/CalculatedContent/ww-colab/blob/master/ww_kdd2020_0_100.ipynb\" target=\"_parent\"><img src=\"https://colab.research.google.com/assets/colab-badge.svg\" alt=\"Open In Colab\"/></a>"
      ]
    },
    {
      "cell_type": "markdown",
      "metadata": {
        "id": "9XPqlpbuz3iP",
        "colab_type": "text"
      },
      "source": [
        "## **Setup**"
      ]
    },
    {
      "cell_type": "code",
      "metadata": {
        "id": "tPJRDcXy-pLo",
        "colab_type": "code",
        "colab": {}
      },
      "source": [
        "import pandas as pd\n",
        "import numpy as np\n",
        "import time\n",
        "import datetime as dt\n",
        "import itertools\n",
        "import os\n",
        "import statsmodels.api as sm\n",
        "import matplotlib.pyplot as plt\n",
        "from google.colab import files #Google colab ONLY"
      ],
      "execution_count": 0,
      "outputs": []
    },
    {
      "cell_type": "code",
      "metadata": {
        "id": "25bF1z3dEd2g",
        "colab_type": "code",
        "colab": {}
      },
      "source": [
        "istart = 0\n",
        "iend = istart+100"
      ],
      "execution_count": 0,
      "outputs": []
    },
    {
      "cell_type": "code",
      "metadata": {
        "id": "BNFrbs5i4Pgl",
        "colab_type": "code",
        "outputId": "5fc70966-2194-48dc-8515-7bf1c5944e33",
        "colab": {
          "base_uri": "https://localhost:8080/",
          "height": 34
        }
      },
      "source": [
        "## If export the output to Google Drive (colab ONLY) --> Optional\n",
        "from google.colab import drive\n",
        "drive.mount('/content/drive')"
      ],
      "execution_count": 3,
      "outputs": [
        {
          "output_type": "stream",
          "text": [
            "Drive already mounted at /content/drive; to attempt to forcibly remount, call drive.mount(\"/content/drive\", force_remount=True).\n"
          ],
          "name": "stdout"
        }
      ]
    },
    {
      "cell_type": "code",
      "metadata": {
        "id": "AiP5ak80E2US",
        "colab_type": "code",
        "colab": {}
      },
      "source": [
        "import sys\n",
        "path = '/content/drive/My Drive/kdd2020_cv'\n",
        "sys.path.append(path)"
      ],
      "execution_count": 0,
      "outputs": []
    },
    {
      "cell_type": "code",
      "metadata": {
        "id": "KmLi65LDgUWn",
        "colab_type": "code",
        "outputId": "480f7d0a-114f-4c83-953f-f2993e3c0010",
        "colab": {
          "base_uri": "https://localhost:8080/",
          "height": 34
        }
      },
      "source": [
        "# data*x* \"$path\"/wwdata-0.2.3\n",
        "!ls \"$path\"\n"
      ],
      "execution_count": 5,
      "outputs": [
        {
          "output_type": "stream",
          "text": [
            "wwdata-0.2.3\n"
          ],
          "name": "stdout"
        }
      ]
    },
    {
      "cell_type": "code",
      "metadata": {
        "id": "uHHgg91gb61f",
        "colab_type": "code",
        "outputId": "de2c2efc-cd9d-43b2-c776-e58e0e5da4ec",
        "colab": {
          "base_uri": "https://localhost:8080/",
          "height": 666
        }
      },
      "source": [
        "!pip install weightwatcher #install from source\n",
        "#!pip install powerlaw #needed if install ww from local"
      ],
      "execution_count": 6,
      "outputs": [
        {
          "output_type": "stream",
          "text": [
            "Requirement already satisfied: weightwatcher in /usr/local/lib/python3.6/dist-packages (0.2.7)\n",
            "Requirement already satisfied: sklearn in /usr/local/lib/python3.6/dist-packages (from weightwatcher) (0.0)\n",
            "Requirement already satisfied: powerlaw in /usr/local/lib/python3.6/dist-packages (from weightwatcher) (1.4.6)\n",
            "Requirement already satisfied: matplotlib in /usr/local/lib/python3.6/dist-packages (from weightwatcher) (3.1.2)\n",
            "Requirement already satisfied: tensorflow in /usr/local/lib/python3.6/dist-packages (from weightwatcher) (1.15.0)\n",
            "Requirement already satisfied: keras in /usr/local/lib/python3.6/dist-packages (from weightwatcher) (2.2.5)\n",
            "Requirement already satisfied: pandas in /usr/local/lib/python3.6/dist-packages (from weightwatcher) (0.25.3)\n",
            "Requirement already satisfied: numpy in /usr/local/lib/python3.6/dist-packages (from weightwatcher) (1.17.5)\n",
            "Requirement already satisfied: scikit-learn in /usr/local/lib/python3.6/dist-packages (from sklearn->weightwatcher) (0.22.1)\n",
            "Requirement already satisfied: scipy in /usr/local/lib/python3.6/dist-packages (from powerlaw->weightwatcher) (1.4.1)\n",
            "Requirement already satisfied: mpmath in /usr/local/lib/python3.6/dist-packages (from powerlaw->weightwatcher) (1.1.0)\n",
            "Requirement already satisfied: kiwisolver>=1.0.1 in /usr/local/lib/python3.6/dist-packages (from matplotlib->weightwatcher) (1.1.0)\n",
            "Requirement already satisfied: pyparsing!=2.0.4,!=2.1.2,!=2.1.6,>=2.0.1 in /usr/local/lib/python3.6/dist-packages (from matplotlib->weightwatcher) (2.4.6)\n",
            "Requirement already satisfied: cycler>=0.10 in /usr/local/lib/python3.6/dist-packages (from matplotlib->weightwatcher) (0.10.0)\n",
            "Requirement already satisfied: python-dateutil>=2.1 in /usr/local/lib/python3.6/dist-packages (from matplotlib->weightwatcher) (2.6.1)\n",
            "Requirement already satisfied: absl-py>=0.7.0 in /usr/local/lib/python3.6/dist-packages (from tensorflow->weightwatcher) (0.9.0)\n",
            "Requirement already satisfied: grpcio>=1.8.6 in /usr/local/lib/python3.6/dist-packages (from tensorflow->weightwatcher) (1.15.0)\n",
            "Requirement already satisfied: wheel>=0.26 in /usr/local/lib/python3.6/dist-packages (from tensorflow->weightwatcher) (0.33.6)\n",
            "Requirement already satisfied: six>=1.10.0 in /usr/local/lib/python3.6/dist-packages (from tensorflow->weightwatcher) (1.12.0)\n",
            "Requirement already satisfied: gast==0.2.2 in /usr/local/lib/python3.6/dist-packages (from tensorflow->weightwatcher) (0.2.2)\n",
            "Requirement already satisfied: keras-preprocessing>=1.0.5 in /usr/local/lib/python3.6/dist-packages (from tensorflow->weightwatcher) (1.1.0)\n",
            "Requirement already satisfied: wrapt>=1.11.1 in /usr/local/lib/python3.6/dist-packages (from tensorflow->weightwatcher) (1.11.2)\n",
            "Requirement already satisfied: keras-applications>=1.0.8 in /usr/local/lib/python3.6/dist-packages (from tensorflow->weightwatcher) (1.0.8)\n",
            "Requirement already satisfied: astor>=0.6.0 in /usr/local/lib/python3.6/dist-packages (from tensorflow->weightwatcher) (0.8.1)\n",
            "Requirement already satisfied: google-pasta>=0.1.6 in /usr/local/lib/python3.6/dist-packages (from tensorflow->weightwatcher) (0.1.8)\n",
            "Requirement already satisfied: opt-einsum>=2.3.2 in /usr/local/lib/python3.6/dist-packages (from tensorflow->weightwatcher) (3.1.0)\n",
            "Requirement already satisfied: termcolor>=1.1.0 in /usr/local/lib/python3.6/dist-packages (from tensorflow->weightwatcher) (1.1.0)\n",
            "Requirement already satisfied: tensorflow-estimator==1.15.1 in /usr/local/lib/python3.6/dist-packages (from tensorflow->weightwatcher) (1.15.1)\n",
            "Requirement already satisfied: tensorboard<1.16.0,>=1.15.0 in /usr/local/lib/python3.6/dist-packages (from tensorflow->weightwatcher) (1.15.0)\n",
            "Requirement already satisfied: protobuf>=3.6.1 in /usr/local/lib/python3.6/dist-packages (from tensorflow->weightwatcher) (3.10.0)\n",
            "Requirement already satisfied: pyyaml in /usr/local/lib/python3.6/dist-packages (from keras->weightwatcher) (3.13)\n",
            "Requirement already satisfied: h5py in /usr/local/lib/python3.6/dist-packages (from keras->weightwatcher) (2.8.0)\n",
            "Requirement already satisfied: pytz>=2017.2 in /usr/local/lib/python3.6/dist-packages (from pandas->weightwatcher) (2018.9)\n",
            "Requirement already satisfied: joblib>=0.11 in /usr/local/lib/python3.6/dist-packages (from scikit-learn->sklearn->weightwatcher) (0.14.1)\n",
            "Requirement already satisfied: setuptools in /usr/local/lib/python3.6/dist-packages (from kiwisolver>=1.0.1->matplotlib->weightwatcher) (42.0.2)\n",
            "Requirement already satisfied: werkzeug>=0.11.15 in /usr/local/lib/python3.6/dist-packages (from tensorboard<1.16.0,>=1.15.0->tensorflow->weightwatcher) (0.16.0)\n",
            "Requirement already satisfied: markdown>=2.6.8 in /usr/local/lib/python3.6/dist-packages (from tensorboard<1.16.0,>=1.15.0->tensorflow->weightwatcher) (3.1.1)\n"
          ],
          "name": "stdout"
        }
      ]
    },
    {
      "cell_type": "code",
      "metadata": {
        "id": "LHTAsJKtJ8qC",
        "colab_type": "code",
        "outputId": "a6f07840-1122-48e4-a5a2-9cfab3e53c62",
        "colab": {
          "base_uri": "https://localhost:8080/",
          "height": 80
        }
      },
      "source": [
        "import weightwatcher as ww\n",
        "\n",
        "# Suppress the powerlaw package warnings\n",
        "# \"powerlaw.py:700: RuntimeWarning: divide by zero encountered in true_divide\"\n",
        "# \"powerlaw.py:700: RuntimeWarning: invalid value encountered in true_divide\"\n",
        "import warnings\n",
        "warnings.simplefilter(action='ignore', category=RuntimeWarning)\n",
        "\n",
        "# crea\n",
        "import logging\n",
        "logger = logging.getLogger(\"imported_module\")\n",
        "logger.setLevel(logging.CRITICAL)"
      ],
      "execution_count": 7,
      "outputs": [
        {
          "output_type": "display_data",
          "data": {
            "text/html": [
              "<p style=\"color: red;\">\n",
              "The default version of TensorFlow in Colab will soon switch to TensorFlow 2.x.<br>\n",
              "We recommend you <a href=\"https://www.tensorflow.org/guide/migrate\" target=\"_blank\">upgrade</a> now \n",
              "or ensure your notebook will continue to use TensorFlow 1.x via the <code>%tensorflow_version 1.x</code> magic:\n",
              "<a href=\"https://colab.research.google.com/notebooks/tensorflow_version.ipynb\" target=\"_blank\">more info</a>.</p>\n"
            ],
            "text/plain": [
              "<IPython.core.display.HTML object>"
            ]
          },
          "metadata": {
            "tags": []
          }
        },
        {
          "output_type": "stream",
          "text": [
            "Using TensorFlow backend.\n"
          ],
          "name": "stderr"
        }
      ]
    },
    {
      "cell_type": "markdown",
      "metadata": {
        "id": "Ca8vO5g1Xzep",
        "colab_type": "text"
      },
      "source": [
        "# **PyTorchCV Models** \n",
        "\n",
        "## These cells need to be rerun multiple times to get all the data![alt text](https://)"
      ]
    },
    {
      "cell_type": "code",
      "metadata": {
        "id": "kXAg7rm2qn5Q",
        "colab_type": "code",
        "outputId": "2842b36e-c888-427a-df73-481fa56b0252",
        "colab": {
          "base_uri": "https://localhost:8080/",
          "height": 136
        }
      },
      "source": [
        "!pip install pytorchcv"
      ],
      "execution_count": 8,
      "outputs": [
        {
          "output_type": "stream",
          "text": [
            "Requirement already satisfied: pytorchcv in /usr/local/lib/python3.6/dist-packages (0.0.54)\n",
            "Requirement already satisfied: requests in /usr/local/lib/python3.6/dist-packages (from pytorchcv) (2.21.0)\n",
            "Requirement already satisfied: numpy in /usr/local/lib/python3.6/dist-packages (from pytorchcv) (1.17.5)\n",
            "Requirement already satisfied: certifi>=2017.4.17 in /usr/local/lib/python3.6/dist-packages (from requests->pytorchcv) (2019.11.28)\n",
            "Requirement already satisfied: idna<2.9,>=2.5 in /usr/local/lib/python3.6/dist-packages (from requests->pytorchcv) (2.8)\n",
            "Requirement already satisfied: urllib3<1.25,>=1.21.1 in /usr/local/lib/python3.6/dist-packages (from requests->pytorchcv) (1.24.3)\n",
            "Requirement already satisfied: chardet<3.1.0,>=3.0.2 in /usr/local/lib/python3.6/dist-packages (from requests->pytorchcv) (3.0.4)\n"
          ],
          "name": "stdout"
        }
      ]
    },
    {
      "cell_type": "code",
      "metadata": {
        "id": "NfGZcdKHYu7H",
        "colab_type": "code",
        "outputId": "e7031d5b-8ba5-451c-bd02-26fa0a5f6a4d",
        "colab": {
          "base_uri": "https://localhost:8080/",
          "height": 34
        }
      },
      "source": [
        "from pytorchcv.model_provider import get_model as ptcv_get_model\n",
        "import torch\n",
        "\n",
        "import pytorchcv\n",
        "import pytorchcv.models.model_store\n",
        "\n",
        "modelnames = pytorchcv.models.model_store._model_sha1.keys()\n",
        "modelnames = list(modelnames)\n",
        "print('{} models to examine'.format(len(modelnames)))"
      ],
      "execution_count": 9,
      "outputs": [
        {
          "output_type": "stream",
          "text": [
            "483 models to examine\n"
          ],
          "name": "stdout"
        }
      ]
    },
    {
      "cell_type": "code",
      "metadata": {
        "id": "Ys_-z4GJq3kD",
        "colab_type": "code",
        "outputId": "81f8d8b5-73df-4fa1-bb5b-e04470f7250c",
        "colab": {
          "base_uri": "https://localhost:8080/",
          "height": 122
        }
      },
      "source": [
        "## Takes about 10-15 hours to run 100 models as of 9/3/2019\n",
        "\n",
        "data = {}\n",
        "ss = time.time()\n",
        "i = 0\n",
        "notfound = []\n",
        "ww_error = []\n",
        "for modelname in modelnames[istart:iend]: \n",
        "    print(modelname)\n",
        "    try:\n",
        "        s = time.time()\n",
        "        model = ptcv_get_model(modelname, pretrained=True)\n",
        "\n",
        "    except:\n",
        "        notfound.append(modelname)\n",
        "        e = time.time()\n",
        "        print(\"{} not found\".format(modelname))\n",
        "        print('--------------------------------------------------------')\n",
        "        i += 1\n",
        "        continue\n",
        "\n",
        "    try:\n",
        "        watcher = ww.WeightWatcher(model=model, logger=logger)\n",
        "        results = watcher.analyze(alphas = True, spectralnorms=True, softranks=True, mp_fit = True)\n",
        "        e = time.time()\n",
        "        \n",
        "        data[modelname]=watcher.get_summary()\n",
        "        \n",
        "        print('time spent is {}'.format((e-s)/60.))\n",
        "        print('--------------------------------------------------------')\n",
        "        \n",
        "    except:\n",
        "        ww_error.append(modelname)\n",
        "        e = time.time()\n",
        "        print(\"Error in weightwatcher operation for {}\".format(modelname))\n",
        "        print('--------------------------------------------------------')\n",
        "        \n",
        "    i += 1\n",
        "\n",
        "    #Export/backup the results every 1 hour runtime or every 50 models  \n",
        "    if ((e - ss) > 60*60) or ((i - istart)%25 == 0): \n",
        "      \n",
        "        ddf = pd.DataFrame.from_dict(data).transpose()\n",
        "        ddf.to_excel(path + '/data_{}-{}_{}.xlsx'.format(istart, i, dt.date.today()))\n",
        "        \n",
        "        ss = time.time()\n",
        "        \n",
        "        #try:\n",
        "        #    !rm -rf /root/.torch/models #clean the memory\n",
        "        #except:\n",
        "        #    pass\n",
        "          \n",
        "    if i >= iend: #Export when all models are finished\n",
        "      \n",
        "        ddf = pd.DataFrame.from_dict(data).transpose()\n",
        "        ddf.to_excel(path + '/data_{}-{}_{}.xlsx'.format(istart, i, dt.date.today()))\n",
        "        \n",
        "        # break\n",
        "\n",
        "ddf = pd.DataFrame.from_dict(data).transpose()\n",
        "ddf.to_excel(path + '/data_{}-{}_{}.xlsx'.format(istart, i, dt.date.today()))"
      ],
      "execution_count": 0,
      "outputs": [
        {
          "output_type": "stream",
          "text": [
            "alexnet\n",
            "time spent is 7.004786507288615\n",
            "--------------------------------------------------------\n",
            "alexnetb\n",
            "Downloading /root/.torch/models/alexnetb-1900-55176c6a.pth.zip from https://github.com/osmr/imgclsmob/releases/download/v0.0.384/alexnetb-1900-55176c6a.pth.zip...\n"
          ],
          "name": "stdout"
        }
      ]
    },
    {
      "cell_type": "code",
      "metadata": {
        "id": "Ih6N7Goo0r7n",
        "colab_type": "code",
        "colab": {}
      },
      "source": [
        ""
      ],
      "execution_count": 0,
      "outputs": []
    }
  ]
}