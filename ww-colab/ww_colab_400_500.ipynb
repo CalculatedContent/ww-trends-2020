{
  "nbformat": 4,
  "nbformat_minor": 0,
  "metadata": {
    "colab": {
      "name": "ww_kdd2020_400_500.ipynb",
      "provenance": [],
      "collapsed_sections": [],
      "include_colab_link": true
    },
    "kernelspec": {
      "name": "python3",
      "display_name": "Python 3"
    }
  },
  "cells": [
    {
      "cell_type": "markdown",
      "metadata": {
        "id": "view-in-github",
        "colab_type": "text"
      },
      "source": [
        "<a href=\"https://colab.research.google.com/github/CalculatedContent/ww-colab/blob/master/ww_kdd2020_400_500.ipynb\" target=\"_parent\"><img src=\"https://colab.research.google.com/assets/colab-badge.svg\" alt=\"Open In Colab\"/></a>"
      ]
    },
    {
      "cell_type": "markdown",
      "metadata": {
        "id": "9XPqlpbuz3iP",
        "colab_type": "text"
      },
      "source": [
        "## **Setup**"
      ]
    },
    {
      "cell_type": "code",
      "metadata": {
        "id": "tPJRDcXy-pLo",
        "colab_type": "code",
        "colab": {}
      },
      "source": [
        "import pandas as pd\n",
        "import numpy as np\n",
        "import time\n",
        "import datetime as dt\n",
        "import itertools\n",
        "import os\n",
        "import statsmodels.api as sm\n",
        "import matplotlib.pyplot as plt\n",
        "from google.colab import files #Google colab ONLY"
      ],
      "execution_count": 0,
      "outputs": []
    },
    {
      "cell_type": "code",
      "metadata": {
        "id": "VqAjIhBwESwG",
        "colab_type": "code",
        "colab": {}
      },
      "source": [
        "istart = 400\n",
        "iend = istart+100"
      ],
      "execution_count": 0,
      "outputs": []
    },
    {
      "cell_type": "code",
      "metadata": {
        "id": "BNFrbs5i4Pgl",
        "colab_type": "code",
        "outputId": "e884b5d6-5718-408a-b8d7-a4f6054031a5",
        "colab": {
          "base_uri": "https://localhost:8080/",
          "height": 34
        }
      },
      "source": [
        "## If export the output to Google Drive (colab ONLY) --> Optional\n",
        "from google.colab import drive\n",
        "drive.mount('/content/drive')\n"
      ],
      "execution_count": 3,
      "outputs": [
        {
          "output_type": "stream",
          "text": [
            "Drive already mounted at /content/drive; to attempt to forcibly remount, call drive.mount(\"/content/drive\", force_remount=True).\n"
          ],
          "name": "stdout"
        }
      ]
    },
    {
      "cell_type": "code",
      "metadata": {
        "id": "8RdciMbAE56J",
        "colab_type": "code",
        "colab": {}
      },
      "source": [
        "import sys\n",
        "path = '/content/drive/My Drive/kdd2020_cv'\n",
        "sys.path.append(path)"
      ],
      "execution_count": 0,
      "outputs": []
    },
    {
      "cell_type": "code",
      "metadata": {
        "id": "KmLi65LDgUWn",
        "colab_type": "code",
        "colab": {
          "base_uri": "https://localhost:8080/",
          "height": 34
        },
        "outputId": "57172ab5-d6c1-458b-daa5-648bd3eb9bd9"
      },
      "source": [
        "!ls \"$path\""
      ],
      "execution_count": 5,
      "outputs": [
        {
          "output_type": "stream",
          "text": [
            "wwdata-0.2.3\n"
          ],
          "name": "stdout"
        }
      ]
    },
    {
      "cell_type": "code",
      "metadata": {
        "id": "uHHgg91gb61f",
        "colab_type": "code",
        "outputId": "efa4caf0-3341-42bb-ca13-f246bd766ea6",
        "colab": {
          "base_uri": "https://localhost:8080/",
          "height": 666
        }
      },
      "source": [
        "!pip install weightwatcher #install from source\n",
        "#!pip install powerlaw #needed if install ww from local"
      ],
      "execution_count": 6,
      "outputs": [
        {
          "output_type": "stream",
          "text": [
            "Requirement already satisfied: weightwatcher in /usr/local/lib/python3.6/dist-packages (0.2.7)\n",
            "Requirement already satisfied: sklearn in /usr/local/lib/python3.6/dist-packages (from weightwatcher) (0.0)\n",
            "Requirement already satisfied: tensorflow in /usr/local/lib/python3.6/dist-packages (from weightwatcher) (1.15.0)\n",
            "Requirement already satisfied: powerlaw in /usr/local/lib/python3.6/dist-packages (from weightwatcher) (1.4.6)\n",
            "Requirement already satisfied: numpy in /usr/local/lib/python3.6/dist-packages (from weightwatcher) (1.17.5)\n",
            "Requirement already satisfied: pandas in /usr/local/lib/python3.6/dist-packages (from weightwatcher) (0.25.3)\n",
            "Requirement already satisfied: matplotlib in /usr/local/lib/python3.6/dist-packages (from weightwatcher) (3.1.2)\n",
            "Requirement already satisfied: keras in /usr/local/lib/python3.6/dist-packages (from weightwatcher) (2.2.5)\n",
            "Requirement already satisfied: scikit-learn in /usr/local/lib/python3.6/dist-packages (from sklearn->weightwatcher) (0.22.1)\n",
            "Requirement already satisfied: six>=1.10.0 in /usr/local/lib/python3.6/dist-packages (from tensorflow->weightwatcher) (1.12.0)\n",
            "Requirement already satisfied: gast==0.2.2 in /usr/local/lib/python3.6/dist-packages (from tensorflow->weightwatcher) (0.2.2)\n",
            "Requirement already satisfied: tensorboard<1.16.0,>=1.15.0 in /usr/local/lib/python3.6/dist-packages (from tensorflow->weightwatcher) (1.15.0)\n",
            "Requirement already satisfied: wheel>=0.26 in /usr/local/lib/python3.6/dist-packages (from tensorflow->weightwatcher) (0.33.6)\n",
            "Requirement already satisfied: absl-py>=0.7.0 in /usr/local/lib/python3.6/dist-packages (from tensorflow->weightwatcher) (0.9.0)\n",
            "Requirement already satisfied: wrapt>=1.11.1 in /usr/local/lib/python3.6/dist-packages (from tensorflow->weightwatcher) (1.11.2)\n",
            "Requirement already satisfied: astor>=0.6.0 in /usr/local/lib/python3.6/dist-packages (from tensorflow->weightwatcher) (0.8.1)\n",
            "Requirement already satisfied: keras-applications>=1.0.8 in /usr/local/lib/python3.6/dist-packages (from tensorflow->weightwatcher) (1.0.8)\n",
            "Requirement already satisfied: keras-preprocessing>=1.0.5 in /usr/local/lib/python3.6/dist-packages (from tensorflow->weightwatcher) (1.1.0)\n",
            "Requirement already satisfied: tensorflow-estimator==1.15.1 in /usr/local/lib/python3.6/dist-packages (from tensorflow->weightwatcher) (1.15.1)\n",
            "Requirement already satisfied: google-pasta>=0.1.6 in /usr/local/lib/python3.6/dist-packages (from tensorflow->weightwatcher) (0.1.8)\n",
            "Requirement already satisfied: grpcio>=1.8.6 in /usr/local/lib/python3.6/dist-packages (from tensorflow->weightwatcher) (1.15.0)\n",
            "Requirement already satisfied: opt-einsum>=2.3.2 in /usr/local/lib/python3.6/dist-packages (from tensorflow->weightwatcher) (3.1.0)\n",
            "Requirement already satisfied: termcolor>=1.1.0 in /usr/local/lib/python3.6/dist-packages (from tensorflow->weightwatcher) (1.1.0)\n",
            "Requirement already satisfied: protobuf>=3.6.1 in /usr/local/lib/python3.6/dist-packages (from tensorflow->weightwatcher) (3.10.0)\n",
            "Requirement already satisfied: scipy in /usr/local/lib/python3.6/dist-packages (from powerlaw->weightwatcher) (1.4.1)\n",
            "Requirement already satisfied: mpmath in /usr/local/lib/python3.6/dist-packages (from powerlaw->weightwatcher) (1.1.0)\n",
            "Requirement already satisfied: python-dateutil>=2.6.1 in /usr/local/lib/python3.6/dist-packages (from pandas->weightwatcher) (2.6.1)\n",
            "Requirement already satisfied: pytz>=2017.2 in /usr/local/lib/python3.6/dist-packages (from pandas->weightwatcher) (2018.9)\n",
            "Requirement already satisfied: kiwisolver>=1.0.1 in /usr/local/lib/python3.6/dist-packages (from matplotlib->weightwatcher) (1.1.0)\n",
            "Requirement already satisfied: pyparsing!=2.0.4,!=2.1.2,!=2.1.6,>=2.0.1 in /usr/local/lib/python3.6/dist-packages (from matplotlib->weightwatcher) (2.4.6)\n",
            "Requirement already satisfied: cycler>=0.10 in /usr/local/lib/python3.6/dist-packages (from matplotlib->weightwatcher) (0.10.0)\n",
            "Requirement already satisfied: pyyaml in /usr/local/lib/python3.6/dist-packages (from keras->weightwatcher) (3.13)\n",
            "Requirement already satisfied: h5py in /usr/local/lib/python3.6/dist-packages (from keras->weightwatcher) (2.8.0)\n",
            "Requirement already satisfied: joblib>=0.11 in /usr/local/lib/python3.6/dist-packages (from scikit-learn->sklearn->weightwatcher) (0.14.1)\n",
            "Requirement already satisfied: markdown>=2.6.8 in /usr/local/lib/python3.6/dist-packages (from tensorboard<1.16.0,>=1.15.0->tensorflow->weightwatcher) (3.1.1)\n",
            "Requirement already satisfied: setuptools>=41.0.0 in /usr/local/lib/python3.6/dist-packages (from tensorboard<1.16.0,>=1.15.0->tensorflow->weightwatcher) (42.0.2)\n",
            "Requirement already satisfied: werkzeug>=0.11.15 in /usr/local/lib/python3.6/dist-packages (from tensorboard<1.16.0,>=1.15.0->tensorflow->weightwatcher) (0.16.0)\n"
          ],
          "name": "stdout"
        }
      ]
    },
    {
      "cell_type": "code",
      "metadata": {
        "id": "LHTAsJKtJ8qC",
        "colab_type": "code",
        "outputId": "a7f0b182-bddc-445c-a002-d1f9af39001b",
        "colab": {
          "base_uri": "https://localhost:8080/",
          "height": 80
        }
      },
      "source": [
        "import weightwatcher as ww\n",
        "\n",
        "# Suppress the powerlaw package warnings\n",
        "# \"powerlaw.py:700: RuntimeWarning: divide by zero encountered in true_divide\"\n",
        "# \"powerlaw.py:700: RuntimeWarning: invalid value encountered in true_divide\"\n",
        "import warnings\n",
        "warnings.simplefilter(action='ignore', category=RuntimeWarning)\n",
        "\n",
        "# crea\n",
        "import logging\n",
        "logger = logging.getLogger(\"imported_module\")\n",
        "logger.setLevel(logging.CRITICAL)"
      ],
      "execution_count": 7,
      "outputs": [
        {
          "output_type": "display_data",
          "data": {
            "text/html": [
              "<p style=\"color: red;\">\n",
              "The default version of TensorFlow in Colab will soon switch to TensorFlow 2.x.<br>\n",
              "We recommend you <a href=\"https://www.tensorflow.org/guide/migrate\" target=\"_blank\">upgrade</a> now \n",
              "or ensure your notebook will continue to use TensorFlow 1.x via the <code>%tensorflow_version 1.x</code> magic:\n",
              "<a href=\"https://colab.research.google.com/notebooks/tensorflow_version.ipynb\" target=\"_blank\">more info</a>.</p>\n"
            ],
            "text/plain": [
              "<IPython.core.display.HTML object>"
            ]
          },
          "metadata": {
            "tags": []
          }
        },
        {
          "output_type": "stream",
          "text": [
            "Using TensorFlow backend.\n"
          ],
          "name": "stderr"
        }
      ]
    },
    {
      "cell_type": "markdown",
      "metadata": {
        "id": "Ca8vO5g1Xzep",
        "colab_type": "text"
      },
      "source": [
        "## **PyTorch Models**"
      ]
    },
    {
      "cell_type": "code",
      "metadata": {
        "id": "kXAg7rm2qn5Q",
        "colab_type": "code",
        "outputId": "706756ab-654c-40a1-bba9-3c6831ed4e06",
        "colab": {
          "base_uri": "https://localhost:8080/",
          "height": 224
        }
      },
      "source": [
        "!pip install pytorchcv"
      ],
      "execution_count": 8,
      "outputs": [
        {
          "output_type": "stream",
          "text": [
            "Collecting pytorchcv\n",
            "\u001b[?25l  Downloading https://files.pythonhosted.org/packages/a2/ce/72d2a2cddeffe5476e85139b71b12a607c07fde9d6a3bdb38b94a9336e67/pytorchcv-0.0.54-py2.py3-none-any.whl (390kB)\n",
            "\r\u001b[K     |▉                               | 10kB 20.1MB/s eta 0:00:01\r\u001b[K     |█▊                              | 20kB 3.3MB/s eta 0:00:01\r\u001b[K     |██▌                             | 30kB 4.7MB/s eta 0:00:01\r\u001b[K     |███▍                            | 40kB 3.1MB/s eta 0:00:01\r\u001b[K     |████▏                           | 51kB 3.8MB/s eta 0:00:01\r\u001b[K     |█████                           | 61kB 4.5MB/s eta 0:00:01\r\u001b[K     |█████▉                          | 71kB 5.2MB/s eta 0:00:01\r\u001b[K     |██████▊                         | 81kB 5.8MB/s eta 0:00:01\r\u001b[K     |███████▋                        | 92kB 6.5MB/s eta 0:00:01\r\u001b[K     |████████▍                       | 102kB 5.0MB/s eta 0:00:01\r\u001b[K     |█████████▎                      | 112kB 5.0MB/s eta 0:00:01\r\u001b[K     |██████████                      | 122kB 5.0MB/s eta 0:00:01\r\u001b[K     |███████████                     | 133kB 5.0MB/s eta 0:00:01\r\u001b[K     |███████████▊                    | 143kB 5.0MB/s eta 0:00:01\r\u001b[K     |████████████▋                   | 153kB 5.0MB/s eta 0:00:01\r\u001b[K     |█████████████▍                  | 163kB 5.0MB/s eta 0:00:01\r\u001b[K     |██████████████▎                 | 174kB 5.0MB/s eta 0:00:01\r\u001b[K     |███████████████▏                | 184kB 5.0MB/s eta 0:00:01\r\u001b[K     |████████████████                | 194kB 5.0MB/s eta 0:00:01\r\u001b[K     |████████████████▉               | 204kB 5.0MB/s eta 0:00:01\r\u001b[K     |█████████████████▋              | 215kB 5.0MB/s eta 0:00:01\r\u001b[K     |██████████████████▌             | 225kB 5.0MB/s eta 0:00:01\r\u001b[K     |███████████████████▎            | 235kB 5.0MB/s eta 0:00:01\r\u001b[K     |████████████████████▏           | 245kB 5.0MB/s eta 0:00:01\r\u001b[K     |█████████████████████           | 256kB 5.0MB/s eta 0:00:01\r\u001b[K     |█████████████████████▉          | 266kB 5.0MB/s eta 0:00:01\r\u001b[K     |██████████████████████▊         | 276kB 5.0MB/s eta 0:00:01\r\u001b[K     |███████████████████████▌        | 286kB 5.0MB/s eta 0:00:01\r\u001b[K     |████████████████████████▍       | 296kB 5.0MB/s eta 0:00:01\r\u001b[K     |█████████████████████████▏      | 307kB 5.0MB/s eta 0:00:01\r\u001b[K     |██████████████████████████      | 317kB 5.0MB/s eta 0:00:01\r\u001b[K     |██████████████████████████▉     | 327kB 5.0MB/s eta 0:00:01\r\u001b[K     |███████████████████████████▊    | 337kB 5.0MB/s eta 0:00:01\r\u001b[K     |████████████████████████████▋   | 348kB 5.0MB/s eta 0:00:01\r\u001b[K     |█████████████████████████████▍  | 358kB 5.0MB/s eta 0:00:01\r\u001b[K     |██████████████████████████████▎ | 368kB 5.0MB/s eta 0:00:01\r\u001b[K     |███████████████████████████████ | 378kB 5.0MB/s eta 0:00:01\r\u001b[K     |████████████████████████████████| 389kB 5.0MB/s eta 0:00:01\r\u001b[K     |████████████████████████████████| 399kB 5.0MB/s \n",
            "\u001b[?25hRequirement already satisfied: requests in /usr/local/lib/python3.6/dist-packages (from pytorchcv) (2.21.0)\n",
            "Requirement already satisfied: numpy in /usr/local/lib/python3.6/dist-packages (from pytorchcv) (1.17.5)\n",
            "Requirement already satisfied: urllib3<1.25,>=1.21.1 in /usr/local/lib/python3.6/dist-packages (from requests->pytorchcv) (1.24.3)\n",
            "Requirement already satisfied: chardet<3.1.0,>=3.0.2 in /usr/local/lib/python3.6/dist-packages (from requests->pytorchcv) (3.0.4)\n",
            "Requirement already satisfied: idna<2.9,>=2.5 in /usr/local/lib/python3.6/dist-packages (from requests->pytorchcv) (2.8)\n",
            "Requirement already satisfied: certifi>=2017.4.17 in /usr/local/lib/python3.6/dist-packages (from requests->pytorchcv) (2019.11.28)\n",
            "Installing collected packages: pytorchcv\n",
            "Successfully installed pytorchcv-0.0.54\n"
          ],
          "name": "stdout"
        }
      ]
    },
    {
      "cell_type": "code",
      "metadata": {
        "id": "NfGZcdKHYu7H",
        "colab_type": "code",
        "outputId": "9e616a2d-c1b2-4d9e-ef9a-58d42d414a18",
        "colab": {
          "base_uri": "https://localhost:8080/",
          "height": 34
        }
      },
      "source": [
        "import pytorchcv\n",
        "import pytorchcv.models.model_store\n",
        "\n",
        "from pytorchcv.model_provider import get_model as ptcv_get_model\n",
        "import torch\n",
        "\n",
        "modelnames = pytorchcv.models.model_store._model_sha1.keys()\n",
        "modelnames = list(modelnames)\n",
        "print('{} models to examine'.format(len(modelnames)))"
      ],
      "execution_count": 9,
      "outputs": [
        {
          "output_type": "stream",
          "text": [
            "483 models to examine\n"
          ],
          "name": "stdout"
        }
      ]
    },
    {
      "cell_type": "code",
      "metadata": {
        "id": "Ys_-z4GJq3kD",
        "colab_type": "code",
        "outputId": "418f8aa9-dd2d-4612-fc63-5adb16d83faf",
        "colab": {
          "base_uri": "https://localhost:8080/",
          "height": 71
        }
      },
      "source": [
        "## Takes about 10-15 hours to run 100 models as of 9/3/2019\n",
        "\n",
        "data = {}\n",
        "ss = time.time()\n",
        "i = 0\n",
        "notfound = []\n",
        "ww_error = []\n",
        "for modelname in modelnames[istart:iend]: \n",
        "    print(modelname)\n",
        "    try:\n",
        "        s = time.time()\n",
        "        model = ptcv_get_model(modelname, pretrained=True)\n",
        "\n",
        "    except:\n",
        "        notfound.append(modelname)\n",
        "        e = time.time()\n",
        "        print(\"{} not found\".format(modelname))\n",
        "        print('--------------------------------------------------------')\n",
        "        i += 1\n",
        "        continue\n",
        "\n",
        "    try:\n",
        "        watcher = ww.WeightWatcher(model=model, logger=logger)\n",
        "        results = watcher.analyze(alphas = True, spectralnorms=True, softranks=True, mp_fit = True, normalize = True)\n",
        "        e = time.time()\n",
        "        \n",
        "        data[modelname]=watcher.get_summary()\n",
        "        \n",
        "        print('time spent is {}'.format((e-s)/60.))\n",
        "        print('--------------------------------------------------------')\n",
        "        \n",
        "    except:\n",
        "        ww_error.append(modelname)\n",
        "        e = time.time()\n",
        "        print(\"Error in weightwatcher operation for {}\".format(modelname))\n",
        "        print('--------------------------------------------------------')\n",
        "        \n",
        "    i += 1\n",
        "\n",
        "    #Export/backup the results every 1 hour runtime or every 50 models  \n",
        "    if ((e - ss) > 60*60) or ((i - istart)%25 == 0): \n",
        "      \n",
        "        ddf = pd.DataFrame.from_dict(data).transpose()\n",
        "        ddf.to_excel(path + '/data_{}-{}_{}.xlsx'.format(istart, i, dt.date.today()))\n",
        "        \n",
        "        ss = time.time()\n",
        "        \n",
        "        #try:\n",
        "        #    !rm -rf /root/.torch/models #clean the memory\n",
        "        #except:\n",
        "        #    pass\n",
        "          \n",
        "    if i >= iend: #Export when all models are finished\n",
        "      \n",
        "        ddf = pd.DataFrame.from_dict(data).transpose()\n",
        "        ddf.to_excel(path + '/data_{}-{}_{}.xlsx'.format(istart, i, dt.date.today()))\n",
        "        \n",
        "        # break\n",
        "\n",
        "ddf = pd.DataFrame.from_dict(data).transpose()\n",
        "ddf.to_excel(path + '/data_{}-{}_{}.xlsx'.format(istart, i, dt.date.today()))"
      ],
      "execution_count": 0,
      "outputs": [
        {
          "output_type": "stream",
          "text": [
            "wrn28_10_cifar100\n",
            "Downloading /root/.torch/models/wrn28_10_cifar100-1788-8c3fe818.pth.zip from https://github.com/osmr/imgclsmob/releases/download/v0.0.320/wrn28_10_cifar100-1788-8c3fe818.pth.zip...\n"
          ],
          "name": "stdout"
        }
      ]
    }
  ]
}