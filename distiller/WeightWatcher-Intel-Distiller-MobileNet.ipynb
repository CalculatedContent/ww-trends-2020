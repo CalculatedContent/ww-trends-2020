{
 "cells": [
  {
   "cell_type": "markdown",
   "metadata": {},
   "source": [
    "# MobileNet Models\n",
    "\n",
    "### AGP Pruning \n",
    "\n",
    "\n",
    "https://nervanasystems.github.io/distiller/model_zoo.html\n",
    "\n",
    "Checkpoints:\n",
    "\n",
    "https://s3-us-west-1.amazonaws.com/nndistiller/agp-pruning/mobilenet/checkpoint.pth.tar\n",
    "\n",
    "BaseLine:\n",
    "\n",
    "https://github.com/marvis/pytorch-mobilenet\n",
    "\n",
    "\n",
    "But I would need to retrain"
   ]
  },
  {
   "cell_type": "code",
   "execution_count": 1,
   "metadata": {
    "ExecuteTime": {
     "end_time": "2019-03-06T02:23:08.286445Z",
     "start_time": "2019-03-06T02:23:08.276479Z"
    }
   },
   "outputs": [],
   "source": [
    "# Suppress the powerlaw package warnings\n",
    "# \"powerlaw.py:700: RuntimeWarning: divide by zero encountered in true_divide\"\n",
    "# \"powerlaw.py:700: RuntimeWarning: invalid value encountered in true_divide\"\n",
    "import warnings\n",
    "warnings.simplefilter(action='ignore', category=RuntimeWarning)"
   ]
  },
  {
   "cell_type": "code",
   "execution_count": 11,
   "metadata": {
    "ExecuteTime": {
     "end_time": "2019-03-06T00:33:16.711740Z",
     "start_time": "2019-03-06T00:33:06.655926Z"
    },
    "scrolled": true
   },
   "outputs": [],
   "source": [
    "# Load some common jupyter code\n",
    "%run './distiller_jupyter_helpers.ipynb'\n",
    "from distiller.models import create_model\n",
    "from distiller.apputils import *\n",
    "import qgrid\n",
    "\n",
    "from ipywidgets import *\n",
    "from bqplot import *\n",
    "import bqplot.pyplot as bqplt\n",
    "from functools import partial\n",
    "\n",
    "import weightwatcher as ww\n",
    "import torchvision.models as models\n",
    "\n",
    "\n",
    "import logging\n",
    "logging.basicConfig(level=logging.INFO)\n",
    "logger = logging.getLogger(__name__)\n",
    "\n",
    "logger.setLevel(logging.INFO)\n",
    "\n",
    "import matplotlib\n",
    "import numpy as np\n",
    "import matplotlib.pyplot as plt\n",
    "%matplotlib inline \n",
    "\n",
    "marker_size = 75\n",
    "plt.rcParams['figure.figsize'] = [5,5]\n",
    "matplotlib.rcParams.update({'font.size': 20})\n",
    "legend_prop={'size':16}"
   ]
  },
  {
   "cell_type": "code",
   "execution_count": 3,
   "metadata": {},
   "outputs": [
    {
     "name": "stdout",
     "output_type": "stream",
     "text": [
      "rm: checkpoint.pth.tar: No such file or directory\n",
      "--2019-04-17 21:02:39--  https://s3-us-west-1.amazonaws.com/nndistiller/agp-pruning/mobilenet/checkpoint.pth.tar\n",
      "Resolving s3-us-west-1.amazonaws.com (s3-us-west-1.amazonaws.com)... 52.219.28.25\n",
      "Connecting to s3-us-west-1.amazonaws.com (s3-us-west-1.amazonaws.com)|52.219.28.25|:443... connected.\n",
      "HTTP request sent, awaiting response... 200 OK\n",
      "Length: 50527563 (48M) [application/x-tar]\n",
      "Saving to: ‘checkpoint.pth.tar’\n",
      "\n",
      "checkpoint.pth.tar  100%[===================>]  48.19M  8.14MB/s    in 7.8s    \n",
      "\n",
      "2019-04-17 21:02:47 (6.20 MB/s) - ‘checkpoint.pth.tar’ saved [50527563/50527563]\n",
      "\n"
     ]
    }
   ],
   "source": [
    "!rm checkpoint.pth.tar \n",
    "!wget https://s3-us-west-1.amazonaws.com/nndistiller/agp-pruning/mobilenet/checkpoint.pth.tar \n",
    "!mv checkpoint.pth.tar  mobilenet_finetuned.pth.tar \n"
   ]
  },
  {
   "cell_type": "code",
   "execution_count": 4,
   "metadata": {},
   "outputs": [
    {
     "name": "stdout",
     "output_type": "stream",
     "text": [
      "mobilenet_finetuned.pth.tar\r\n"
     ]
    }
   ],
   "source": [
    "!ls mobilenet*tar"
   ]
  },
  {
   "cell_type": "code",
   "execution_count": 8,
   "metadata": {
    "ExecuteTime": {
     "end_time": "2019-03-06T02:04:33.004059Z",
     "start_time": "2019-03-06T02:04:32.993319Z"
    }
   },
   "outputs": [],
   "source": [
    "cpfiles = {\n",
    "    'mobilenet_finetuned.pth.tar': 66.24\n",
    "}"
   ]
  },
  {
   "cell_type": "code",
   "execution_count": 9,
   "metadata": {
    "ExecuteTime": {
     "end_time": "2019-03-06T02:25:24.713288Z",
     "start_time": "2019-03-06T02:23:15.624381Z"
    }
   },
   "outputs": [
    {
     "name": "stderr",
     "output_type": "stream",
     "text": [
      "INFO:__main__:mobilenet_finetuned.pth.tar\n",
      "INFO:root:=> using mobilenet model for ImageNet\n",
      "INFO:root:=> loading checkpoint mobilenet_finetuned.pth.tar\n",
      "INFO:root:=> Checkpoint contents:\n",
      "╒═══════════════════╤═════════════╤═══════════════════╕\n",
      "│ Key               │ Type        │ Value             │\n",
      "╞═══════════════════╪═════════════╪═══════════════════╡\n",
      "│ arch              │ str         │ mobilenet         │\n",
      "├───────────────────┼─────────────┼───────────────────┤\n",
      "│ best_top1         │ float       │ 66.24075056979612 │\n",
      "├───────────────────┼─────────────┼───────────────────┤\n",
      "│ compression_sched │ dict        │                   │\n",
      "├───────────────────┼─────────────┼───────────────────┤\n",
      "│ epoch             │ int         │ 199               │\n",
      "├───────────────────┼─────────────┼───────────────────┤\n",
      "│ optimizer         │ dict        │                   │\n",
      "├───────────────────┼─────────────┼───────────────────┤\n",
      "│ state_dict        │ OrderedDict │                   │\n",
      "╘═══════════════════╧═════════════╧═══════════════════╛\n",
      "\n",
      "INFO:root:Loaded compression schedule from checkpoint (epoch 199)\n",
      "WARNING:root:Optimizer could not be loaded from checkpoint.\n",
      "INFO:root:=> loaded checkpoint 'mobilenet_finetuned.pth.tar' (epoch 199)\n",
      "INFO:__main__:\n",
      "WeightWatcher v0.1.2 by Calculation Consulting\n",
      "Analyze weight matrices of Deep Neural Networks\n",
      "https://calculationconsulting.com/\n",
      "python      version 3.6.5 |Anaconda, Inc.| (default, Apr 26 2018, 08:42:37) \n",
      "[GCC 4.2.1 Compatible Clang 4.0.1 (tags/RELEASE_401/final)]\n",
      "numpy       version 1.15.3\n",
      "tensforflow version 1.10.1\n",
      "keras       version 2.2.2\n",
      "INFO:__main__:Analyzing model\n",
      "INFO:__main__:### Printing results ###\n",
      "INFO:__main__:Norm: min: 7.638974189758301, max: 51.43247985839844, avg: 16.742813110351562\n",
      "INFO:__main__:Norm compound: min: 7.638974189758301, max: 51.43247985839844, avg: 16.742813110351562\n",
      "INFO:__main__:LogNorm: min: 0.8830350637435913, max: 1.7112374305725098, avg: 1.1714688539505005\n",
      "INFO:__main__:LogNorm compound: min: 0.8830350637435913, max: 1.7112374305725098, avg: 1.1714688539505005\n",
      "INFO:__main__:Alpha: min: 1.840991756620875, max: 6.223142497728393, avg: 3.6672184782459527\n",
      "INFO:__main__:Alpha compound: min: 1.840991756620875, max: 6.223142497728393, avg: 3.6672184782459527\n",
      "INFO:__main__:Alpha Weighted: min: 1.216333639877029, max: 6.206494256354547, avg: 3.396655655121803\n",
      "INFO:__main__:Alpha Weighted compound: min: 1.216333639877029, max: 6.206494256354547, avg: 3.396655655121803\n"
     ]
    }
   ],
   "source": [
    "results = {}\n",
    "\n",
    "for file, accuracy in cpfiles.items():\n",
    "    logger.info(file)\n",
    "    checkpoint_file = file\n",
    "\n",
    "    try:\n",
    "        mobilenet_model = create_model(False, 'imagenet', 'mobilenet', parallel=True)\n",
    "        load_checkpoint(mobilenet_model, checkpoint_file);\n",
    "        watcher = ww.WeightWatcher(model=mobilenet_model, logger=logger)\n",
    "        watcher.analyze(compute_alphas=True)\n",
    "        summary = watcher.get_summary()\n",
    "        summary['accuracy'] = accuracy\n",
    "        results[file] = summary\n",
    "    except Exception as e:\n",
    "        print(\"Did you forget to download the checkpoint file?\")\n",
    "        raise e"
   ]
  },
  {
   "cell_type": "code",
   "execution_count": null,
   "metadata": {},
   "outputs": [],
   "source": []
  }
 ],
 "metadata": {
  "kernelspec": {
   "display_name": "Python 3",
   "language": "python",
   "name": "python3"
  },
  "language_info": {
   "codemirror_mode": {
    "name": "ipython",
    "version": 3
   },
   "file_extension": ".py",
   "mimetype": "text/x-python",
   "name": "python",
   "nbconvert_exporter": "python",
   "pygments_lexer": "ipython3",
   "version": "3.6.5"
  }
 },
 "nbformat": 4,
 "nbformat_minor": 2
}
